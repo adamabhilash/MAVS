{
 "cells": [
  {
   "cell_type": "code",
   "execution_count": 1,
   "id": "000e62c9",
   "metadata": {},
   "outputs": [
    {
     "name": "stdout",
     "output_type": "stream",
     "text": [
      "   room_id      start_timestamp  number_of_astronauts\n",
      "0        5  2022-01-01 00:00:00                    18\n",
      "1        5  2022-01-01 00:15:00                    18\n",
      "2        5  2022-01-01 00:30:00                    18\n",
      "3        5  2022-01-01 00:45:00                    18\n",
      "4        5  2022-01-01 01:00:00                    18\n"
     ]
    }
   ],
   "source": [
    "import pandas as pd\n",
    "\n",
    "# load the csv file into a pandas dataframe\n",
    "df = pd.read_csv('output_dataset.csv')\n",
    "\n",
    "# print the first few rows of the dataframe to check if the data is loaded correctly\n",
    "print(df.head())\n"
   ]
  },
  {
   "cell_type": "code",
   "execution_count": 2,
   "id": "faf6f6db",
   "metadata": {},
   "outputs": [
    {
     "name": "stdout",
     "output_type": "stream",
     "text": [
      "   room_id  start_timestamp  number_of_astronauts   initial_timestamp  hour  \\\n",
      "0        5     1.640995e+09                    18 2022-01-01 00:00:00     1   \n",
      "1        5     1.640996e+09                    18 2022-01-01 00:15:00     1   \n",
      "2        5     1.640997e+09                    18 2022-01-01 00:30:00     1   \n",
      "3        5     1.640998e+09                    18 2022-01-01 00:45:00     1   \n",
      "4        5     1.640999e+09                    18 2022-01-01 01:00:00     2   \n",
      "\n",
      "   minute  \n",
      "0       0  \n",
      "1      15  \n",
      "2      30  \n",
      "3      45  \n",
      "4       0  \n"
     ]
    }
   ],
   "source": [
    "import numpy as np\n",
    "from datetime import datetime\n",
    "\n",
    "# convert start_timestamp to numerical format\n",
    "df['initial_timestamp'] = pd.to_datetime(df['start_timestamp'])\n",
    "df['start_timestamp'] = pd.to_datetime(df['start_timestamp'])\n",
    "df['start_timestamp'] = df['start_timestamp'].apply(lambda x: x.timestamp())\n",
    "\n",
    "# extract hour and minute from start_timestamp\n",
    "df['hour'] = df['start_timestamp'].apply(lambda x: datetime.fromtimestamp(x).hour)\n",
    "df['minute'] = df['start_timestamp'].apply(lambda x: datetime.fromtimestamp(x).minute)\n",
    "\n",
    "# round number_of_astronauts to nearest integer\n",
    "df['number_of_astronauts'] = np.round(df['number_of_astronauts']).astype(int)\n",
    "\n",
    "# print the first few rows of the dataframe to check if the preprocessing is done correctly\n",
    "print(df.head())\n"
   ]
  },
  {
   "cell_type": "code",
   "execution_count": 5,
   "id": "f16dfa58",
   "metadata": {},
   "outputs": [
    {
     "name": "stdout",
     "output_type": "stream",
     "text": [
      "Number of rows in training dataset: 122307\n",
      "Number of rows in retrain dataset: 26209\n",
      "Number of rows in testing dataset: 26209\n"
     ]
    }
   ],
   "source": [
    "from sklearn.model_selection import train_test_split\n",
    "\n",
    "# split the dataset into training, retrain and testing datasets\n",
    "train_df, retrain_df = train_test_split(df, test_size=0.3, random_state=42)\n",
    "retrain_df, test_df = train_test_split(retrain_df, test_size=0.5, random_state=42)\n",
    "\n",
    "# print the number of rows in each dataset\n",
    "print(\"Number of rows in training dataset:\", len(train_df))\n",
    "print(\"Number of rows in retrain dataset:\", len(retrain_df))\n",
    "print(\"Number of rows in testing dataset:\", len(test_df)) \n"
   ]
  },
  {
   "cell_type": "code",
   "execution_count": 6,
   "id": "895b4d04",
   "metadata": {},
   "outputs": [
    {
     "name": "stdout",
     "output_type": "stream",
     "text": [
      "Shape of training input features: (122307, 1, 3)\n",
      "Shape of training target variable: (122307,)\n",
      "Shape of retrain input features: (26209, 1, 3)\n",
      "Shape of retrain target variable: (26209,)\n",
      "Shape of testing input features: (26209, 1, 3)\n",
      "Shape of testing target variable: (26209,)\n"
     ]
    }
   ],
   "source": [
    "from sklearn.preprocessing import StandardScaler\n",
    "\n",
    "# scale the input features\n",
    "scaler = StandardScaler()\n",
    "train_features = scaler.fit_transform(train_df[['room_id', 'hour', 'minute']])\n",
    "retrain_features = scaler.transform(retrain_df[['room_id', 'hour', 'minute']])\n",
    "test_features = scaler.transform(test_df[['room_id', 'hour', 'minute']])\n",
    "\n",
    "# prepare the target variable\n",
    "train_target = train_df['number_of_astronauts']\n",
    "retrain_target = retrain_df['number_of_astronauts']\n",
    "test_target = test_df['number_of_astronauts']\n",
    "\n",
    "# reshape the input features to 3D tensor for input to RNN model\n",
    "train_features = train_features.reshape((train_features.shape[0], 1, train_features.shape[1]))\n",
    "retrain_features = retrain_features.reshape((retrain_features.shape[0], 1, retrain_features.shape[1]))\n",
    "test_features = test_features.reshape((test_features.shape[0], 1, test_features.shape[1]))\n",
    "\n",
    "print(\"Shape of training input features:\", train_features.shape)\n",
    "print(\"Shape of training target variable:\", train_target.shape)\n",
    "print(\"Shape of retrain input features:\", retrain_features.shape)\n",
    "print(\"Shape of retrain target variable:\", retrain_target.shape)\n",
    "print(\"Shape of testing input features:\", test_features.shape)\n",
    "print(\"Shape of testing target variable:\", test_target.shape)"
   ]
  },
  {
   "cell_type": "code",
   "execution_count": 7,
   "id": "bfe59c71",
   "metadata": {},
   "outputs": [
    {
     "name": "stderr",
     "output_type": "stream",
     "text": [
      "2023-03-30 12:06:51.309153: I tensorflow/core/platform/cpu_feature_guard.cc:193] This TensorFlow binary is optimized with oneAPI Deep Neural Network Library (oneDNN) to use the following CPU instructions in performance-critical operations:  AVX2 FMA\n",
      "To enable them in other operations, rebuild TensorFlow with the appropriate compiler flags.\n",
      "2023-03-30 12:07:02.101649: I tensorflow/core/platform/cpu_feature_guard.cc:193] This TensorFlow binary is optimized with oneAPI Deep Neural Network Library (oneDNN) to use the following CPU instructions in performance-critical operations:  AVX2 FMA\n",
      "To enable them in other operations, rebuild TensorFlow with the appropriate compiler flags.\n"
     ]
    }
   ],
   "source": [
    "from keras.models import Sequential\n",
    "from keras.layers import Dense, LSTM\n",
    "\n",
    "# define the RNN model\n",
    "model = Sequential()\n",
    "model.add(LSTM(32, input_shape=(train_features.shape[1], train_features.shape[2]), return_sequences=True))\n",
    "model.add(LSTM(16, return_sequences=False))\n",
    "model.add(Dense(1))\n",
    "\n",
    "# compile the model\n",
    "model.compile(loss='mse', optimizer='adam')\n"
   ]
  },
  {
   "cell_type": "code",
   "execution_count": 8,
   "id": "bb9476be",
   "metadata": {},
   "outputs": [
    {
     "name": "stdout",
     "output_type": "stream",
     "text": [
      "Epoch 1/5\n",
      "7645/7645 [==============================] - 41s 5ms/step - loss: 17.9378 - val_loss: 7.0929\n",
      "Epoch 2/5\n",
      "7645/7645 [==============================] - 34s 4ms/step - loss: 5.5525 - val_loss: 4.8721\n",
      "Epoch 3/5\n",
      "7645/7645 [==============================] - 42s 5ms/step - loss: 4.6192 - val_loss: 4.5465\n",
      "Epoch 4/5\n",
      "7645/7645 [==============================] - 42s 6ms/step - loss: 4.4286 - val_loss: 4.4470\n",
      "Epoch 5/5\n",
      "7645/7645 [==============================] - 37s 5ms/step - loss: 4.3337 - val_loss: 4.3860\n",
      "Retrain Score: 4.38601 MSE (2.09428 RMSE)\n"
     ]
    }
   ],
   "source": [
    "# train the model\n",
    "history = model.fit(train_features, train_target, epochs=5, batch_size=16, validation_data=(retrain_features, retrain_target))\n",
    "\n",
    "# evaluate the model on retrain dataset\n",
    "retrain_score = model.evaluate(retrain_features, retrain_target, verbose=0)\n",
    "print('Retrain Score: %.5f MSE (%.5f RMSE)' % (retrain_score, np.sqrt(retrain_score)))\n"
   ]
  },
  {
   "cell_type": "code",
   "execution_count": 24,
   "id": "d1d02357",
   "metadata": {},
   "outputs": [
    {
     "name": "stdout",
     "output_type": "stream",
     "text": [
      "1/1 [==============================] - 0s 24ms/step\n",
      "1/1 [==============================] - 0s 23ms/step\n"
     ]
    },
    {
     "name": "stderr",
     "output_type": "stream",
     "text": [
      "/Users/abhilash/opt/anaconda3/lib/python3.9/site-packages/sklearn/base.py:450: UserWarning: X does not have valid feature names, but StandardScaler was fitted with feature names\n",
      "  warnings.warn(\n",
      "/var/folders/g_/mmqgkbcx0qn0r2j_wxv7rf2m0000gn/T/ipykernel_50021/4215304269.py:40: FutureWarning: The frame.append method is deprecated and will be removed from pandas in a future version. Use pandas.concat instead.\n",
      "  room_df = room_df.append(row, ignore_index=True)\n",
      "/Users/abhilash/opt/anaconda3/lib/python3.9/site-packages/sklearn/base.py:450: UserWarning: X does not have valid feature names, but StandardScaler was fitted with feature names\n",
      "  warnings.warn(\n",
      "/var/folders/g_/mmqgkbcx0qn0r2j_wxv7rf2m0000gn/T/ipykernel_50021/4215304269.py:40: FutureWarning: The frame.append method is deprecated and will be removed from pandas in a future version. Use pandas.concat instead.\n",
      "  room_df = room_df.append(row, ignore_index=True)\n",
      "/Users/abhilash/opt/anaconda3/lib/python3.9/site-packages/sklearn/base.py:450: UserWarning: X does not have valid feature names, but StandardScaler was fitted with feature names\n",
      "  warnings.warn(\n"
     ]
    },
    {
     "name": "stdout",
     "output_type": "stream",
     "text": [
      "1/1 [==============================] - 0s 30ms/step\n",
      "1/1 [==============================] - 0s 21ms/step\n",
      "1/1 [==============================] - 0s 24ms/step\n"
     ]
    },
    {
     "name": "stderr",
     "output_type": "stream",
     "text": [
      "/var/folders/g_/mmqgkbcx0qn0r2j_wxv7rf2m0000gn/T/ipykernel_50021/4215304269.py:40: FutureWarning: The frame.append method is deprecated and will be removed from pandas in a future version. Use pandas.concat instead.\n",
      "  room_df = room_df.append(row, ignore_index=True)\n",
      "/Users/abhilash/opt/anaconda3/lib/python3.9/site-packages/sklearn/base.py:450: UserWarning: X does not have valid feature names, but StandardScaler was fitted with feature names\n",
      "  warnings.warn(\n",
      "/var/folders/g_/mmqgkbcx0qn0r2j_wxv7rf2m0000gn/T/ipykernel_50021/4215304269.py:40: FutureWarning: The frame.append method is deprecated and will be removed from pandas in a future version. Use pandas.concat instead.\n",
      "  room_df = room_df.append(row, ignore_index=True)\n",
      "/Users/abhilash/opt/anaconda3/lib/python3.9/site-packages/sklearn/base.py:450: UserWarning: X does not have valid feature names, but StandardScaler was fitted with feature names\n",
      "  warnings.warn(\n",
      "/var/folders/g_/mmqgkbcx0qn0r2j_wxv7rf2m0000gn/T/ipykernel_50021/4215304269.py:40: FutureWarning: The frame.append method is deprecated and will be removed from pandas in a future version. Use pandas.concat instead.\n",
      "  room_df = room_df.append(row, ignore_index=True)\n",
      "/Users/abhilash/opt/anaconda3/lib/python3.9/site-packages/sklearn/base.py:450: UserWarning: X does not have valid feature names, but StandardScaler was fitted with feature names\n",
      "  warnings.warn(\n"
     ]
    },
    {
     "name": "stdout",
     "output_type": "stream",
     "text": [
      "1/1 [==============================] - 0s 27ms/step\n",
      "1/1 [==============================] - 0s 23ms/step\n",
      "1/1 [==============================] - 0s 24ms/step\n"
     ]
    },
    {
     "name": "stderr",
     "output_type": "stream",
     "text": [
      "/var/folders/g_/mmqgkbcx0qn0r2j_wxv7rf2m0000gn/T/ipykernel_50021/4215304269.py:40: FutureWarning: The frame.append method is deprecated and will be removed from pandas in a future version. Use pandas.concat instead.\n",
      "  room_df = room_df.append(row, ignore_index=True)\n",
      "/Users/abhilash/opt/anaconda3/lib/python3.9/site-packages/sklearn/base.py:450: UserWarning: X does not have valid feature names, but StandardScaler was fitted with feature names\n",
      "  warnings.warn(\n",
      "/var/folders/g_/mmqgkbcx0qn0r2j_wxv7rf2m0000gn/T/ipykernel_50021/4215304269.py:40: FutureWarning: The frame.append method is deprecated and will be removed from pandas in a future version. Use pandas.concat instead.\n",
      "  room_df = room_df.append(row, ignore_index=True)\n",
      "/Users/abhilash/opt/anaconda3/lib/python3.9/site-packages/sklearn/base.py:450: UserWarning: X does not have valid feature names, but StandardScaler was fitted with feature names\n",
      "  warnings.warn(\n",
      "/var/folders/g_/mmqgkbcx0qn0r2j_wxv7rf2m0000gn/T/ipykernel_50021/4215304269.py:40: FutureWarning: The frame.append method is deprecated and will be removed from pandas in a future version. Use pandas.concat instead.\n",
      "  room_df = room_df.append(row, ignore_index=True)\n",
      "/Users/abhilash/opt/anaconda3/lib/python3.9/site-packages/sklearn/base.py:450: UserWarning: X does not have valid feature names, but StandardScaler was fitted with feature names\n",
      "  warnings.warn(\n"
     ]
    },
    {
     "name": "stdout",
     "output_type": "stream",
     "text": [
      "1/1 [==============================] - 0s 27ms/step\n",
      "1/1 [==============================] - 0s 21ms/step\n",
      "1/1 [==============================] - 0s 21ms/step\n"
     ]
    },
    {
     "name": "stderr",
     "output_type": "stream",
     "text": [
      "/var/folders/g_/mmqgkbcx0qn0r2j_wxv7rf2m0000gn/T/ipykernel_50021/4215304269.py:40: FutureWarning: The frame.append method is deprecated and will be removed from pandas in a future version. Use pandas.concat instead.\n",
      "  room_df = room_df.append(row, ignore_index=True)\n",
      "/Users/abhilash/opt/anaconda3/lib/python3.9/site-packages/sklearn/base.py:450: UserWarning: X does not have valid feature names, but StandardScaler was fitted with feature names\n",
      "  warnings.warn(\n",
      "/var/folders/g_/mmqgkbcx0qn0r2j_wxv7rf2m0000gn/T/ipykernel_50021/4215304269.py:40: FutureWarning: The frame.append method is deprecated and will be removed from pandas in a future version. Use pandas.concat instead.\n",
      "  room_df = room_df.append(row, ignore_index=True)\n",
      "/Users/abhilash/opt/anaconda3/lib/python3.9/site-packages/sklearn/base.py:450: UserWarning: X does not have valid feature names, but StandardScaler was fitted with feature names\n",
      "  warnings.warn(\n",
      "/var/folders/g_/mmqgkbcx0qn0r2j_wxv7rf2m0000gn/T/ipykernel_50021/4215304269.py:40: FutureWarning: The frame.append method is deprecated and will be removed from pandas in a future version. Use pandas.concat instead.\n",
      "  room_df = room_df.append(row, ignore_index=True)\n",
      "/Users/abhilash/opt/anaconda3/lib/python3.9/site-packages/sklearn/base.py:450: UserWarning: X does not have valid feature names, but StandardScaler was fitted with feature names\n",
      "  warnings.warn(\n"
     ]
    },
    {
     "name": "stdout",
     "output_type": "stream",
     "text": [
      "1/1 [==============================] - 0s 23ms/step\n",
      "1/1 [==============================] - 0s 22ms/step\n",
      "1/1 [==============================] - 0s 22ms/step\n"
     ]
    },
    {
     "name": "stderr",
     "output_type": "stream",
     "text": [
      "/var/folders/g_/mmqgkbcx0qn0r2j_wxv7rf2m0000gn/T/ipykernel_50021/4215304269.py:40: FutureWarning: The frame.append method is deprecated and will be removed from pandas in a future version. Use pandas.concat instead.\n",
      "  room_df = room_df.append(row, ignore_index=True)\n",
      "/Users/abhilash/opt/anaconda3/lib/python3.9/site-packages/sklearn/base.py:450: UserWarning: X does not have valid feature names, but StandardScaler was fitted with feature names\n",
      "  warnings.warn(\n",
      "/var/folders/g_/mmqgkbcx0qn0r2j_wxv7rf2m0000gn/T/ipykernel_50021/4215304269.py:40: FutureWarning: The frame.append method is deprecated and will be removed from pandas in a future version. Use pandas.concat instead.\n",
      "  room_df = room_df.append(row, ignore_index=True)\n",
      "/Users/abhilash/opt/anaconda3/lib/python3.9/site-packages/sklearn/base.py:450: UserWarning: X does not have valid feature names, but StandardScaler was fitted with feature names\n",
      "  warnings.warn(\n",
      "/var/folders/g_/mmqgkbcx0qn0r2j_wxv7rf2m0000gn/T/ipykernel_50021/4215304269.py:40: FutureWarning: The frame.append method is deprecated and will be removed from pandas in a future version. Use pandas.concat instead.\n",
      "  room_df = room_df.append(row, ignore_index=True)\n",
      "/Users/abhilash/opt/anaconda3/lib/python3.9/site-packages/sklearn/base.py:450: UserWarning: X does not have valid feature names, but StandardScaler was fitted with feature names\n",
      "  warnings.warn(\n"
     ]
    },
    {
     "name": "stdout",
     "output_type": "stream",
     "text": [
      "1/1 [==============================] - 0s 41ms/step\n",
      "1/1 [==============================] - 0s 26ms/step\n",
      "1/1 [==============================] - 0s 22ms/step\n"
     ]
    },
    {
     "name": "stderr",
     "output_type": "stream",
     "text": [
      "/var/folders/g_/mmqgkbcx0qn0r2j_wxv7rf2m0000gn/T/ipykernel_50021/4215304269.py:40: FutureWarning: The frame.append method is deprecated and will be removed from pandas in a future version. Use pandas.concat instead.\n",
      "  room_df = room_df.append(row, ignore_index=True)\n",
      "/Users/abhilash/opt/anaconda3/lib/python3.9/site-packages/sklearn/base.py:450: UserWarning: X does not have valid feature names, but StandardScaler was fitted with feature names\n",
      "  warnings.warn(\n",
      "/var/folders/g_/mmqgkbcx0qn0r2j_wxv7rf2m0000gn/T/ipykernel_50021/4215304269.py:40: FutureWarning: The frame.append method is deprecated and will be removed from pandas in a future version. Use pandas.concat instead.\n",
      "  room_df = room_df.append(row, ignore_index=True)\n",
      "/Users/abhilash/opt/anaconda3/lib/python3.9/site-packages/sklearn/base.py:450: UserWarning: X does not have valid feature names, but StandardScaler was fitted with feature names\n",
      "  warnings.warn(\n",
      "/var/folders/g_/mmqgkbcx0qn0r2j_wxv7rf2m0000gn/T/ipykernel_50021/4215304269.py:40: FutureWarning: The frame.append method is deprecated and will be removed from pandas in a future version. Use pandas.concat instead.\n",
      "  room_df = room_df.append(row, ignore_index=True)\n",
      "/Users/abhilash/opt/anaconda3/lib/python3.9/site-packages/sklearn/base.py:450: UserWarning: X does not have valid feature names, but StandardScaler was fitted with feature names\n",
      "  warnings.warn(\n"
     ]
    },
    {
     "name": "stdout",
     "output_type": "stream",
     "text": [
      "1/1 [==============================] - 0s 26ms/step\n",
      "1/1 [==============================] - 0s 23ms/step\n",
      "1/1 [==============================] - 0s 28ms/step\n"
     ]
    },
    {
     "name": "stderr",
     "output_type": "stream",
     "text": [
      "/var/folders/g_/mmqgkbcx0qn0r2j_wxv7rf2m0000gn/T/ipykernel_50021/4215304269.py:40: FutureWarning: The frame.append method is deprecated and will be removed from pandas in a future version. Use pandas.concat instead.\n",
      "  room_df = room_df.append(row, ignore_index=True)\n",
      "/Users/abhilash/opt/anaconda3/lib/python3.9/site-packages/sklearn/base.py:450: UserWarning: X does not have valid feature names, but StandardScaler was fitted with feature names\n",
      "  warnings.warn(\n",
      "/var/folders/g_/mmqgkbcx0qn0r2j_wxv7rf2m0000gn/T/ipykernel_50021/4215304269.py:40: FutureWarning: The frame.append method is deprecated and will be removed from pandas in a future version. Use pandas.concat instead.\n",
      "  room_df = room_df.append(row, ignore_index=True)\n",
      "/Users/abhilash/opt/anaconda3/lib/python3.9/site-packages/sklearn/base.py:450: UserWarning: X does not have valid feature names, but StandardScaler was fitted with feature names\n",
      "  warnings.warn(\n",
      "/var/folders/g_/mmqgkbcx0qn0r2j_wxv7rf2m0000gn/T/ipykernel_50021/4215304269.py:40: FutureWarning: The frame.append method is deprecated and will be removed from pandas in a future version. Use pandas.concat instead.\n",
      "  room_df = room_df.append(row, ignore_index=True)\n",
      "/Users/abhilash/opt/anaconda3/lib/python3.9/site-packages/sklearn/base.py:450: UserWarning: X does not have valid feature names, but StandardScaler was fitted with feature names\n",
      "  warnings.warn(\n"
     ]
    },
    {
     "name": "stdout",
     "output_type": "stream",
     "text": [
      "1/1 [==============================] - 0s 28ms/step\n",
      "1/1 [==============================] - 0s 26ms/step\n",
      "1/1 [==============================] - 0s 25ms/step\n"
     ]
    },
    {
     "name": "stderr",
     "output_type": "stream",
     "text": [
      "/var/folders/g_/mmqgkbcx0qn0r2j_wxv7rf2m0000gn/T/ipykernel_50021/4215304269.py:40: FutureWarning: The frame.append method is deprecated and will be removed from pandas in a future version. Use pandas.concat instead.\n",
      "  room_df = room_df.append(row, ignore_index=True)\n",
      "/Users/abhilash/opt/anaconda3/lib/python3.9/site-packages/sklearn/base.py:450: UserWarning: X does not have valid feature names, but StandardScaler was fitted with feature names\n",
      "  warnings.warn(\n",
      "/var/folders/g_/mmqgkbcx0qn0r2j_wxv7rf2m0000gn/T/ipykernel_50021/4215304269.py:40: FutureWarning: The frame.append method is deprecated and will be removed from pandas in a future version. Use pandas.concat instead.\n",
      "  room_df = room_df.append(row, ignore_index=True)\n",
      "/Users/abhilash/opt/anaconda3/lib/python3.9/site-packages/sklearn/base.py:450: UserWarning: X does not have valid feature names, but StandardScaler was fitted with feature names\n",
      "  warnings.warn(\n",
      "/var/folders/g_/mmqgkbcx0qn0r2j_wxv7rf2m0000gn/T/ipykernel_50021/4215304269.py:40: FutureWarning: The frame.append method is deprecated and will be removed from pandas in a future version. Use pandas.concat instead.\n",
      "  room_df = room_df.append(row, ignore_index=True)\n",
      "/Users/abhilash/opt/anaconda3/lib/python3.9/site-packages/sklearn/base.py:450: UserWarning: X does not have valid feature names, but StandardScaler was fitted with feature names\n",
      "  warnings.warn(\n"
     ]
    },
    {
     "name": "stdout",
     "output_type": "stream",
     "text": [
      "1/1 [==============================] - 0s 29ms/step\n",
      "1/1 [==============================] - 0s 27ms/step\n",
      "1/1 [==============================] - 0s 26ms/step\n"
     ]
    },
    {
     "name": "stderr",
     "output_type": "stream",
     "text": [
      "/var/folders/g_/mmqgkbcx0qn0r2j_wxv7rf2m0000gn/T/ipykernel_50021/4215304269.py:40: FutureWarning: The frame.append method is deprecated and will be removed from pandas in a future version. Use pandas.concat instead.\n",
      "  room_df = room_df.append(row, ignore_index=True)\n",
      "/Users/abhilash/opt/anaconda3/lib/python3.9/site-packages/sklearn/base.py:450: UserWarning: X does not have valid feature names, but StandardScaler was fitted with feature names\n",
      "  warnings.warn(\n",
      "/var/folders/g_/mmqgkbcx0qn0r2j_wxv7rf2m0000gn/T/ipykernel_50021/4215304269.py:40: FutureWarning: The frame.append method is deprecated and will be removed from pandas in a future version. Use pandas.concat instead.\n",
      "  room_df = room_df.append(row, ignore_index=True)\n",
      "/Users/abhilash/opt/anaconda3/lib/python3.9/site-packages/sklearn/base.py:450: UserWarning: X does not have valid feature names, but StandardScaler was fitted with feature names\n",
      "  warnings.warn(\n",
      "/var/folders/g_/mmqgkbcx0qn0r2j_wxv7rf2m0000gn/T/ipykernel_50021/4215304269.py:40: FutureWarning: The frame.append method is deprecated and will be removed from pandas in a future version. Use pandas.concat instead.\n",
      "  room_df = room_df.append(row, ignore_index=True)\n",
      "/Users/abhilash/opt/anaconda3/lib/python3.9/site-packages/sklearn/base.py:450: UserWarning: X does not have valid feature names, but StandardScaler was fitted with feature names\n",
      "  warnings.warn(\n"
     ]
    },
    {
     "name": "stdout",
     "output_type": "stream",
     "text": [
      "1/1 [==============================] - 0s 31ms/step\n",
      "1/1 [==============================] - 0s 27ms/step\n",
      "1/1 [==============================] - 0s 24ms/step\n"
     ]
    },
    {
     "name": "stderr",
     "output_type": "stream",
     "text": [
      "/var/folders/g_/mmqgkbcx0qn0r2j_wxv7rf2m0000gn/T/ipykernel_50021/4215304269.py:40: FutureWarning: The frame.append method is deprecated and will be removed from pandas in a future version. Use pandas.concat instead.\n",
      "  room_df = room_df.append(row, ignore_index=True)\n",
      "/Users/abhilash/opt/anaconda3/lib/python3.9/site-packages/sklearn/base.py:450: UserWarning: X does not have valid feature names, but StandardScaler was fitted with feature names\n",
      "  warnings.warn(\n",
      "/var/folders/g_/mmqgkbcx0qn0r2j_wxv7rf2m0000gn/T/ipykernel_50021/4215304269.py:40: FutureWarning: The frame.append method is deprecated and will be removed from pandas in a future version. Use pandas.concat instead.\n",
      "  room_df = room_df.append(row, ignore_index=True)\n",
      "/Users/abhilash/opt/anaconda3/lib/python3.9/site-packages/sklearn/base.py:450: UserWarning: X does not have valid feature names, but StandardScaler was fitted with feature names\n",
      "  warnings.warn(\n",
      "/var/folders/g_/mmqgkbcx0qn0r2j_wxv7rf2m0000gn/T/ipykernel_50021/4215304269.py:40: FutureWarning: The frame.append method is deprecated and will be removed from pandas in a future version. Use pandas.concat instead.\n",
      "  room_df = room_df.append(row, ignore_index=True)\n",
      "/Users/abhilash/opt/anaconda3/lib/python3.9/site-packages/sklearn/base.py:450: UserWarning: X does not have valid feature names, but StandardScaler was fitted with feature names\n",
      "  warnings.warn(\n"
     ]
    },
    {
     "name": "stdout",
     "output_type": "stream",
     "text": [
      "1/1 [==============================] - 0s 29ms/step\n",
      "1/1 [==============================] - 0s 24ms/step\n",
      "1/1 [==============================] - 0s 27ms/step\n"
     ]
    },
    {
     "name": "stderr",
     "output_type": "stream",
     "text": [
      "/var/folders/g_/mmqgkbcx0qn0r2j_wxv7rf2m0000gn/T/ipykernel_50021/4215304269.py:40: FutureWarning: The frame.append method is deprecated and will be removed from pandas in a future version. Use pandas.concat instead.\n",
      "  room_df = room_df.append(row, ignore_index=True)\n",
      "/Users/abhilash/opt/anaconda3/lib/python3.9/site-packages/sklearn/base.py:450: UserWarning: X does not have valid feature names, but StandardScaler was fitted with feature names\n",
      "  warnings.warn(\n",
      "/var/folders/g_/mmqgkbcx0qn0r2j_wxv7rf2m0000gn/T/ipykernel_50021/4215304269.py:40: FutureWarning: The frame.append method is deprecated and will be removed from pandas in a future version. Use pandas.concat instead.\n",
      "  room_df = room_df.append(row, ignore_index=True)\n",
      "/Users/abhilash/opt/anaconda3/lib/python3.9/site-packages/sklearn/base.py:450: UserWarning: X does not have valid feature names, but StandardScaler was fitted with feature names\n",
      "  warnings.warn(\n",
      "/var/folders/g_/mmqgkbcx0qn0r2j_wxv7rf2m0000gn/T/ipykernel_50021/4215304269.py:40: FutureWarning: The frame.append method is deprecated and will be removed from pandas in a future version. Use pandas.concat instead.\n",
      "  room_df = room_df.append(row, ignore_index=True)\n",
      "/Users/abhilash/opt/anaconda3/lib/python3.9/site-packages/sklearn/base.py:450: UserWarning: X does not have valid feature names, but StandardScaler was fitted with feature names\n",
      "  warnings.warn(\n"
     ]
    },
    {
     "name": "stdout",
     "output_type": "stream",
     "text": [
      "1/1 [==============================] - 0s 24ms/step\n",
      "1/1 [==============================] - 0s 22ms/step\n",
      "1/1 [==============================] - 0s 22ms/step\n",
      "1/1 [==============================] - 0s 23ms/step\n"
     ]
    },
    {
     "name": "stderr",
     "output_type": "stream",
     "text": [
      "/var/folders/g_/mmqgkbcx0qn0r2j_wxv7rf2m0000gn/T/ipykernel_50021/4215304269.py:40: FutureWarning: The frame.append method is deprecated and will be removed from pandas in a future version. Use pandas.concat instead.\n",
      "  room_df = room_df.append(row, ignore_index=True)\n",
      "/Users/abhilash/opt/anaconda3/lib/python3.9/site-packages/sklearn/base.py:450: UserWarning: X does not have valid feature names, but StandardScaler was fitted with feature names\n",
      "  warnings.warn(\n",
      "/var/folders/g_/mmqgkbcx0qn0r2j_wxv7rf2m0000gn/T/ipykernel_50021/4215304269.py:40: FutureWarning: The frame.append method is deprecated and will be removed from pandas in a future version. Use pandas.concat instead.\n",
      "  room_df = room_df.append(row, ignore_index=True)\n",
      "/Users/abhilash/opt/anaconda3/lib/python3.9/site-packages/sklearn/base.py:450: UserWarning: X does not have valid feature names, but StandardScaler was fitted with feature names\n",
      "  warnings.warn(\n",
      "/var/folders/g_/mmqgkbcx0qn0r2j_wxv7rf2m0000gn/T/ipykernel_50021/4215304269.py:40: FutureWarning: The frame.append method is deprecated and will be removed from pandas in a future version. Use pandas.concat instead.\n",
      "  room_df = room_df.append(row, ignore_index=True)\n",
      "/Users/abhilash/opt/anaconda3/lib/python3.9/site-packages/sklearn/base.py:450: UserWarning: X does not have valid feature names, but StandardScaler was fitted with feature names\n",
      "  warnings.warn(\n",
      "/var/folders/g_/mmqgkbcx0qn0r2j_wxv7rf2m0000gn/T/ipykernel_50021/4215304269.py:40: FutureWarning: The frame.append method is deprecated and will be removed from pandas in a future version. Use pandas.concat instead.\n",
      "  room_df = room_df.append(row, ignore_index=True)\n",
      "/Users/abhilash/opt/anaconda3/lib/python3.9/site-packages/sklearn/base.py:450: UserWarning: X does not have valid feature names, but StandardScaler was fitted with feature names\n",
      "  warnings.warn(\n"
     ]
    },
    {
     "name": "stdout",
     "output_type": "stream",
     "text": [
      "1/1 [==============================] - 0s 29ms/step\n",
      "1/1 [==============================] - 0s 26ms/step\n",
      "1/1 [==============================] - 0s 27ms/step\n"
     ]
    },
    {
     "name": "stderr",
     "output_type": "stream",
     "text": [
      "/var/folders/g_/mmqgkbcx0qn0r2j_wxv7rf2m0000gn/T/ipykernel_50021/4215304269.py:40: FutureWarning: The frame.append method is deprecated and will be removed from pandas in a future version. Use pandas.concat instead.\n",
      "  room_df = room_df.append(row, ignore_index=True)\n",
      "/Users/abhilash/opt/anaconda3/lib/python3.9/site-packages/sklearn/base.py:450: UserWarning: X does not have valid feature names, but StandardScaler was fitted with feature names\n",
      "  warnings.warn(\n",
      "/var/folders/g_/mmqgkbcx0qn0r2j_wxv7rf2m0000gn/T/ipykernel_50021/4215304269.py:40: FutureWarning: The frame.append method is deprecated and will be removed from pandas in a future version. Use pandas.concat instead.\n",
      "  room_df = room_df.append(row, ignore_index=True)\n",
      "/Users/abhilash/opt/anaconda3/lib/python3.9/site-packages/sklearn/base.py:450: UserWarning: X does not have valid feature names, but StandardScaler was fitted with feature names\n",
      "  warnings.warn(\n",
      "/var/folders/g_/mmqgkbcx0qn0r2j_wxv7rf2m0000gn/T/ipykernel_50021/4215304269.py:40: FutureWarning: The frame.append method is deprecated and will be removed from pandas in a future version. Use pandas.concat instead.\n",
      "  room_df = room_df.append(row, ignore_index=True)\n",
      "/Users/abhilash/opt/anaconda3/lib/python3.9/site-packages/sklearn/base.py:450: UserWarning: X does not have valid feature names, but StandardScaler was fitted with feature names\n",
      "  warnings.warn(\n"
     ]
    },
    {
     "name": "stdout",
     "output_type": "stream",
     "text": [
      "1/1 [==============================] - 0s 31ms/step\n",
      "1/1 [==============================] - 0s 27ms/step\n",
      "1/1 [==============================] - 0s 28ms/step\n"
     ]
    },
    {
     "name": "stderr",
     "output_type": "stream",
     "text": [
      "/var/folders/g_/mmqgkbcx0qn0r2j_wxv7rf2m0000gn/T/ipykernel_50021/4215304269.py:40: FutureWarning: The frame.append method is deprecated and will be removed from pandas in a future version. Use pandas.concat instead.\n",
      "  room_df = room_df.append(row, ignore_index=True)\n",
      "/Users/abhilash/opt/anaconda3/lib/python3.9/site-packages/sklearn/base.py:450: UserWarning: X does not have valid feature names, but StandardScaler was fitted with feature names\n",
      "  warnings.warn(\n",
      "/var/folders/g_/mmqgkbcx0qn0r2j_wxv7rf2m0000gn/T/ipykernel_50021/4215304269.py:40: FutureWarning: The frame.append method is deprecated and will be removed from pandas in a future version. Use pandas.concat instead.\n",
      "  room_df = room_df.append(row, ignore_index=True)\n",
      "/Users/abhilash/opt/anaconda3/lib/python3.9/site-packages/sklearn/base.py:450: UserWarning: X does not have valid feature names, but StandardScaler was fitted with feature names\n",
      "  warnings.warn(\n",
      "/var/folders/g_/mmqgkbcx0qn0r2j_wxv7rf2m0000gn/T/ipykernel_50021/4215304269.py:40: FutureWarning: The frame.append method is deprecated and will be removed from pandas in a future version. Use pandas.concat instead.\n",
      "  room_df = room_df.append(row, ignore_index=True)\n",
      "/Users/abhilash/opt/anaconda3/lib/python3.9/site-packages/sklearn/base.py:450: UserWarning: X does not have valid feature names, but StandardScaler was fitted with feature names\n",
      "  warnings.warn(\n"
     ]
    },
    {
     "name": "stdout",
     "output_type": "stream",
     "text": [
      "1/1 [==============================] - 0s 29ms/step\n",
      "1/1 [==============================] - 0s 25ms/step\n",
      "1/1 [==============================] - 0s 25ms/step\n"
     ]
    },
    {
     "name": "stderr",
     "output_type": "stream",
     "text": [
      "/var/folders/g_/mmqgkbcx0qn0r2j_wxv7rf2m0000gn/T/ipykernel_50021/4215304269.py:40: FutureWarning: The frame.append method is deprecated and will be removed from pandas in a future version. Use pandas.concat instead.\n",
      "  room_df = room_df.append(row, ignore_index=True)\n",
      "/Users/abhilash/opt/anaconda3/lib/python3.9/site-packages/sklearn/base.py:450: UserWarning: X does not have valid feature names, but StandardScaler was fitted with feature names\n",
      "  warnings.warn(\n",
      "/var/folders/g_/mmqgkbcx0qn0r2j_wxv7rf2m0000gn/T/ipykernel_50021/4215304269.py:40: FutureWarning: The frame.append method is deprecated and will be removed from pandas in a future version. Use pandas.concat instead.\n",
      "  room_df = room_df.append(row, ignore_index=True)\n",
      "/Users/abhilash/opt/anaconda3/lib/python3.9/site-packages/sklearn/base.py:450: UserWarning: X does not have valid feature names, but StandardScaler was fitted with feature names\n",
      "  warnings.warn(\n",
      "/var/folders/g_/mmqgkbcx0qn0r2j_wxv7rf2m0000gn/T/ipykernel_50021/4215304269.py:40: FutureWarning: The frame.append method is deprecated and will be removed from pandas in a future version. Use pandas.concat instead.\n",
      "  room_df = room_df.append(row, ignore_index=True)\n",
      "/Users/abhilash/opt/anaconda3/lib/python3.9/site-packages/sklearn/base.py:450: UserWarning: X does not have valid feature names, but StandardScaler was fitted with feature names\n",
      "  warnings.warn(\n"
     ]
    },
    {
     "name": "stdout",
     "output_type": "stream",
     "text": [
      "1/1 [==============================] - 0s 30ms/step\n",
      "1/1 [==============================] - 0s 25ms/step\n",
      "1/1 [==============================] - 0s 26ms/step\n"
     ]
    },
    {
     "name": "stderr",
     "output_type": "stream",
     "text": [
      "/var/folders/g_/mmqgkbcx0qn0r2j_wxv7rf2m0000gn/T/ipykernel_50021/4215304269.py:40: FutureWarning: The frame.append method is deprecated and will be removed from pandas in a future version. Use pandas.concat instead.\n",
      "  room_df = room_df.append(row, ignore_index=True)\n",
      "/Users/abhilash/opt/anaconda3/lib/python3.9/site-packages/sklearn/base.py:450: UserWarning: X does not have valid feature names, but StandardScaler was fitted with feature names\n",
      "  warnings.warn(\n",
      "/var/folders/g_/mmqgkbcx0qn0r2j_wxv7rf2m0000gn/T/ipykernel_50021/4215304269.py:40: FutureWarning: The frame.append method is deprecated and will be removed from pandas in a future version. Use pandas.concat instead.\n",
      "  room_df = room_df.append(row, ignore_index=True)\n",
      "/Users/abhilash/opt/anaconda3/lib/python3.9/site-packages/sklearn/base.py:450: UserWarning: X does not have valid feature names, but StandardScaler was fitted with feature names\n",
      "  warnings.warn(\n",
      "/var/folders/g_/mmqgkbcx0qn0r2j_wxv7rf2m0000gn/T/ipykernel_50021/4215304269.py:40: FutureWarning: The frame.append method is deprecated and will be removed from pandas in a future version. Use pandas.concat instead.\n",
      "  room_df = room_df.append(row, ignore_index=True)\n",
      "/Users/abhilash/opt/anaconda3/lib/python3.9/site-packages/sklearn/base.py:450: UserWarning: X does not have valid feature names, but StandardScaler was fitted with feature names\n",
      "  warnings.warn(\n"
     ]
    },
    {
     "name": "stdout",
     "output_type": "stream",
     "text": [
      "1/1 [==============================] - 0s 26ms/step\n",
      "1/1 [==============================] - 0s 28ms/step\n",
      "1/1 [==============================] - 0s 29ms/step\n"
     ]
    },
    {
     "name": "stderr",
     "output_type": "stream",
     "text": [
      "/var/folders/g_/mmqgkbcx0qn0r2j_wxv7rf2m0000gn/T/ipykernel_50021/4215304269.py:40: FutureWarning: The frame.append method is deprecated and will be removed from pandas in a future version. Use pandas.concat instead.\n",
      "  room_df = room_df.append(row, ignore_index=True)\n",
      "/Users/abhilash/opt/anaconda3/lib/python3.9/site-packages/sklearn/base.py:450: UserWarning: X does not have valid feature names, but StandardScaler was fitted with feature names\n",
      "  warnings.warn(\n",
      "/var/folders/g_/mmqgkbcx0qn0r2j_wxv7rf2m0000gn/T/ipykernel_50021/4215304269.py:40: FutureWarning: The frame.append method is deprecated and will be removed from pandas in a future version. Use pandas.concat instead.\n",
      "  room_df = room_df.append(row, ignore_index=True)\n",
      "/Users/abhilash/opt/anaconda3/lib/python3.9/site-packages/sklearn/base.py:450: UserWarning: X does not have valid feature names, but StandardScaler was fitted with feature names\n",
      "  warnings.warn(\n",
      "/var/folders/g_/mmqgkbcx0qn0r2j_wxv7rf2m0000gn/T/ipykernel_50021/4215304269.py:40: FutureWarning: The frame.append method is deprecated and will be removed from pandas in a future version. Use pandas.concat instead.\n",
      "  room_df = room_df.append(row, ignore_index=True)\n",
      "/Users/abhilash/opt/anaconda3/lib/python3.9/site-packages/sklearn/base.py:450: UserWarning: X does not have valid feature names, but StandardScaler was fitted with feature names\n",
      "  warnings.warn(\n"
     ]
    },
    {
     "name": "stdout",
     "output_type": "stream",
     "text": [
      "1/1 [==============================] - 0s 28ms/step\n",
      "1/1 [==============================] - 0s 34ms/step\n",
      "1/1 [==============================] - 0s 26ms/step\n"
     ]
    },
    {
     "name": "stderr",
     "output_type": "stream",
     "text": [
      "/var/folders/g_/mmqgkbcx0qn0r2j_wxv7rf2m0000gn/T/ipykernel_50021/4215304269.py:40: FutureWarning: The frame.append method is deprecated and will be removed from pandas in a future version. Use pandas.concat instead.\n",
      "  room_df = room_df.append(row, ignore_index=True)\n",
      "/Users/abhilash/opt/anaconda3/lib/python3.9/site-packages/sklearn/base.py:450: UserWarning: X does not have valid feature names, but StandardScaler was fitted with feature names\n",
      "  warnings.warn(\n",
      "/var/folders/g_/mmqgkbcx0qn0r2j_wxv7rf2m0000gn/T/ipykernel_50021/4215304269.py:40: FutureWarning: The frame.append method is deprecated and will be removed from pandas in a future version. Use pandas.concat instead.\n",
      "  room_df = room_df.append(row, ignore_index=True)\n",
      "/Users/abhilash/opt/anaconda3/lib/python3.9/site-packages/sklearn/base.py:450: UserWarning: X does not have valid feature names, but StandardScaler was fitted with feature names\n",
      "  warnings.warn(\n",
      "/var/folders/g_/mmqgkbcx0qn0r2j_wxv7rf2m0000gn/T/ipykernel_50021/4215304269.py:40: FutureWarning: The frame.append method is deprecated and will be removed from pandas in a future version. Use pandas.concat instead.\n",
      "  room_df = room_df.append(row, ignore_index=True)\n",
      "/Users/abhilash/opt/anaconda3/lib/python3.9/site-packages/sklearn/base.py:450: UserWarning: X does not have valid feature names, but StandardScaler was fitted with feature names\n",
      "  warnings.warn(\n"
     ]
    },
    {
     "name": "stdout",
     "output_type": "stream",
     "text": [
      "1/1 [==============================] - 0s 28ms/step\n",
      "1/1 [==============================] - 0s 27ms/step\n",
      "1/1 [==============================] - 0s 28ms/step\n"
     ]
    },
    {
     "name": "stderr",
     "output_type": "stream",
     "text": [
      "/var/folders/g_/mmqgkbcx0qn0r2j_wxv7rf2m0000gn/T/ipykernel_50021/4215304269.py:40: FutureWarning: The frame.append method is deprecated and will be removed from pandas in a future version. Use pandas.concat instead.\n",
      "  room_df = room_df.append(row, ignore_index=True)\n",
      "/Users/abhilash/opt/anaconda3/lib/python3.9/site-packages/sklearn/base.py:450: UserWarning: X does not have valid feature names, but StandardScaler was fitted with feature names\n",
      "  warnings.warn(\n",
      "/var/folders/g_/mmqgkbcx0qn0r2j_wxv7rf2m0000gn/T/ipykernel_50021/4215304269.py:40: FutureWarning: The frame.append method is deprecated and will be removed from pandas in a future version. Use pandas.concat instead.\n",
      "  room_df = room_df.append(row, ignore_index=True)\n",
      "/Users/abhilash/opt/anaconda3/lib/python3.9/site-packages/sklearn/base.py:450: UserWarning: X does not have valid feature names, but StandardScaler was fitted with feature names\n",
      "  warnings.warn(\n",
      "/var/folders/g_/mmqgkbcx0qn0r2j_wxv7rf2m0000gn/T/ipykernel_50021/4215304269.py:40: FutureWarning: The frame.append method is deprecated and will be removed from pandas in a future version. Use pandas.concat instead.\n",
      "  room_df = room_df.append(row, ignore_index=True)\n",
      "/Users/abhilash/opt/anaconda3/lib/python3.9/site-packages/sklearn/base.py:450: UserWarning: X does not have valid feature names, but StandardScaler was fitted with feature names\n",
      "  warnings.warn(\n"
     ]
    },
    {
     "name": "stdout",
     "output_type": "stream",
     "text": [
      "1/1 [==============================] - 0s 28ms/step\n",
      "1/1 [==============================] - 0s 26ms/step\n",
      "1/1 [==============================] - 0s 26ms/step\n"
     ]
    },
    {
     "name": "stderr",
     "output_type": "stream",
     "text": [
      "/var/folders/g_/mmqgkbcx0qn0r2j_wxv7rf2m0000gn/T/ipykernel_50021/4215304269.py:40: FutureWarning: The frame.append method is deprecated and will be removed from pandas in a future version. Use pandas.concat instead.\n",
      "  room_df = room_df.append(row, ignore_index=True)\n",
      "/Users/abhilash/opt/anaconda3/lib/python3.9/site-packages/sklearn/base.py:450: UserWarning: X does not have valid feature names, but StandardScaler was fitted with feature names\n",
      "  warnings.warn(\n",
      "/var/folders/g_/mmqgkbcx0qn0r2j_wxv7rf2m0000gn/T/ipykernel_50021/4215304269.py:40: FutureWarning: The frame.append method is deprecated and will be removed from pandas in a future version. Use pandas.concat instead.\n",
      "  room_df = room_df.append(row, ignore_index=True)\n",
      "/Users/abhilash/opt/anaconda3/lib/python3.9/site-packages/sklearn/base.py:450: UserWarning: X does not have valid feature names, but StandardScaler was fitted with feature names\n",
      "  warnings.warn(\n",
      "/var/folders/g_/mmqgkbcx0qn0r2j_wxv7rf2m0000gn/T/ipykernel_50021/4215304269.py:40: FutureWarning: The frame.append method is deprecated and will be removed from pandas in a future version. Use pandas.concat instead.\n",
      "  room_df = room_df.append(row, ignore_index=True)\n",
      "/Users/abhilash/opt/anaconda3/lib/python3.9/site-packages/sklearn/base.py:450: UserWarning: X does not have valid feature names, but StandardScaler was fitted with feature names\n",
      "  warnings.warn(\n"
     ]
    },
    {
     "name": "stdout",
     "output_type": "stream",
     "text": [
      "1/1 [==============================] - 0s 29ms/step\n",
      "1/1 [==============================] - 0s 26ms/step\n",
      "1/1 [==============================] - 0s 26ms/step\n"
     ]
    },
    {
     "name": "stderr",
     "output_type": "stream",
     "text": [
      "/var/folders/g_/mmqgkbcx0qn0r2j_wxv7rf2m0000gn/T/ipykernel_50021/4215304269.py:40: FutureWarning: The frame.append method is deprecated and will be removed from pandas in a future version. Use pandas.concat instead.\n",
      "  room_df = room_df.append(row, ignore_index=True)\n",
      "/Users/abhilash/opt/anaconda3/lib/python3.9/site-packages/sklearn/base.py:450: UserWarning: X does not have valid feature names, but StandardScaler was fitted with feature names\n",
      "  warnings.warn(\n",
      "/var/folders/g_/mmqgkbcx0qn0r2j_wxv7rf2m0000gn/T/ipykernel_50021/4215304269.py:40: FutureWarning: The frame.append method is deprecated and will be removed from pandas in a future version. Use pandas.concat instead.\n",
      "  room_df = room_df.append(row, ignore_index=True)\n",
      "/Users/abhilash/opt/anaconda3/lib/python3.9/site-packages/sklearn/base.py:450: UserWarning: X does not have valid feature names, but StandardScaler was fitted with feature names\n",
      "  warnings.warn(\n",
      "/var/folders/g_/mmqgkbcx0qn0r2j_wxv7rf2m0000gn/T/ipykernel_50021/4215304269.py:40: FutureWarning: The frame.append method is deprecated and will be removed from pandas in a future version. Use pandas.concat instead.\n",
      "  room_df = room_df.append(row, ignore_index=True)\n",
      "/Users/abhilash/opt/anaconda3/lib/python3.9/site-packages/sklearn/base.py:450: UserWarning: X does not have valid feature names, but StandardScaler was fitted with feature names\n",
      "  warnings.warn(\n"
     ]
    },
    {
     "name": "stdout",
     "output_type": "stream",
     "text": [
      "1/1 [==============================] - 0s 31ms/step\n",
      "1/1 [==============================] - 0s 26ms/step\n",
      "1/1 [==============================] - 0s 27ms/step\n"
     ]
    },
    {
     "name": "stderr",
     "output_type": "stream",
     "text": [
      "/var/folders/g_/mmqgkbcx0qn0r2j_wxv7rf2m0000gn/T/ipykernel_50021/4215304269.py:40: FutureWarning: The frame.append method is deprecated and will be removed from pandas in a future version. Use pandas.concat instead.\n",
      "  room_df = room_df.append(row, ignore_index=True)\n",
      "/Users/abhilash/opt/anaconda3/lib/python3.9/site-packages/sklearn/base.py:450: UserWarning: X does not have valid feature names, but StandardScaler was fitted with feature names\n",
      "  warnings.warn(\n",
      "/var/folders/g_/mmqgkbcx0qn0r2j_wxv7rf2m0000gn/T/ipykernel_50021/4215304269.py:40: FutureWarning: The frame.append method is deprecated and will be removed from pandas in a future version. Use pandas.concat instead.\n",
      "  room_df = room_df.append(row, ignore_index=True)\n",
      "/Users/abhilash/opt/anaconda3/lib/python3.9/site-packages/sklearn/base.py:450: UserWarning: X does not have valid feature names, but StandardScaler was fitted with feature names\n",
      "  warnings.warn(\n",
      "/var/folders/g_/mmqgkbcx0qn0r2j_wxv7rf2m0000gn/T/ipykernel_50021/4215304269.py:40: FutureWarning: The frame.append method is deprecated and will be removed from pandas in a future version. Use pandas.concat instead.\n",
      "  room_df = room_df.append(row, ignore_index=True)\n",
      "/Users/abhilash/opt/anaconda3/lib/python3.9/site-packages/sklearn/base.py:450: UserWarning: X does not have valid feature names, but StandardScaler was fitted with feature names\n",
      "  warnings.warn(\n"
     ]
    },
    {
     "name": "stdout",
     "output_type": "stream",
     "text": [
      "1/1 [==============================] - 0s 28ms/step\n",
      "1/1 [==============================] - 0s 24ms/step\n",
      "1/1 [==============================] - 0s 22ms/step\n"
     ]
    },
    {
     "name": "stderr",
     "output_type": "stream",
     "text": [
      "/var/folders/g_/mmqgkbcx0qn0r2j_wxv7rf2m0000gn/T/ipykernel_50021/4215304269.py:40: FutureWarning: The frame.append method is deprecated and will be removed from pandas in a future version. Use pandas.concat instead.\n",
      "  room_df = room_df.append(row, ignore_index=True)\n",
      "/Users/abhilash/opt/anaconda3/lib/python3.9/site-packages/sklearn/base.py:450: UserWarning: X does not have valid feature names, but StandardScaler was fitted with feature names\n",
      "  warnings.warn(\n",
      "/var/folders/g_/mmqgkbcx0qn0r2j_wxv7rf2m0000gn/T/ipykernel_50021/4215304269.py:40: FutureWarning: The frame.append method is deprecated and will be removed from pandas in a future version. Use pandas.concat instead.\n",
      "  room_df = room_df.append(row, ignore_index=True)\n",
      "/Users/abhilash/opt/anaconda3/lib/python3.9/site-packages/sklearn/base.py:450: UserWarning: X does not have valid feature names, but StandardScaler was fitted with feature names\n",
      "  warnings.warn(\n",
      "/var/folders/g_/mmqgkbcx0qn0r2j_wxv7rf2m0000gn/T/ipykernel_50021/4215304269.py:40: FutureWarning: The frame.append method is deprecated and will be removed from pandas in a future version. Use pandas.concat instead.\n",
      "  room_df = room_df.append(row, ignore_index=True)\n",
      "/Users/abhilash/opt/anaconda3/lib/python3.9/site-packages/sklearn/base.py:450: UserWarning: X does not have valid feature names, but StandardScaler was fitted with feature names\n",
      "  warnings.warn(\n"
     ]
    },
    {
     "name": "stdout",
     "output_type": "stream",
     "text": [
      "1/1 [==============================] - 0s 24ms/step\n",
      "1/1 [==============================] - 0s 23ms/step\n",
      "1/1 [==============================] - 0s 22ms/step\n"
     ]
    },
    {
     "name": "stderr",
     "output_type": "stream",
     "text": [
      "/var/folders/g_/mmqgkbcx0qn0r2j_wxv7rf2m0000gn/T/ipykernel_50021/4215304269.py:40: FutureWarning: The frame.append method is deprecated and will be removed from pandas in a future version. Use pandas.concat instead.\n",
      "  room_df = room_df.append(row, ignore_index=True)\n",
      "/Users/abhilash/opt/anaconda3/lib/python3.9/site-packages/sklearn/base.py:450: UserWarning: X does not have valid feature names, but StandardScaler was fitted with feature names\n",
      "  warnings.warn(\n",
      "/var/folders/g_/mmqgkbcx0qn0r2j_wxv7rf2m0000gn/T/ipykernel_50021/4215304269.py:40: FutureWarning: The frame.append method is deprecated and will be removed from pandas in a future version. Use pandas.concat instead.\n",
      "  room_df = room_df.append(row, ignore_index=True)\n",
      "/Users/abhilash/opt/anaconda3/lib/python3.9/site-packages/sklearn/base.py:450: UserWarning: X does not have valid feature names, but StandardScaler was fitted with feature names\n",
      "  warnings.warn(\n",
      "/var/folders/g_/mmqgkbcx0qn0r2j_wxv7rf2m0000gn/T/ipykernel_50021/4215304269.py:40: FutureWarning: The frame.append method is deprecated and will be removed from pandas in a future version. Use pandas.concat instead.\n",
      "  room_df = room_df.append(row, ignore_index=True)\n",
      "/Users/abhilash/opt/anaconda3/lib/python3.9/site-packages/sklearn/base.py:450: UserWarning: X does not have valid feature names, but StandardScaler was fitted with feature names\n",
      "  warnings.warn(\n"
     ]
    },
    {
     "name": "stdout",
     "output_type": "stream",
     "text": [
      "1/1 [==============================] - 0s 27ms/step\n",
      "1/1 [==============================] - 0s 25ms/step\n",
      "1/1 [==============================] - 0s 27ms/step\n"
     ]
    },
    {
     "name": "stderr",
     "output_type": "stream",
     "text": [
      "/var/folders/g_/mmqgkbcx0qn0r2j_wxv7rf2m0000gn/T/ipykernel_50021/4215304269.py:40: FutureWarning: The frame.append method is deprecated and will be removed from pandas in a future version. Use pandas.concat instead.\n",
      "  room_df = room_df.append(row, ignore_index=True)\n",
      "/Users/abhilash/opt/anaconda3/lib/python3.9/site-packages/sklearn/base.py:450: UserWarning: X does not have valid feature names, but StandardScaler was fitted with feature names\n",
      "  warnings.warn(\n",
      "/var/folders/g_/mmqgkbcx0qn0r2j_wxv7rf2m0000gn/T/ipykernel_50021/4215304269.py:40: FutureWarning: The frame.append method is deprecated and will be removed from pandas in a future version. Use pandas.concat instead.\n",
      "  room_df = room_df.append(row, ignore_index=True)\n",
      "/Users/abhilash/opt/anaconda3/lib/python3.9/site-packages/sklearn/base.py:450: UserWarning: X does not have valid feature names, but StandardScaler was fitted with feature names\n",
      "  warnings.warn(\n",
      "/var/folders/g_/mmqgkbcx0qn0r2j_wxv7rf2m0000gn/T/ipykernel_50021/4215304269.py:40: FutureWarning: The frame.append method is deprecated and will be removed from pandas in a future version. Use pandas.concat instead.\n",
      "  room_df = room_df.append(row, ignore_index=True)\n",
      "/Users/abhilash/opt/anaconda3/lib/python3.9/site-packages/sklearn/base.py:450: UserWarning: X does not have valid feature names, but StandardScaler was fitted with feature names\n",
      "  warnings.warn(\n"
     ]
    },
    {
     "name": "stdout",
     "output_type": "stream",
     "text": [
      "1/1 [==============================] - 0s 27ms/step\n",
      "1/1 [==============================] - 0s 31ms/step\n",
      "1/1 [==============================] - 0s 23ms/step\n"
     ]
    },
    {
     "name": "stderr",
     "output_type": "stream",
     "text": [
      "/var/folders/g_/mmqgkbcx0qn0r2j_wxv7rf2m0000gn/T/ipykernel_50021/4215304269.py:40: FutureWarning: The frame.append method is deprecated and will be removed from pandas in a future version. Use pandas.concat instead.\n",
      "  room_df = room_df.append(row, ignore_index=True)\n",
      "/Users/abhilash/opt/anaconda3/lib/python3.9/site-packages/sklearn/base.py:450: UserWarning: X does not have valid feature names, but StandardScaler was fitted with feature names\n",
      "  warnings.warn(\n",
      "/var/folders/g_/mmqgkbcx0qn0r2j_wxv7rf2m0000gn/T/ipykernel_50021/4215304269.py:40: FutureWarning: The frame.append method is deprecated and will be removed from pandas in a future version. Use pandas.concat instead.\n",
      "  room_df = room_df.append(row, ignore_index=True)\n",
      "/Users/abhilash/opt/anaconda3/lib/python3.9/site-packages/sklearn/base.py:450: UserWarning: X does not have valid feature names, but StandardScaler was fitted with feature names\n",
      "  warnings.warn(\n",
      "/var/folders/g_/mmqgkbcx0qn0r2j_wxv7rf2m0000gn/T/ipykernel_50021/4215304269.py:40: FutureWarning: The frame.append method is deprecated and will be removed from pandas in a future version. Use pandas.concat instead.\n",
      "  room_df = room_df.append(row, ignore_index=True)\n",
      "/Users/abhilash/opt/anaconda3/lib/python3.9/site-packages/sklearn/base.py:450: UserWarning: X does not have valid feature names, but StandardScaler was fitted with feature names\n",
      "  warnings.warn(\n"
     ]
    },
    {
     "name": "stdout",
     "output_type": "stream",
     "text": [
      "1/1 [==============================] - 0s 25ms/step\n",
      "1/1 [==============================] - 0s 21ms/step\n",
      "1/1 [==============================] - 0s 22ms/step\n",
      "1/1 [==============================] - 0s 22ms/step\n"
     ]
    },
    {
     "name": "stderr",
     "output_type": "stream",
     "text": [
      "/var/folders/g_/mmqgkbcx0qn0r2j_wxv7rf2m0000gn/T/ipykernel_50021/4215304269.py:40: FutureWarning: The frame.append method is deprecated and will be removed from pandas in a future version. Use pandas.concat instead.\n",
      "  room_df = room_df.append(row, ignore_index=True)\n",
      "/Users/abhilash/opt/anaconda3/lib/python3.9/site-packages/sklearn/base.py:450: UserWarning: X does not have valid feature names, but StandardScaler was fitted with feature names\n",
      "  warnings.warn(\n",
      "/var/folders/g_/mmqgkbcx0qn0r2j_wxv7rf2m0000gn/T/ipykernel_50021/4215304269.py:40: FutureWarning: The frame.append method is deprecated and will be removed from pandas in a future version. Use pandas.concat instead.\n",
      "  room_df = room_df.append(row, ignore_index=True)\n",
      "/Users/abhilash/opt/anaconda3/lib/python3.9/site-packages/sklearn/base.py:450: UserWarning: X does not have valid feature names, but StandardScaler was fitted with feature names\n",
      "  warnings.warn(\n",
      "/var/folders/g_/mmqgkbcx0qn0r2j_wxv7rf2m0000gn/T/ipykernel_50021/4215304269.py:40: FutureWarning: The frame.append method is deprecated and will be removed from pandas in a future version. Use pandas.concat instead.\n",
      "  room_df = room_df.append(row, ignore_index=True)\n",
      "/Users/abhilash/opt/anaconda3/lib/python3.9/site-packages/sklearn/base.py:450: UserWarning: X does not have valid feature names, but StandardScaler was fitted with feature names\n",
      "  warnings.warn(\n",
      "/var/folders/g_/mmqgkbcx0qn0r2j_wxv7rf2m0000gn/T/ipykernel_50021/4215304269.py:40: FutureWarning: The frame.append method is deprecated and will be removed from pandas in a future version. Use pandas.concat instead.\n",
      "  room_df = room_df.append(row, ignore_index=True)\n",
      "/Users/abhilash/opt/anaconda3/lib/python3.9/site-packages/sklearn/base.py:450: UserWarning: X does not have valid feature names, but StandardScaler was fitted with feature names\n",
      "  warnings.warn(\n"
     ]
    },
    {
     "name": "stdout",
     "output_type": "stream",
     "text": [
      "1/1 [==============================] - 0s 26ms/step\n",
      "1/1 [==============================] - 0s 25ms/step\n",
      "1/1 [==============================] - 0s 23ms/step\n"
     ]
    },
    {
     "name": "stderr",
     "output_type": "stream",
     "text": [
      "/var/folders/g_/mmqgkbcx0qn0r2j_wxv7rf2m0000gn/T/ipykernel_50021/4215304269.py:40: FutureWarning: The frame.append method is deprecated and will be removed from pandas in a future version. Use pandas.concat instead.\n",
      "  room_df = room_df.append(row, ignore_index=True)\n",
      "/Users/abhilash/opt/anaconda3/lib/python3.9/site-packages/sklearn/base.py:450: UserWarning: X does not have valid feature names, but StandardScaler was fitted with feature names\n",
      "  warnings.warn(\n",
      "/var/folders/g_/mmqgkbcx0qn0r2j_wxv7rf2m0000gn/T/ipykernel_50021/4215304269.py:40: FutureWarning: The frame.append method is deprecated and will be removed from pandas in a future version. Use pandas.concat instead.\n",
      "  room_df = room_df.append(row, ignore_index=True)\n",
      "/Users/abhilash/opt/anaconda3/lib/python3.9/site-packages/sklearn/base.py:450: UserWarning: X does not have valid feature names, but StandardScaler was fitted with feature names\n",
      "  warnings.warn(\n",
      "/var/folders/g_/mmqgkbcx0qn0r2j_wxv7rf2m0000gn/T/ipykernel_50021/4215304269.py:40: FutureWarning: The frame.append method is deprecated and will be removed from pandas in a future version. Use pandas.concat instead.\n",
      "  room_df = room_df.append(row, ignore_index=True)\n",
      "/Users/abhilash/opt/anaconda3/lib/python3.9/site-packages/sklearn/base.py:450: UserWarning: X does not have valid feature names, but StandardScaler was fitted with feature names\n",
      "  warnings.warn(\n"
     ]
    },
    {
     "name": "stdout",
     "output_type": "stream",
     "text": [
      "1/1 [==============================] - 0s 25ms/step\n",
      "1/1 [==============================] - 0s 22ms/step\n",
      "1/1 [==============================] - 0s 22ms/step\n",
      "1/1 [==============================] - 0s 22ms/step\n"
     ]
    },
    {
     "name": "stderr",
     "output_type": "stream",
     "text": [
      "/var/folders/g_/mmqgkbcx0qn0r2j_wxv7rf2m0000gn/T/ipykernel_50021/4215304269.py:40: FutureWarning: The frame.append method is deprecated and will be removed from pandas in a future version. Use pandas.concat instead.\n",
      "  room_df = room_df.append(row, ignore_index=True)\n",
      "/Users/abhilash/opt/anaconda3/lib/python3.9/site-packages/sklearn/base.py:450: UserWarning: X does not have valid feature names, but StandardScaler was fitted with feature names\n",
      "  warnings.warn(\n",
      "/var/folders/g_/mmqgkbcx0qn0r2j_wxv7rf2m0000gn/T/ipykernel_50021/4215304269.py:40: FutureWarning: The frame.append method is deprecated and will be removed from pandas in a future version. Use pandas.concat instead.\n",
      "  room_df = room_df.append(row, ignore_index=True)\n",
      "/Users/abhilash/opt/anaconda3/lib/python3.9/site-packages/sklearn/base.py:450: UserWarning: X does not have valid feature names, but StandardScaler was fitted with feature names\n",
      "  warnings.warn(\n",
      "/var/folders/g_/mmqgkbcx0qn0r2j_wxv7rf2m0000gn/T/ipykernel_50021/4215304269.py:40: FutureWarning: The frame.append method is deprecated and will be removed from pandas in a future version. Use pandas.concat instead.\n",
      "  room_df = room_df.append(row, ignore_index=True)\n",
      "/Users/abhilash/opt/anaconda3/lib/python3.9/site-packages/sklearn/base.py:450: UserWarning: X does not have valid feature names, but StandardScaler was fitted with feature names\n",
      "  warnings.warn(\n",
      "/var/folders/g_/mmqgkbcx0qn0r2j_wxv7rf2m0000gn/T/ipykernel_50021/4215304269.py:40: FutureWarning: The frame.append method is deprecated and will be removed from pandas in a future version. Use pandas.concat instead.\n",
      "  room_df = room_df.append(row, ignore_index=True)\n",
      "/Users/abhilash/opt/anaconda3/lib/python3.9/site-packages/sklearn/base.py:450: UserWarning: X does not have valid feature names, but StandardScaler was fitted with feature names\n",
      "  warnings.warn(\n"
     ]
    },
    {
     "name": "stdout",
     "output_type": "stream",
     "text": [
      "1/1 [==============================] - 0s 23ms/step\n",
      "1/1 [==============================] - 0s 23ms/step\n",
      "1/1 [==============================] - 0s 21ms/step\n"
     ]
    },
    {
     "name": "stderr",
     "output_type": "stream",
     "text": [
      "/var/folders/g_/mmqgkbcx0qn0r2j_wxv7rf2m0000gn/T/ipykernel_50021/4215304269.py:40: FutureWarning: The frame.append method is deprecated and will be removed from pandas in a future version. Use pandas.concat instead.\n",
      "  room_df = room_df.append(row, ignore_index=True)\n",
      "/Users/abhilash/opt/anaconda3/lib/python3.9/site-packages/sklearn/base.py:450: UserWarning: X does not have valid feature names, but StandardScaler was fitted with feature names\n",
      "  warnings.warn(\n",
      "/var/folders/g_/mmqgkbcx0qn0r2j_wxv7rf2m0000gn/T/ipykernel_50021/4215304269.py:40: FutureWarning: The frame.append method is deprecated and will be removed from pandas in a future version. Use pandas.concat instead.\n",
      "  room_df = room_df.append(row, ignore_index=True)\n",
      "/Users/abhilash/opt/anaconda3/lib/python3.9/site-packages/sklearn/base.py:450: UserWarning: X does not have valid feature names, but StandardScaler was fitted with feature names\n",
      "  warnings.warn(\n",
      "/var/folders/g_/mmqgkbcx0qn0r2j_wxv7rf2m0000gn/T/ipykernel_50021/4215304269.py:40: FutureWarning: The frame.append method is deprecated and will be removed from pandas in a future version. Use pandas.concat instead.\n",
      "  room_df = room_df.append(row, ignore_index=True)\n",
      "/Users/abhilash/opt/anaconda3/lib/python3.9/site-packages/sklearn/base.py:450: UserWarning: X does not have valid feature names, but StandardScaler was fitted with feature names\n",
      "  warnings.warn(\n"
     ]
    },
    {
     "name": "stdout",
     "output_type": "stream",
     "text": [
      "1/1 [==============================] - 0s 23ms/step\n",
      "1/1 [==============================] - 0s 23ms/step\n",
      "1/1 [==============================] - 0s 22ms/step\n"
     ]
    },
    {
     "name": "stderr",
     "output_type": "stream",
     "text": [
      "/var/folders/g_/mmqgkbcx0qn0r2j_wxv7rf2m0000gn/T/ipykernel_50021/4215304269.py:40: FutureWarning: The frame.append method is deprecated and will be removed from pandas in a future version. Use pandas.concat instead.\n",
      "  room_df = room_df.append(row, ignore_index=True)\n",
      "/Users/abhilash/opt/anaconda3/lib/python3.9/site-packages/sklearn/base.py:450: UserWarning: X does not have valid feature names, but StandardScaler was fitted with feature names\n",
      "  warnings.warn(\n",
      "/var/folders/g_/mmqgkbcx0qn0r2j_wxv7rf2m0000gn/T/ipykernel_50021/4215304269.py:40: FutureWarning: The frame.append method is deprecated and will be removed from pandas in a future version. Use pandas.concat instead.\n",
      "  room_df = room_df.append(row, ignore_index=True)\n",
      "/Users/abhilash/opt/anaconda3/lib/python3.9/site-packages/sklearn/base.py:450: UserWarning: X does not have valid feature names, but StandardScaler was fitted with feature names\n",
      "  warnings.warn(\n",
      "/var/folders/g_/mmqgkbcx0qn0r2j_wxv7rf2m0000gn/T/ipykernel_50021/4215304269.py:40: FutureWarning: The frame.append method is deprecated and will be removed from pandas in a future version. Use pandas.concat instead.\n",
      "  room_df = room_df.append(row, ignore_index=True)\n",
      "/Users/abhilash/opt/anaconda3/lib/python3.9/site-packages/sklearn/base.py:450: UserWarning: X does not have valid feature names, but StandardScaler was fitted with feature names\n",
      "  warnings.warn(\n"
     ]
    },
    {
     "name": "stdout",
     "output_type": "stream",
     "text": [
      "1/1 [==============================] - 0s 22ms/step\n",
      "1/1 [==============================] - 0s 22ms/step\n",
      "1/1 [==============================] - 0s 21ms/step\n"
     ]
    },
    {
     "name": "stderr",
     "output_type": "stream",
     "text": [
      "/var/folders/g_/mmqgkbcx0qn0r2j_wxv7rf2m0000gn/T/ipykernel_50021/4215304269.py:40: FutureWarning: The frame.append method is deprecated and will be removed from pandas in a future version. Use pandas.concat instead.\n",
      "  room_df = room_df.append(row, ignore_index=True)\n",
      "/Users/abhilash/opt/anaconda3/lib/python3.9/site-packages/sklearn/base.py:450: UserWarning: X does not have valid feature names, but StandardScaler was fitted with feature names\n",
      "  warnings.warn(\n",
      "/var/folders/g_/mmqgkbcx0qn0r2j_wxv7rf2m0000gn/T/ipykernel_50021/4215304269.py:40: FutureWarning: The frame.append method is deprecated and will be removed from pandas in a future version. Use pandas.concat instead.\n",
      "  room_df = room_df.append(row, ignore_index=True)\n",
      "/var/folders/g_/mmqgkbcx0qn0r2j_wxv7rf2m0000gn/T/ipykernel_50021/4215304269.py:43: FutureWarning: The frame.append method is deprecated and will be removed from pandas in a future version. Use pandas.concat instead.\n",
      "  pred_df = pred_df.append(room_df, ignore_index=True)\n",
      "/Users/abhilash/opt/anaconda3/lib/python3.9/site-packages/sklearn/base.py:450: UserWarning: X does not have valid feature names, but StandardScaler was fitted with feature names\n",
      "  warnings.warn(\n",
      "/var/folders/g_/mmqgkbcx0qn0r2j_wxv7rf2m0000gn/T/ipykernel_50021/4215304269.py:40: FutureWarning: The frame.append method is deprecated and will be removed from pandas in a future version. Use pandas.concat instead.\n",
      "  room_df = room_df.append(row, ignore_index=True)\n",
      "/Users/abhilash/opt/anaconda3/lib/python3.9/site-packages/sklearn/base.py:450: UserWarning: X does not have valid feature names, but StandardScaler was fitted with feature names\n",
      "  warnings.warn(\n"
     ]
    },
    {
     "name": "stdout",
     "output_type": "stream",
     "text": [
      "1/1 [==============================] - 0s 27ms/step\n",
      "1/1 [==============================] - 0s 27ms/step\n",
      "1/1 [==============================] - 0s 21ms/step\n"
     ]
    },
    {
     "name": "stderr",
     "output_type": "stream",
     "text": [
      "/var/folders/g_/mmqgkbcx0qn0r2j_wxv7rf2m0000gn/T/ipykernel_50021/4215304269.py:40: FutureWarning: The frame.append method is deprecated and will be removed from pandas in a future version. Use pandas.concat instead.\n",
      "  room_df = room_df.append(row, ignore_index=True)\n",
      "/Users/abhilash/opt/anaconda3/lib/python3.9/site-packages/sklearn/base.py:450: UserWarning: X does not have valid feature names, but StandardScaler was fitted with feature names\n",
      "  warnings.warn(\n",
      "/var/folders/g_/mmqgkbcx0qn0r2j_wxv7rf2m0000gn/T/ipykernel_50021/4215304269.py:40: FutureWarning: The frame.append method is deprecated and will be removed from pandas in a future version. Use pandas.concat instead.\n",
      "  room_df = room_df.append(row, ignore_index=True)\n",
      "/Users/abhilash/opt/anaconda3/lib/python3.9/site-packages/sklearn/base.py:450: UserWarning: X does not have valid feature names, but StandardScaler was fitted with feature names\n",
      "  warnings.warn(\n",
      "/var/folders/g_/mmqgkbcx0qn0r2j_wxv7rf2m0000gn/T/ipykernel_50021/4215304269.py:40: FutureWarning: The frame.append method is deprecated and will be removed from pandas in a future version. Use pandas.concat instead.\n",
      "  room_df = room_df.append(row, ignore_index=True)\n",
      "/Users/abhilash/opt/anaconda3/lib/python3.9/site-packages/sklearn/base.py:450: UserWarning: X does not have valid feature names, but StandardScaler was fitted with feature names\n",
      "  warnings.warn(\n"
     ]
    },
    {
     "name": "stdout",
     "output_type": "stream",
     "text": [
      "1/1 [==============================] - 0s 21ms/step\n",
      "1/1 [==============================] - 0s 22ms/step\n",
      "1/1 [==============================] - 0s 21ms/step\n"
     ]
    },
    {
     "name": "stderr",
     "output_type": "stream",
     "text": [
      "/var/folders/g_/mmqgkbcx0qn0r2j_wxv7rf2m0000gn/T/ipykernel_50021/4215304269.py:40: FutureWarning: The frame.append method is deprecated and will be removed from pandas in a future version. Use pandas.concat instead.\n",
      "  room_df = room_df.append(row, ignore_index=True)\n",
      "/Users/abhilash/opt/anaconda3/lib/python3.9/site-packages/sklearn/base.py:450: UserWarning: X does not have valid feature names, but StandardScaler was fitted with feature names\n",
      "  warnings.warn(\n",
      "/var/folders/g_/mmqgkbcx0qn0r2j_wxv7rf2m0000gn/T/ipykernel_50021/4215304269.py:40: FutureWarning: The frame.append method is deprecated and will be removed from pandas in a future version. Use pandas.concat instead.\n",
      "  room_df = room_df.append(row, ignore_index=True)\n",
      "/Users/abhilash/opt/anaconda3/lib/python3.9/site-packages/sklearn/base.py:450: UserWarning: X does not have valid feature names, but StandardScaler was fitted with feature names\n",
      "  warnings.warn(\n",
      "/var/folders/g_/mmqgkbcx0qn0r2j_wxv7rf2m0000gn/T/ipykernel_50021/4215304269.py:40: FutureWarning: The frame.append method is deprecated and will be removed from pandas in a future version. Use pandas.concat instead.\n",
      "  room_df = room_df.append(row, ignore_index=True)\n",
      "/Users/abhilash/opt/anaconda3/lib/python3.9/site-packages/sklearn/base.py:450: UserWarning: X does not have valid feature names, but StandardScaler was fitted with feature names\n",
      "  warnings.warn(\n"
     ]
    },
    {
     "name": "stdout",
     "output_type": "stream",
     "text": [
      "1/1 [==============================] - 0s 29ms/step\n",
      "1/1 [==============================] - 0s 26ms/step\n",
      "1/1 [==============================] - 0s 23ms/step\n"
     ]
    },
    {
     "name": "stderr",
     "output_type": "stream",
     "text": [
      "/var/folders/g_/mmqgkbcx0qn0r2j_wxv7rf2m0000gn/T/ipykernel_50021/4215304269.py:40: FutureWarning: The frame.append method is deprecated and will be removed from pandas in a future version. Use pandas.concat instead.\n",
      "  room_df = room_df.append(row, ignore_index=True)\n",
      "/Users/abhilash/opt/anaconda3/lib/python3.9/site-packages/sklearn/base.py:450: UserWarning: X does not have valid feature names, but StandardScaler was fitted with feature names\n",
      "  warnings.warn(\n",
      "/var/folders/g_/mmqgkbcx0qn0r2j_wxv7rf2m0000gn/T/ipykernel_50021/4215304269.py:40: FutureWarning: The frame.append method is deprecated and will be removed from pandas in a future version. Use pandas.concat instead.\n",
      "  room_df = room_df.append(row, ignore_index=True)\n",
      "/Users/abhilash/opt/anaconda3/lib/python3.9/site-packages/sklearn/base.py:450: UserWarning: X does not have valid feature names, but StandardScaler was fitted with feature names\n",
      "  warnings.warn(\n",
      "/var/folders/g_/mmqgkbcx0qn0r2j_wxv7rf2m0000gn/T/ipykernel_50021/4215304269.py:40: FutureWarning: The frame.append method is deprecated and will be removed from pandas in a future version. Use pandas.concat instead.\n",
      "  room_df = room_df.append(row, ignore_index=True)\n",
      "/Users/abhilash/opt/anaconda3/lib/python3.9/site-packages/sklearn/base.py:450: UserWarning: X does not have valid feature names, but StandardScaler was fitted with feature names\n",
      "  warnings.warn(\n"
     ]
    },
    {
     "name": "stdout",
     "output_type": "stream",
     "text": [
      "1/1 [==============================] - 0s 26ms/step\n",
      "1/1 [==============================] - 0s 27ms/step\n",
      "1/1 [==============================] - 0s 26ms/step\n"
     ]
    },
    {
     "name": "stderr",
     "output_type": "stream",
     "text": [
      "/var/folders/g_/mmqgkbcx0qn0r2j_wxv7rf2m0000gn/T/ipykernel_50021/4215304269.py:40: FutureWarning: The frame.append method is deprecated and will be removed from pandas in a future version. Use pandas.concat instead.\n",
      "  room_df = room_df.append(row, ignore_index=True)\n",
      "/Users/abhilash/opt/anaconda3/lib/python3.9/site-packages/sklearn/base.py:450: UserWarning: X does not have valid feature names, but StandardScaler was fitted with feature names\n",
      "  warnings.warn(\n",
      "/var/folders/g_/mmqgkbcx0qn0r2j_wxv7rf2m0000gn/T/ipykernel_50021/4215304269.py:40: FutureWarning: The frame.append method is deprecated and will be removed from pandas in a future version. Use pandas.concat instead.\n",
      "  room_df = room_df.append(row, ignore_index=True)\n",
      "/Users/abhilash/opt/anaconda3/lib/python3.9/site-packages/sklearn/base.py:450: UserWarning: X does not have valid feature names, but StandardScaler was fitted with feature names\n",
      "  warnings.warn(\n",
      "/var/folders/g_/mmqgkbcx0qn0r2j_wxv7rf2m0000gn/T/ipykernel_50021/4215304269.py:40: FutureWarning: The frame.append method is deprecated and will be removed from pandas in a future version. Use pandas.concat instead.\n",
      "  room_df = room_df.append(row, ignore_index=True)\n",
      "/Users/abhilash/opt/anaconda3/lib/python3.9/site-packages/sklearn/base.py:450: UserWarning: X does not have valid feature names, but StandardScaler was fitted with feature names\n",
      "  warnings.warn(\n"
     ]
    },
    {
     "name": "stdout",
     "output_type": "stream",
     "text": [
      "1/1 [==============================] - 0s 74ms/step\n",
      "1/1 [==============================] - 0s 21ms/step\n",
      "1/1 [==============================] - 0s 22ms/step\n",
      "1/1 [==============================] - 0s 23ms/step\n"
     ]
    },
    {
     "name": "stderr",
     "output_type": "stream",
     "text": [
      "/var/folders/g_/mmqgkbcx0qn0r2j_wxv7rf2m0000gn/T/ipykernel_50021/4215304269.py:40: FutureWarning: The frame.append method is deprecated and will be removed from pandas in a future version. Use pandas.concat instead.\n",
      "  room_df = room_df.append(row, ignore_index=True)\n",
      "/Users/abhilash/opt/anaconda3/lib/python3.9/site-packages/sklearn/base.py:450: UserWarning: X does not have valid feature names, but StandardScaler was fitted with feature names\n",
      "  warnings.warn(\n",
      "/var/folders/g_/mmqgkbcx0qn0r2j_wxv7rf2m0000gn/T/ipykernel_50021/4215304269.py:40: FutureWarning: The frame.append method is deprecated and will be removed from pandas in a future version. Use pandas.concat instead.\n",
      "  room_df = room_df.append(row, ignore_index=True)\n",
      "/Users/abhilash/opt/anaconda3/lib/python3.9/site-packages/sklearn/base.py:450: UserWarning: X does not have valid feature names, but StandardScaler was fitted with feature names\n",
      "  warnings.warn(\n",
      "/var/folders/g_/mmqgkbcx0qn0r2j_wxv7rf2m0000gn/T/ipykernel_50021/4215304269.py:40: FutureWarning: The frame.append method is deprecated and will be removed from pandas in a future version. Use pandas.concat instead.\n",
      "  room_df = room_df.append(row, ignore_index=True)\n",
      "/Users/abhilash/opt/anaconda3/lib/python3.9/site-packages/sklearn/base.py:450: UserWarning: X does not have valid feature names, but StandardScaler was fitted with feature names\n",
      "  warnings.warn(\n",
      "/var/folders/g_/mmqgkbcx0qn0r2j_wxv7rf2m0000gn/T/ipykernel_50021/4215304269.py:40: FutureWarning: The frame.append method is deprecated and will be removed from pandas in a future version. Use pandas.concat instead.\n",
      "  room_df = room_df.append(row, ignore_index=True)\n",
      "/Users/abhilash/opt/anaconda3/lib/python3.9/site-packages/sklearn/base.py:450: UserWarning: X does not have valid feature names, but StandardScaler was fitted with feature names\n",
      "  warnings.warn(\n"
     ]
    },
    {
     "name": "stdout",
     "output_type": "stream",
     "text": [
      "1/1 [==============================] - 0s 25ms/step\n",
      "1/1 [==============================] - 0s 27ms/step\n",
      "1/1 [==============================] - 0s 27ms/step\n"
     ]
    },
    {
     "name": "stderr",
     "output_type": "stream",
     "text": [
      "/var/folders/g_/mmqgkbcx0qn0r2j_wxv7rf2m0000gn/T/ipykernel_50021/4215304269.py:40: FutureWarning: The frame.append method is deprecated and will be removed from pandas in a future version. Use pandas.concat instead.\n",
      "  room_df = room_df.append(row, ignore_index=True)\n",
      "/Users/abhilash/opt/anaconda3/lib/python3.9/site-packages/sklearn/base.py:450: UserWarning: X does not have valid feature names, but StandardScaler was fitted with feature names\n",
      "  warnings.warn(\n",
      "/var/folders/g_/mmqgkbcx0qn0r2j_wxv7rf2m0000gn/T/ipykernel_50021/4215304269.py:40: FutureWarning: The frame.append method is deprecated and will be removed from pandas in a future version. Use pandas.concat instead.\n",
      "  room_df = room_df.append(row, ignore_index=True)\n",
      "/Users/abhilash/opt/anaconda3/lib/python3.9/site-packages/sklearn/base.py:450: UserWarning: X does not have valid feature names, but StandardScaler was fitted with feature names\n",
      "  warnings.warn(\n",
      "/var/folders/g_/mmqgkbcx0qn0r2j_wxv7rf2m0000gn/T/ipykernel_50021/4215304269.py:40: FutureWarning: The frame.append method is deprecated and will be removed from pandas in a future version. Use pandas.concat instead.\n",
      "  room_df = room_df.append(row, ignore_index=True)\n",
      "/Users/abhilash/opt/anaconda3/lib/python3.9/site-packages/sklearn/base.py:450: UserWarning: X does not have valid feature names, but StandardScaler was fitted with feature names\n",
      "  warnings.warn(\n"
     ]
    },
    {
     "name": "stdout",
     "output_type": "stream",
     "text": [
      "1/1 [==============================] - 0s 26ms/step\n",
      "1/1 [==============================] - 0s 27ms/step\n",
      "1/1 [==============================] - 0s 22ms/step\n"
     ]
    },
    {
     "name": "stderr",
     "output_type": "stream",
     "text": [
      "/var/folders/g_/mmqgkbcx0qn0r2j_wxv7rf2m0000gn/T/ipykernel_50021/4215304269.py:40: FutureWarning: The frame.append method is deprecated and will be removed from pandas in a future version. Use pandas.concat instead.\n",
      "  room_df = room_df.append(row, ignore_index=True)\n",
      "/Users/abhilash/opt/anaconda3/lib/python3.9/site-packages/sklearn/base.py:450: UserWarning: X does not have valid feature names, but StandardScaler was fitted with feature names\n",
      "  warnings.warn(\n",
      "/var/folders/g_/mmqgkbcx0qn0r2j_wxv7rf2m0000gn/T/ipykernel_50021/4215304269.py:40: FutureWarning: The frame.append method is deprecated and will be removed from pandas in a future version. Use pandas.concat instead.\n",
      "  room_df = room_df.append(row, ignore_index=True)\n",
      "/Users/abhilash/opt/anaconda3/lib/python3.9/site-packages/sklearn/base.py:450: UserWarning: X does not have valid feature names, but StandardScaler was fitted with feature names\n",
      "  warnings.warn(\n",
      "/var/folders/g_/mmqgkbcx0qn0r2j_wxv7rf2m0000gn/T/ipykernel_50021/4215304269.py:40: FutureWarning: The frame.append method is deprecated and will be removed from pandas in a future version. Use pandas.concat instead.\n",
      "  room_df = room_df.append(row, ignore_index=True)\n",
      "/Users/abhilash/opt/anaconda3/lib/python3.9/site-packages/sklearn/base.py:450: UserWarning: X does not have valid feature names, but StandardScaler was fitted with feature names\n",
      "  warnings.warn(\n"
     ]
    },
    {
     "name": "stdout",
     "output_type": "stream",
     "text": [
      "1/1 [==============================] - 0s 25ms/step\n",
      "1/1 [==============================] - 0s 22ms/step\n",
      "1/1 [==============================] - 0s 24ms/step\n"
     ]
    },
    {
     "name": "stderr",
     "output_type": "stream",
     "text": [
      "/var/folders/g_/mmqgkbcx0qn0r2j_wxv7rf2m0000gn/T/ipykernel_50021/4215304269.py:40: FutureWarning: The frame.append method is deprecated and will be removed from pandas in a future version. Use pandas.concat instead.\n",
      "  room_df = room_df.append(row, ignore_index=True)\n",
      "/Users/abhilash/opt/anaconda3/lib/python3.9/site-packages/sklearn/base.py:450: UserWarning: X does not have valid feature names, but StandardScaler was fitted with feature names\n",
      "  warnings.warn(\n",
      "/var/folders/g_/mmqgkbcx0qn0r2j_wxv7rf2m0000gn/T/ipykernel_50021/4215304269.py:40: FutureWarning: The frame.append method is deprecated and will be removed from pandas in a future version. Use pandas.concat instead.\n",
      "  room_df = room_df.append(row, ignore_index=True)\n",
      "/Users/abhilash/opt/anaconda3/lib/python3.9/site-packages/sklearn/base.py:450: UserWarning: X does not have valid feature names, but StandardScaler was fitted with feature names\n",
      "  warnings.warn(\n",
      "/var/folders/g_/mmqgkbcx0qn0r2j_wxv7rf2m0000gn/T/ipykernel_50021/4215304269.py:40: FutureWarning: The frame.append method is deprecated and will be removed from pandas in a future version. Use pandas.concat instead.\n",
      "  room_df = room_df.append(row, ignore_index=True)\n",
      "/Users/abhilash/opt/anaconda3/lib/python3.9/site-packages/sklearn/base.py:450: UserWarning: X does not have valid feature names, but StandardScaler was fitted with feature names\n",
      "  warnings.warn(\n"
     ]
    },
    {
     "name": "stdout",
     "output_type": "stream",
     "text": [
      "1/1 [==============================] - 0s 26ms/step\n",
      "1/1 [==============================] - 0s 24ms/step\n",
      "1/1 [==============================] - 0s 22ms/step\n"
     ]
    },
    {
     "name": "stderr",
     "output_type": "stream",
     "text": [
      "/var/folders/g_/mmqgkbcx0qn0r2j_wxv7rf2m0000gn/T/ipykernel_50021/4215304269.py:40: FutureWarning: The frame.append method is deprecated and will be removed from pandas in a future version. Use pandas.concat instead.\n",
      "  room_df = room_df.append(row, ignore_index=True)\n",
      "/Users/abhilash/opt/anaconda3/lib/python3.9/site-packages/sklearn/base.py:450: UserWarning: X does not have valid feature names, but StandardScaler was fitted with feature names\n",
      "  warnings.warn(\n",
      "/var/folders/g_/mmqgkbcx0qn0r2j_wxv7rf2m0000gn/T/ipykernel_50021/4215304269.py:40: FutureWarning: The frame.append method is deprecated and will be removed from pandas in a future version. Use pandas.concat instead.\n",
      "  room_df = room_df.append(row, ignore_index=True)\n",
      "/Users/abhilash/opt/anaconda3/lib/python3.9/site-packages/sklearn/base.py:450: UserWarning: X does not have valid feature names, but StandardScaler was fitted with feature names\n",
      "  warnings.warn(\n",
      "/var/folders/g_/mmqgkbcx0qn0r2j_wxv7rf2m0000gn/T/ipykernel_50021/4215304269.py:40: FutureWarning: The frame.append method is deprecated and will be removed from pandas in a future version. Use pandas.concat instead.\n",
      "  room_df = room_df.append(row, ignore_index=True)\n",
      "/Users/abhilash/opt/anaconda3/lib/python3.9/site-packages/sklearn/base.py:450: UserWarning: X does not have valid feature names, but StandardScaler was fitted with feature names\n",
      "  warnings.warn(\n"
     ]
    },
    {
     "name": "stdout",
     "output_type": "stream",
     "text": [
      "1/1 [==============================] - 0s 36ms/step\n",
      "1/1 [==============================] - 0s 24ms/step\n",
      "1/1 [==============================] - 0s 24ms/step\n"
     ]
    },
    {
     "name": "stderr",
     "output_type": "stream",
     "text": [
      "/var/folders/g_/mmqgkbcx0qn0r2j_wxv7rf2m0000gn/T/ipykernel_50021/4215304269.py:40: FutureWarning: The frame.append method is deprecated and will be removed from pandas in a future version. Use pandas.concat instead.\n",
      "  room_df = room_df.append(row, ignore_index=True)\n",
      "/Users/abhilash/opt/anaconda3/lib/python3.9/site-packages/sklearn/base.py:450: UserWarning: X does not have valid feature names, but StandardScaler was fitted with feature names\n",
      "  warnings.warn(\n",
      "/var/folders/g_/mmqgkbcx0qn0r2j_wxv7rf2m0000gn/T/ipykernel_50021/4215304269.py:40: FutureWarning: The frame.append method is deprecated and will be removed from pandas in a future version. Use pandas.concat instead.\n",
      "  room_df = room_df.append(row, ignore_index=True)\n",
      "/Users/abhilash/opt/anaconda3/lib/python3.9/site-packages/sklearn/base.py:450: UserWarning: X does not have valid feature names, but StandardScaler was fitted with feature names\n",
      "  warnings.warn(\n",
      "/var/folders/g_/mmqgkbcx0qn0r2j_wxv7rf2m0000gn/T/ipykernel_50021/4215304269.py:40: FutureWarning: The frame.append method is deprecated and will be removed from pandas in a future version. Use pandas.concat instead.\n",
      "  room_df = room_df.append(row, ignore_index=True)\n",
      "/Users/abhilash/opt/anaconda3/lib/python3.9/site-packages/sklearn/base.py:450: UserWarning: X does not have valid feature names, but StandardScaler was fitted with feature names\n",
      "  warnings.warn(\n"
     ]
    },
    {
     "name": "stdout",
     "output_type": "stream",
     "text": [
      "1/1 [==============================] - 0s 27ms/step\n",
      "1/1 [==============================] - 0s 25ms/step\n",
      "1/1 [==============================] - 0s 30ms/step\n"
     ]
    },
    {
     "name": "stderr",
     "output_type": "stream",
     "text": [
      "/var/folders/g_/mmqgkbcx0qn0r2j_wxv7rf2m0000gn/T/ipykernel_50021/4215304269.py:40: FutureWarning: The frame.append method is deprecated and will be removed from pandas in a future version. Use pandas.concat instead.\n",
      "  room_df = room_df.append(row, ignore_index=True)\n",
      "/Users/abhilash/opt/anaconda3/lib/python3.9/site-packages/sklearn/base.py:450: UserWarning: X does not have valid feature names, but StandardScaler was fitted with feature names\n",
      "  warnings.warn(\n",
      "/var/folders/g_/mmqgkbcx0qn0r2j_wxv7rf2m0000gn/T/ipykernel_50021/4215304269.py:40: FutureWarning: The frame.append method is deprecated and will be removed from pandas in a future version. Use pandas.concat instead.\n",
      "  room_df = room_df.append(row, ignore_index=True)\n",
      "/Users/abhilash/opt/anaconda3/lib/python3.9/site-packages/sklearn/base.py:450: UserWarning: X does not have valid feature names, but StandardScaler was fitted with feature names\n",
      "  warnings.warn(\n",
      "/var/folders/g_/mmqgkbcx0qn0r2j_wxv7rf2m0000gn/T/ipykernel_50021/4215304269.py:40: FutureWarning: The frame.append method is deprecated and will be removed from pandas in a future version. Use pandas.concat instead.\n",
      "  room_df = room_df.append(row, ignore_index=True)\n",
      "/Users/abhilash/opt/anaconda3/lib/python3.9/site-packages/sklearn/base.py:450: UserWarning: X does not have valid feature names, but StandardScaler was fitted with feature names\n",
      "  warnings.warn(\n"
     ]
    },
    {
     "name": "stdout",
     "output_type": "stream",
     "text": [
      "1/1 [==============================] - 0s 30ms/step\n",
      "1/1 [==============================] - 0s 24ms/step\n",
      "1/1 [==============================] - 0s 23ms/step\n"
     ]
    },
    {
     "name": "stderr",
     "output_type": "stream",
     "text": [
      "/var/folders/g_/mmqgkbcx0qn0r2j_wxv7rf2m0000gn/T/ipykernel_50021/4215304269.py:40: FutureWarning: The frame.append method is deprecated and will be removed from pandas in a future version. Use pandas.concat instead.\n",
      "  room_df = room_df.append(row, ignore_index=True)\n",
      "/Users/abhilash/opt/anaconda3/lib/python3.9/site-packages/sklearn/base.py:450: UserWarning: X does not have valid feature names, but StandardScaler was fitted with feature names\n",
      "  warnings.warn(\n",
      "/var/folders/g_/mmqgkbcx0qn0r2j_wxv7rf2m0000gn/T/ipykernel_50021/4215304269.py:40: FutureWarning: The frame.append method is deprecated and will be removed from pandas in a future version. Use pandas.concat instead.\n",
      "  room_df = room_df.append(row, ignore_index=True)\n",
      "/Users/abhilash/opt/anaconda3/lib/python3.9/site-packages/sklearn/base.py:450: UserWarning: X does not have valid feature names, but StandardScaler was fitted with feature names\n",
      "  warnings.warn(\n",
      "/var/folders/g_/mmqgkbcx0qn0r2j_wxv7rf2m0000gn/T/ipykernel_50021/4215304269.py:40: FutureWarning: The frame.append method is deprecated and will be removed from pandas in a future version. Use pandas.concat instead.\n",
      "  room_df = room_df.append(row, ignore_index=True)\n",
      "/Users/abhilash/opt/anaconda3/lib/python3.9/site-packages/sklearn/base.py:450: UserWarning: X does not have valid feature names, but StandardScaler was fitted with feature names\n",
      "  warnings.warn(\n"
     ]
    },
    {
     "name": "stdout",
     "output_type": "stream",
     "text": [
      "1/1 [==============================] - 0s 24ms/step\n",
      "1/1 [==============================] - 0s 22ms/step\n",
      "1/1 [==============================] - 0s 23ms/step\n",
      "1/1 [==============================] - 0s 22ms/step\n"
     ]
    },
    {
     "name": "stderr",
     "output_type": "stream",
     "text": [
      "/var/folders/g_/mmqgkbcx0qn0r2j_wxv7rf2m0000gn/T/ipykernel_50021/4215304269.py:40: FutureWarning: The frame.append method is deprecated and will be removed from pandas in a future version. Use pandas.concat instead.\n",
      "  room_df = room_df.append(row, ignore_index=True)\n",
      "/Users/abhilash/opt/anaconda3/lib/python3.9/site-packages/sklearn/base.py:450: UserWarning: X does not have valid feature names, but StandardScaler was fitted with feature names\n",
      "  warnings.warn(\n",
      "/var/folders/g_/mmqgkbcx0qn0r2j_wxv7rf2m0000gn/T/ipykernel_50021/4215304269.py:40: FutureWarning: The frame.append method is deprecated and will be removed from pandas in a future version. Use pandas.concat instead.\n",
      "  room_df = room_df.append(row, ignore_index=True)\n",
      "/Users/abhilash/opt/anaconda3/lib/python3.9/site-packages/sklearn/base.py:450: UserWarning: X does not have valid feature names, but StandardScaler was fitted with feature names\n",
      "  warnings.warn(\n",
      "/var/folders/g_/mmqgkbcx0qn0r2j_wxv7rf2m0000gn/T/ipykernel_50021/4215304269.py:40: FutureWarning: The frame.append method is deprecated and will be removed from pandas in a future version. Use pandas.concat instead.\n",
      "  room_df = room_df.append(row, ignore_index=True)\n",
      "/Users/abhilash/opt/anaconda3/lib/python3.9/site-packages/sklearn/base.py:450: UserWarning: X does not have valid feature names, but StandardScaler was fitted with feature names\n",
      "  warnings.warn(\n",
      "/var/folders/g_/mmqgkbcx0qn0r2j_wxv7rf2m0000gn/T/ipykernel_50021/4215304269.py:40: FutureWarning: The frame.append method is deprecated and will be removed from pandas in a future version. Use pandas.concat instead.\n",
      "  room_df = room_df.append(row, ignore_index=True)\n",
      "/Users/abhilash/opt/anaconda3/lib/python3.9/site-packages/sklearn/base.py:450: UserWarning: X does not have valid feature names, but StandardScaler was fitted with feature names\n",
      "  warnings.warn(\n"
     ]
    },
    {
     "name": "stdout",
     "output_type": "stream",
     "text": [
      "1/1 [==============================] - 0s 24ms/step\n",
      "1/1 [==============================] - 0s 25ms/step\n",
      "1/1 [==============================] - 0s 23ms/step\n",
      "1/1 [==============================] - 0s 22ms/step\n"
     ]
    },
    {
     "name": "stderr",
     "output_type": "stream",
     "text": [
      "/var/folders/g_/mmqgkbcx0qn0r2j_wxv7rf2m0000gn/T/ipykernel_50021/4215304269.py:40: FutureWarning: The frame.append method is deprecated and will be removed from pandas in a future version. Use pandas.concat instead.\n",
      "  room_df = room_df.append(row, ignore_index=True)\n",
      "/Users/abhilash/opt/anaconda3/lib/python3.9/site-packages/sklearn/base.py:450: UserWarning: X does not have valid feature names, but StandardScaler was fitted with feature names\n",
      "  warnings.warn(\n",
      "/var/folders/g_/mmqgkbcx0qn0r2j_wxv7rf2m0000gn/T/ipykernel_50021/4215304269.py:40: FutureWarning: The frame.append method is deprecated and will be removed from pandas in a future version. Use pandas.concat instead.\n",
      "  room_df = room_df.append(row, ignore_index=True)\n",
      "/Users/abhilash/opt/anaconda3/lib/python3.9/site-packages/sklearn/base.py:450: UserWarning: X does not have valid feature names, but StandardScaler was fitted with feature names\n",
      "  warnings.warn(\n",
      "/var/folders/g_/mmqgkbcx0qn0r2j_wxv7rf2m0000gn/T/ipykernel_50021/4215304269.py:40: FutureWarning: The frame.append method is deprecated and will be removed from pandas in a future version. Use pandas.concat instead.\n",
      "  room_df = room_df.append(row, ignore_index=True)\n",
      "/Users/abhilash/opt/anaconda3/lib/python3.9/site-packages/sklearn/base.py:450: UserWarning: X does not have valid feature names, but StandardScaler was fitted with feature names\n",
      "  warnings.warn(\n"
     ]
    },
    {
     "name": "stdout",
     "output_type": "stream",
     "text": [
      "1/1 [==============================] - 0s 21ms/step\n",
      "1/1 [==============================] - 0s 25ms/step\n"
     ]
    },
    {
     "name": "stderr",
     "output_type": "stream",
     "text": [
      "/var/folders/g_/mmqgkbcx0qn0r2j_wxv7rf2m0000gn/T/ipykernel_50021/4215304269.py:40: FutureWarning: The frame.append method is deprecated and will be removed from pandas in a future version. Use pandas.concat instead.\n",
      "  room_df = room_df.append(row, ignore_index=True)\n",
      "/Users/abhilash/opt/anaconda3/lib/python3.9/site-packages/sklearn/base.py:450: UserWarning: X does not have valid feature names, but StandardScaler was fitted with feature names\n",
      "  warnings.warn(\n",
      "/var/folders/g_/mmqgkbcx0qn0r2j_wxv7rf2m0000gn/T/ipykernel_50021/4215304269.py:40: FutureWarning: The frame.append method is deprecated and will be removed from pandas in a future version. Use pandas.concat instead.\n",
      "  room_df = room_df.append(row, ignore_index=True)\n",
      "/Users/abhilash/opt/anaconda3/lib/python3.9/site-packages/sklearn/base.py:450: UserWarning: X does not have valid feature names, but StandardScaler was fitted with feature names\n",
      "  warnings.warn(\n",
      "/var/folders/g_/mmqgkbcx0qn0r2j_wxv7rf2m0000gn/T/ipykernel_50021/4215304269.py:40: FutureWarning: The frame.append method is deprecated and will be removed from pandas in a future version. Use pandas.concat instead.\n",
      "  room_df = room_df.append(row, ignore_index=True)\n",
      "/Users/abhilash/opt/anaconda3/lib/python3.9/site-packages/sklearn/base.py:450: UserWarning: X does not have valid feature names, but StandardScaler was fitted with feature names\n",
      "  warnings.warn(\n"
     ]
    },
    {
     "name": "stdout",
     "output_type": "stream",
     "text": [
      "1/1 [==============================] - 0s 23ms/step\n",
      "1/1 [==============================] - 0s 22ms/step\n",
      "1/1 [==============================] - 0s 23ms/step\n"
     ]
    },
    {
     "name": "stderr",
     "output_type": "stream",
     "text": [
      "/var/folders/g_/mmqgkbcx0qn0r2j_wxv7rf2m0000gn/T/ipykernel_50021/4215304269.py:40: FutureWarning: The frame.append method is deprecated and will be removed from pandas in a future version. Use pandas.concat instead.\n",
      "  room_df = room_df.append(row, ignore_index=True)\n",
      "/Users/abhilash/opt/anaconda3/lib/python3.9/site-packages/sklearn/base.py:450: UserWarning: X does not have valid feature names, but StandardScaler was fitted with feature names\n",
      "  warnings.warn(\n",
      "/var/folders/g_/mmqgkbcx0qn0r2j_wxv7rf2m0000gn/T/ipykernel_50021/4215304269.py:40: FutureWarning: The frame.append method is deprecated and will be removed from pandas in a future version. Use pandas.concat instead.\n",
      "  room_df = room_df.append(row, ignore_index=True)\n",
      "/Users/abhilash/opt/anaconda3/lib/python3.9/site-packages/sklearn/base.py:450: UserWarning: X does not have valid feature names, but StandardScaler was fitted with feature names\n",
      "  warnings.warn(\n",
      "/var/folders/g_/mmqgkbcx0qn0r2j_wxv7rf2m0000gn/T/ipykernel_50021/4215304269.py:40: FutureWarning: The frame.append method is deprecated and will be removed from pandas in a future version. Use pandas.concat instead.\n",
      "  room_df = room_df.append(row, ignore_index=True)\n",
      "/Users/abhilash/opt/anaconda3/lib/python3.9/site-packages/sklearn/base.py:450: UserWarning: X does not have valid feature names, but StandardScaler was fitted with feature names\n",
      "  warnings.warn(\n"
     ]
    },
    {
     "name": "stdout",
     "output_type": "stream",
     "text": [
      "1/1 [==============================] - 0s 25ms/step\n",
      "1/1 [==============================] - 0s 22ms/step\n",
      "1/1 [==============================] - 0s 21ms/step\n",
      "1/1 [==============================] - 0s 22ms/step\n"
     ]
    },
    {
     "name": "stderr",
     "output_type": "stream",
     "text": [
      "/var/folders/g_/mmqgkbcx0qn0r2j_wxv7rf2m0000gn/T/ipykernel_50021/4215304269.py:40: FutureWarning: The frame.append method is deprecated and will be removed from pandas in a future version. Use pandas.concat instead.\n",
      "  room_df = room_df.append(row, ignore_index=True)\n",
      "/Users/abhilash/opt/anaconda3/lib/python3.9/site-packages/sklearn/base.py:450: UserWarning: X does not have valid feature names, but StandardScaler was fitted with feature names\n",
      "  warnings.warn(\n",
      "/var/folders/g_/mmqgkbcx0qn0r2j_wxv7rf2m0000gn/T/ipykernel_50021/4215304269.py:40: FutureWarning: The frame.append method is deprecated and will be removed from pandas in a future version. Use pandas.concat instead.\n",
      "  room_df = room_df.append(row, ignore_index=True)\n",
      "/Users/abhilash/opt/anaconda3/lib/python3.9/site-packages/sklearn/base.py:450: UserWarning: X does not have valid feature names, but StandardScaler was fitted with feature names\n",
      "  warnings.warn(\n",
      "/var/folders/g_/mmqgkbcx0qn0r2j_wxv7rf2m0000gn/T/ipykernel_50021/4215304269.py:40: FutureWarning: The frame.append method is deprecated and will be removed from pandas in a future version. Use pandas.concat instead.\n",
      "  room_df = room_df.append(row, ignore_index=True)\n",
      "/Users/abhilash/opt/anaconda3/lib/python3.9/site-packages/sklearn/base.py:450: UserWarning: X does not have valid feature names, but StandardScaler was fitted with feature names\n",
      "  warnings.warn(\n",
      "/var/folders/g_/mmqgkbcx0qn0r2j_wxv7rf2m0000gn/T/ipykernel_50021/4215304269.py:40: FutureWarning: The frame.append method is deprecated and will be removed from pandas in a future version. Use pandas.concat instead.\n",
      "  room_df = room_df.append(row, ignore_index=True)\n",
      "/Users/abhilash/opt/anaconda3/lib/python3.9/site-packages/sklearn/base.py:450: UserWarning: X does not have valid feature names, but StandardScaler was fitted with feature names\n",
      "  warnings.warn(\n"
     ]
    },
    {
     "name": "stdout",
     "output_type": "stream",
     "text": [
      "1/1 [==============================] - 0s 22ms/step\n",
      "1/1 [==============================] - 0s 22ms/step\n",
      "1/1 [==============================] - 0s 27ms/step\n"
     ]
    },
    {
     "name": "stderr",
     "output_type": "stream",
     "text": [
      "/var/folders/g_/mmqgkbcx0qn0r2j_wxv7rf2m0000gn/T/ipykernel_50021/4215304269.py:40: FutureWarning: The frame.append method is deprecated and will be removed from pandas in a future version. Use pandas.concat instead.\n",
      "  room_df = room_df.append(row, ignore_index=True)\n",
      "/Users/abhilash/opt/anaconda3/lib/python3.9/site-packages/sklearn/base.py:450: UserWarning: X does not have valid feature names, but StandardScaler was fitted with feature names\n",
      "  warnings.warn(\n",
      "/var/folders/g_/mmqgkbcx0qn0r2j_wxv7rf2m0000gn/T/ipykernel_50021/4215304269.py:40: FutureWarning: The frame.append method is deprecated and will be removed from pandas in a future version. Use pandas.concat instead.\n",
      "  room_df = room_df.append(row, ignore_index=True)\n",
      "/Users/abhilash/opt/anaconda3/lib/python3.9/site-packages/sklearn/base.py:450: UserWarning: X does not have valid feature names, but StandardScaler was fitted with feature names\n",
      "  warnings.warn(\n",
      "/var/folders/g_/mmqgkbcx0qn0r2j_wxv7rf2m0000gn/T/ipykernel_50021/4215304269.py:40: FutureWarning: The frame.append method is deprecated and will be removed from pandas in a future version. Use pandas.concat instead.\n",
      "  room_df = room_df.append(row, ignore_index=True)\n",
      "/Users/abhilash/opt/anaconda3/lib/python3.9/site-packages/sklearn/base.py:450: UserWarning: X does not have valid feature names, but StandardScaler was fitted with feature names\n",
      "  warnings.warn(\n"
     ]
    },
    {
     "name": "stdout",
     "output_type": "stream",
     "text": [
      "1/1 [==============================] - 0s 25ms/step\n",
      "1/1 [==============================] - 0s 22ms/step\n",
      "1/1 [==============================] - 0s 21ms/step\n",
      "1/1 [==============================] - 0s 21ms/step\n"
     ]
    },
    {
     "name": "stderr",
     "output_type": "stream",
     "text": [
      "/var/folders/g_/mmqgkbcx0qn0r2j_wxv7rf2m0000gn/T/ipykernel_50021/4215304269.py:40: FutureWarning: The frame.append method is deprecated and will be removed from pandas in a future version. Use pandas.concat instead.\n",
      "  room_df = room_df.append(row, ignore_index=True)\n",
      "/Users/abhilash/opt/anaconda3/lib/python3.9/site-packages/sklearn/base.py:450: UserWarning: X does not have valid feature names, but StandardScaler was fitted with feature names\n",
      "  warnings.warn(\n",
      "/var/folders/g_/mmqgkbcx0qn0r2j_wxv7rf2m0000gn/T/ipykernel_50021/4215304269.py:40: FutureWarning: The frame.append method is deprecated and will be removed from pandas in a future version. Use pandas.concat instead.\n",
      "  room_df = room_df.append(row, ignore_index=True)\n",
      "/Users/abhilash/opt/anaconda3/lib/python3.9/site-packages/sklearn/base.py:450: UserWarning: X does not have valid feature names, but StandardScaler was fitted with feature names\n",
      "  warnings.warn(\n",
      "/var/folders/g_/mmqgkbcx0qn0r2j_wxv7rf2m0000gn/T/ipykernel_50021/4215304269.py:40: FutureWarning: The frame.append method is deprecated and will be removed from pandas in a future version. Use pandas.concat instead.\n",
      "  room_df = room_df.append(row, ignore_index=True)\n",
      "/Users/abhilash/opt/anaconda3/lib/python3.9/site-packages/sklearn/base.py:450: UserWarning: X does not have valid feature names, but StandardScaler was fitted with feature names\n",
      "  warnings.warn(\n",
      "/var/folders/g_/mmqgkbcx0qn0r2j_wxv7rf2m0000gn/T/ipykernel_50021/4215304269.py:40: FutureWarning: The frame.append method is deprecated and will be removed from pandas in a future version. Use pandas.concat instead.\n",
      "  room_df = room_df.append(row, ignore_index=True)\n",
      "/Users/abhilash/opt/anaconda3/lib/python3.9/site-packages/sklearn/base.py:450: UserWarning: X does not have valid feature names, but StandardScaler was fitted with feature names\n",
      "  warnings.warn(\n"
     ]
    },
    {
     "name": "stdout",
     "output_type": "stream",
     "text": [
      "1/1 [==============================] - 0s 21ms/step\n",
      "1/1 [==============================] - 0s 25ms/step\n",
      "1/1 [==============================] - 0s 22ms/step\n"
     ]
    },
    {
     "name": "stderr",
     "output_type": "stream",
     "text": [
      "/var/folders/g_/mmqgkbcx0qn0r2j_wxv7rf2m0000gn/T/ipykernel_50021/4215304269.py:40: FutureWarning: The frame.append method is deprecated and will be removed from pandas in a future version. Use pandas.concat instead.\n",
      "  room_df = room_df.append(row, ignore_index=True)\n",
      "/Users/abhilash/opt/anaconda3/lib/python3.9/site-packages/sklearn/base.py:450: UserWarning: X does not have valid feature names, but StandardScaler was fitted with feature names\n",
      "  warnings.warn(\n",
      "/var/folders/g_/mmqgkbcx0qn0r2j_wxv7rf2m0000gn/T/ipykernel_50021/4215304269.py:40: FutureWarning: The frame.append method is deprecated and will be removed from pandas in a future version. Use pandas.concat instead.\n",
      "  room_df = room_df.append(row, ignore_index=True)\n",
      "/Users/abhilash/opt/anaconda3/lib/python3.9/site-packages/sklearn/base.py:450: UserWarning: X does not have valid feature names, but StandardScaler was fitted with feature names\n",
      "  warnings.warn(\n",
      "/var/folders/g_/mmqgkbcx0qn0r2j_wxv7rf2m0000gn/T/ipykernel_50021/4215304269.py:40: FutureWarning: The frame.append method is deprecated and will be removed from pandas in a future version. Use pandas.concat instead.\n",
      "  room_df = room_df.append(row, ignore_index=True)\n",
      "/Users/abhilash/opt/anaconda3/lib/python3.9/site-packages/sklearn/base.py:450: UserWarning: X does not have valid feature names, but StandardScaler was fitted with feature names\n",
      "  warnings.warn(\n"
     ]
    },
    {
     "name": "stdout",
     "output_type": "stream",
     "text": [
      "1/1 [==============================] - 0s 22ms/step\n",
      "1/1 [==============================] - 0s 21ms/step\n",
      "1/1 [==============================] - 0s 21ms/step\n",
      "1/1 [==============================] - ETA: 0s"
     ]
    },
    {
     "name": "stderr",
     "output_type": "stream",
     "text": [
      "/var/folders/g_/mmqgkbcx0qn0r2j_wxv7rf2m0000gn/T/ipykernel_50021/4215304269.py:40: FutureWarning: The frame.append method is deprecated and will be removed from pandas in a future version. Use pandas.concat instead.\n",
      "  room_df = room_df.append(row, ignore_index=True)\n",
      "/Users/abhilash/opt/anaconda3/lib/python3.9/site-packages/sklearn/base.py:450: UserWarning: X does not have valid feature names, but StandardScaler was fitted with feature names\n",
      "  warnings.warn(\n",
      "/var/folders/g_/mmqgkbcx0qn0r2j_wxv7rf2m0000gn/T/ipykernel_50021/4215304269.py:40: FutureWarning: The frame.append method is deprecated and will be removed from pandas in a future version. Use pandas.concat instead.\n",
      "  room_df = room_df.append(row, ignore_index=True)\n",
      "/Users/abhilash/opt/anaconda3/lib/python3.9/site-packages/sklearn/base.py:450: UserWarning: X does not have valid feature names, but StandardScaler was fitted with feature names\n",
      "  warnings.warn(\n",
      "/var/folders/g_/mmqgkbcx0qn0r2j_wxv7rf2m0000gn/T/ipykernel_50021/4215304269.py:40: FutureWarning: The frame.append method is deprecated and will be removed from pandas in a future version. Use pandas.concat instead.\n",
      "  room_df = room_df.append(row, ignore_index=True)\n",
      "/Users/abhilash/opt/anaconda3/lib/python3.9/site-packages/sklearn/base.py:450: UserWarning: X does not have valid feature names, but StandardScaler was fitted with feature names\n",
      "  warnings.warn(\n"
     ]
    },
    {
     "name": "stdout",
     "output_type": "stream",
     "text": [
      "1/1 [==============================] - 0s 22ms/step\n",
      "1/1 [==============================] - 0s 21ms/step\n",
      "1/1 [==============================] - 0s 21ms/step\n",
      "1/1 [==============================] - 0s 21ms/step\n"
     ]
    },
    {
     "name": "stderr",
     "output_type": "stream",
     "text": [
      "/var/folders/g_/mmqgkbcx0qn0r2j_wxv7rf2m0000gn/T/ipykernel_50021/4215304269.py:40: FutureWarning: The frame.append method is deprecated and will be removed from pandas in a future version. Use pandas.concat instead.\n",
      "  room_df = room_df.append(row, ignore_index=True)\n",
      "/Users/abhilash/opt/anaconda3/lib/python3.9/site-packages/sklearn/base.py:450: UserWarning: X does not have valid feature names, but StandardScaler was fitted with feature names\n",
      "  warnings.warn(\n",
      "/var/folders/g_/mmqgkbcx0qn0r2j_wxv7rf2m0000gn/T/ipykernel_50021/4215304269.py:40: FutureWarning: The frame.append method is deprecated and will be removed from pandas in a future version. Use pandas.concat instead.\n",
      "  room_df = room_df.append(row, ignore_index=True)\n",
      "/Users/abhilash/opt/anaconda3/lib/python3.9/site-packages/sklearn/base.py:450: UserWarning: X does not have valid feature names, but StandardScaler was fitted with feature names\n",
      "  warnings.warn(\n",
      "/var/folders/g_/mmqgkbcx0qn0r2j_wxv7rf2m0000gn/T/ipykernel_50021/4215304269.py:40: FutureWarning: The frame.append method is deprecated and will be removed from pandas in a future version. Use pandas.concat instead.\n",
      "  room_df = room_df.append(row, ignore_index=True)\n",
      "/Users/abhilash/opt/anaconda3/lib/python3.9/site-packages/sklearn/base.py:450: UserWarning: X does not have valid feature names, but StandardScaler was fitted with feature names\n",
      "  warnings.warn(\n",
      "/var/folders/g_/mmqgkbcx0qn0r2j_wxv7rf2m0000gn/T/ipykernel_50021/4215304269.py:40: FutureWarning: The frame.append method is deprecated and will be removed from pandas in a future version. Use pandas.concat instead.\n",
      "  room_df = room_df.append(row, ignore_index=True)\n",
      "/Users/abhilash/opt/anaconda3/lib/python3.9/site-packages/sklearn/base.py:450: UserWarning: X does not have valid feature names, but StandardScaler was fitted with feature names\n",
      "  warnings.warn(\n"
     ]
    },
    {
     "name": "stdout",
     "output_type": "stream",
     "text": [
      "1/1 [==============================] - 0s 21ms/step\n",
      "1/1 [==============================] - 0s 24ms/step\n",
      "1/1 [==============================] - 0s 27ms/step\n"
     ]
    },
    {
     "name": "stderr",
     "output_type": "stream",
     "text": [
      "/var/folders/g_/mmqgkbcx0qn0r2j_wxv7rf2m0000gn/T/ipykernel_50021/4215304269.py:40: FutureWarning: The frame.append method is deprecated and will be removed from pandas in a future version. Use pandas.concat instead.\n",
      "  room_df = room_df.append(row, ignore_index=True)\n",
      "/Users/abhilash/opt/anaconda3/lib/python3.9/site-packages/sklearn/base.py:450: UserWarning: X does not have valid feature names, but StandardScaler was fitted with feature names\n",
      "  warnings.warn(\n",
      "/var/folders/g_/mmqgkbcx0qn0r2j_wxv7rf2m0000gn/T/ipykernel_50021/4215304269.py:40: FutureWarning: The frame.append method is deprecated and will be removed from pandas in a future version. Use pandas.concat instead.\n",
      "  room_df = room_df.append(row, ignore_index=True)\n",
      "/Users/abhilash/opt/anaconda3/lib/python3.9/site-packages/sklearn/base.py:450: UserWarning: X does not have valid feature names, but StandardScaler was fitted with feature names\n",
      "  warnings.warn(\n",
      "/var/folders/g_/mmqgkbcx0qn0r2j_wxv7rf2m0000gn/T/ipykernel_50021/4215304269.py:40: FutureWarning: The frame.append method is deprecated and will be removed from pandas in a future version. Use pandas.concat instead.\n",
      "  room_df = room_df.append(row, ignore_index=True)\n",
      "/Users/abhilash/opt/anaconda3/lib/python3.9/site-packages/sklearn/base.py:450: UserWarning: X does not have valid feature names, but StandardScaler was fitted with feature names\n",
      "  warnings.warn(\n"
     ]
    },
    {
     "name": "stdout",
     "output_type": "stream",
     "text": [
      "1/1 [==============================] - 0s 27ms/step\n",
      "1/1 [==============================] - 0s 26ms/step\n",
      "1/1 [==============================] - 0s 27ms/step\n"
     ]
    },
    {
     "name": "stderr",
     "output_type": "stream",
     "text": [
      "/var/folders/g_/mmqgkbcx0qn0r2j_wxv7rf2m0000gn/T/ipykernel_50021/4215304269.py:40: FutureWarning: The frame.append method is deprecated and will be removed from pandas in a future version. Use pandas.concat instead.\n",
      "  room_df = room_df.append(row, ignore_index=True)\n",
      "/Users/abhilash/opt/anaconda3/lib/python3.9/site-packages/sklearn/base.py:450: UserWarning: X does not have valid feature names, but StandardScaler was fitted with feature names\n",
      "  warnings.warn(\n",
      "/var/folders/g_/mmqgkbcx0qn0r2j_wxv7rf2m0000gn/T/ipykernel_50021/4215304269.py:40: FutureWarning: The frame.append method is deprecated and will be removed from pandas in a future version. Use pandas.concat instead.\n",
      "  room_df = room_df.append(row, ignore_index=True)\n",
      "/Users/abhilash/opt/anaconda3/lib/python3.9/site-packages/sklearn/base.py:450: UserWarning: X does not have valid feature names, but StandardScaler was fitted with feature names\n",
      "  warnings.warn(\n",
      "/var/folders/g_/mmqgkbcx0qn0r2j_wxv7rf2m0000gn/T/ipykernel_50021/4215304269.py:40: FutureWarning: The frame.append method is deprecated and will be removed from pandas in a future version. Use pandas.concat instead.\n",
      "  room_df = room_df.append(row, ignore_index=True)\n",
      "/Users/abhilash/opt/anaconda3/lib/python3.9/site-packages/sklearn/base.py:450: UserWarning: X does not have valid feature names, but StandardScaler was fitted with feature names\n",
      "  warnings.warn(\n"
     ]
    },
    {
     "name": "stdout",
     "output_type": "stream",
     "text": [
      "1/1 [==============================] - 0s 26ms/step\n",
      "1/1 [==============================] - 0s 24ms/step\n",
      "1/1 [==============================] - 0s 27ms/step\n"
     ]
    },
    {
     "name": "stderr",
     "output_type": "stream",
     "text": [
      "/var/folders/g_/mmqgkbcx0qn0r2j_wxv7rf2m0000gn/T/ipykernel_50021/4215304269.py:40: FutureWarning: The frame.append method is deprecated and will be removed from pandas in a future version. Use pandas.concat instead.\n",
      "  room_df = room_df.append(row, ignore_index=True)\n",
      "/Users/abhilash/opt/anaconda3/lib/python3.9/site-packages/sklearn/base.py:450: UserWarning: X does not have valid feature names, but StandardScaler was fitted with feature names\n",
      "  warnings.warn(\n",
      "/var/folders/g_/mmqgkbcx0qn0r2j_wxv7rf2m0000gn/T/ipykernel_50021/4215304269.py:40: FutureWarning: The frame.append method is deprecated and will be removed from pandas in a future version. Use pandas.concat instead.\n",
      "  room_df = room_df.append(row, ignore_index=True)\n",
      "/Users/abhilash/opt/anaconda3/lib/python3.9/site-packages/sklearn/base.py:450: UserWarning: X does not have valid feature names, but StandardScaler was fitted with feature names\n",
      "  warnings.warn(\n",
      "/var/folders/g_/mmqgkbcx0qn0r2j_wxv7rf2m0000gn/T/ipykernel_50021/4215304269.py:40: FutureWarning: The frame.append method is deprecated and will be removed from pandas in a future version. Use pandas.concat instead.\n",
      "  room_df = room_df.append(row, ignore_index=True)\n",
      "/Users/abhilash/opt/anaconda3/lib/python3.9/site-packages/sklearn/base.py:450: UserWarning: X does not have valid feature names, but StandardScaler was fitted with feature names\n",
      "  warnings.warn(\n"
     ]
    },
    {
     "name": "stdout",
     "output_type": "stream",
     "text": [
      "1/1 [==============================] - 0s 29ms/step\n",
      "1/1 [==============================] - 0s 23ms/step\n",
      "1/1 [==============================] - 0s 24ms/step\n"
     ]
    },
    {
     "name": "stderr",
     "output_type": "stream",
     "text": [
      "/var/folders/g_/mmqgkbcx0qn0r2j_wxv7rf2m0000gn/T/ipykernel_50021/4215304269.py:40: FutureWarning: The frame.append method is deprecated and will be removed from pandas in a future version. Use pandas.concat instead.\n",
      "  room_df = room_df.append(row, ignore_index=True)\n",
      "/Users/abhilash/opt/anaconda3/lib/python3.9/site-packages/sklearn/base.py:450: UserWarning: X does not have valid feature names, but StandardScaler was fitted with feature names\n",
      "  warnings.warn(\n",
      "/var/folders/g_/mmqgkbcx0qn0r2j_wxv7rf2m0000gn/T/ipykernel_50021/4215304269.py:40: FutureWarning: The frame.append method is deprecated and will be removed from pandas in a future version. Use pandas.concat instead.\n",
      "  room_df = room_df.append(row, ignore_index=True)\n",
      "/Users/abhilash/opt/anaconda3/lib/python3.9/site-packages/sklearn/base.py:450: UserWarning: X does not have valid feature names, but StandardScaler was fitted with feature names\n",
      "  warnings.warn(\n",
      "/var/folders/g_/mmqgkbcx0qn0r2j_wxv7rf2m0000gn/T/ipykernel_50021/4215304269.py:40: FutureWarning: The frame.append method is deprecated and will be removed from pandas in a future version. Use pandas.concat instead.\n",
      "  room_df = room_df.append(row, ignore_index=True)\n",
      "/Users/abhilash/opt/anaconda3/lib/python3.9/site-packages/sklearn/base.py:450: UserWarning: X does not have valid feature names, but StandardScaler was fitted with feature names\n",
      "  warnings.warn(\n"
     ]
    },
    {
     "name": "stdout",
     "output_type": "stream",
     "text": [
      "1/1 [==============================] - 0s 27ms/step\n",
      "1/1 [==============================] - 0s 27ms/step\n",
      "1/1 [==============================] - 0s 28ms/step\n"
     ]
    },
    {
     "name": "stderr",
     "output_type": "stream",
     "text": [
      "/var/folders/g_/mmqgkbcx0qn0r2j_wxv7rf2m0000gn/T/ipykernel_50021/4215304269.py:40: FutureWarning: The frame.append method is deprecated and will be removed from pandas in a future version. Use pandas.concat instead.\n",
      "  room_df = room_df.append(row, ignore_index=True)\n",
      "/Users/abhilash/opt/anaconda3/lib/python3.9/site-packages/sklearn/base.py:450: UserWarning: X does not have valid feature names, but StandardScaler was fitted with feature names\n",
      "  warnings.warn(\n",
      "/var/folders/g_/mmqgkbcx0qn0r2j_wxv7rf2m0000gn/T/ipykernel_50021/4215304269.py:40: FutureWarning: The frame.append method is deprecated and will be removed from pandas in a future version. Use pandas.concat instead.\n",
      "  room_df = room_df.append(row, ignore_index=True)\n",
      "/Users/abhilash/opt/anaconda3/lib/python3.9/site-packages/sklearn/base.py:450: UserWarning: X does not have valid feature names, but StandardScaler was fitted with feature names\n",
      "  warnings.warn(\n",
      "/var/folders/g_/mmqgkbcx0qn0r2j_wxv7rf2m0000gn/T/ipykernel_50021/4215304269.py:40: FutureWarning: The frame.append method is deprecated and will be removed from pandas in a future version. Use pandas.concat instead.\n",
      "  room_df = room_df.append(row, ignore_index=True)\n",
      "/Users/abhilash/opt/anaconda3/lib/python3.9/site-packages/sklearn/base.py:450: UserWarning: X does not have valid feature names, but StandardScaler was fitted with feature names\n",
      "  warnings.warn(\n"
     ]
    },
    {
     "name": "stdout",
     "output_type": "stream",
     "text": [
      "1/1 [==============================] - 0s 38ms/step\n",
      "1/1 [==============================] - 0s 25ms/step\n",
      "1/1 [==============================] - 0s 28ms/step\n"
     ]
    },
    {
     "name": "stderr",
     "output_type": "stream",
     "text": [
      "/var/folders/g_/mmqgkbcx0qn0r2j_wxv7rf2m0000gn/T/ipykernel_50021/4215304269.py:40: FutureWarning: The frame.append method is deprecated and will be removed from pandas in a future version. Use pandas.concat instead.\n",
      "  room_df = room_df.append(row, ignore_index=True)\n",
      "/Users/abhilash/opt/anaconda3/lib/python3.9/site-packages/sklearn/base.py:450: UserWarning: X does not have valid feature names, but StandardScaler was fitted with feature names\n",
      "  warnings.warn(\n",
      "/var/folders/g_/mmqgkbcx0qn0r2j_wxv7rf2m0000gn/T/ipykernel_50021/4215304269.py:40: FutureWarning: The frame.append method is deprecated and will be removed from pandas in a future version. Use pandas.concat instead.\n",
      "  room_df = room_df.append(row, ignore_index=True)\n",
      "/Users/abhilash/opt/anaconda3/lib/python3.9/site-packages/sklearn/base.py:450: UserWarning: X does not have valid feature names, but StandardScaler was fitted with feature names\n",
      "  warnings.warn(\n",
      "/var/folders/g_/mmqgkbcx0qn0r2j_wxv7rf2m0000gn/T/ipykernel_50021/4215304269.py:40: FutureWarning: The frame.append method is deprecated and will be removed from pandas in a future version. Use pandas.concat instead.\n",
      "  room_df = room_df.append(row, ignore_index=True)\n",
      "/Users/abhilash/opt/anaconda3/lib/python3.9/site-packages/sklearn/base.py:450: UserWarning: X does not have valid feature names, but StandardScaler was fitted with feature names\n",
      "  warnings.warn(\n"
     ]
    },
    {
     "name": "stdout",
     "output_type": "stream",
     "text": [
      "1/1 [==============================] - 0s 28ms/step\n",
      "1/1 [==============================] - 0s 33ms/step\n",
      "1/1 [==============================] - 0s 27ms/step\n"
     ]
    },
    {
     "name": "stderr",
     "output_type": "stream",
     "text": [
      "/var/folders/g_/mmqgkbcx0qn0r2j_wxv7rf2m0000gn/T/ipykernel_50021/4215304269.py:40: FutureWarning: The frame.append method is deprecated and will be removed from pandas in a future version. Use pandas.concat instead.\n",
      "  room_df = room_df.append(row, ignore_index=True)\n",
      "/Users/abhilash/opt/anaconda3/lib/python3.9/site-packages/sklearn/base.py:450: UserWarning: X does not have valid feature names, but StandardScaler was fitted with feature names\n",
      "  warnings.warn(\n",
      "/var/folders/g_/mmqgkbcx0qn0r2j_wxv7rf2m0000gn/T/ipykernel_50021/4215304269.py:40: FutureWarning: The frame.append method is deprecated and will be removed from pandas in a future version. Use pandas.concat instead.\n",
      "  room_df = room_df.append(row, ignore_index=True)\n",
      "/Users/abhilash/opt/anaconda3/lib/python3.9/site-packages/sklearn/base.py:450: UserWarning: X does not have valid feature names, but StandardScaler was fitted with feature names\n",
      "  warnings.warn(\n",
      "/var/folders/g_/mmqgkbcx0qn0r2j_wxv7rf2m0000gn/T/ipykernel_50021/4215304269.py:40: FutureWarning: The frame.append method is deprecated and will be removed from pandas in a future version. Use pandas.concat instead.\n",
      "  room_df = room_df.append(row, ignore_index=True)\n",
      "/Users/abhilash/opt/anaconda3/lib/python3.9/site-packages/sklearn/base.py:450: UserWarning: X does not have valid feature names, but StandardScaler was fitted with feature names\n",
      "  warnings.warn(\n"
     ]
    },
    {
     "name": "stdout",
     "output_type": "stream",
     "text": [
      "1/1 [==============================] - 0s 28ms/step\n",
      "1/1 [==============================] - 0s 28ms/step\n",
      "1/1 [==============================] - 0s 30ms/step\n"
     ]
    },
    {
     "name": "stderr",
     "output_type": "stream",
     "text": [
      "/var/folders/g_/mmqgkbcx0qn0r2j_wxv7rf2m0000gn/T/ipykernel_50021/4215304269.py:40: FutureWarning: The frame.append method is deprecated and will be removed from pandas in a future version. Use pandas.concat instead.\n",
      "  room_df = room_df.append(row, ignore_index=True)\n",
      "/Users/abhilash/opt/anaconda3/lib/python3.9/site-packages/sklearn/base.py:450: UserWarning: X does not have valid feature names, but StandardScaler was fitted with feature names\n",
      "  warnings.warn(\n",
      "/var/folders/g_/mmqgkbcx0qn0r2j_wxv7rf2m0000gn/T/ipykernel_50021/4215304269.py:40: FutureWarning: The frame.append method is deprecated and will be removed from pandas in a future version. Use pandas.concat instead.\n",
      "  room_df = room_df.append(row, ignore_index=True)\n",
      "/Users/abhilash/opt/anaconda3/lib/python3.9/site-packages/sklearn/base.py:450: UserWarning: X does not have valid feature names, but StandardScaler was fitted with feature names\n",
      "  warnings.warn(\n",
      "/var/folders/g_/mmqgkbcx0qn0r2j_wxv7rf2m0000gn/T/ipykernel_50021/4215304269.py:40: FutureWarning: The frame.append method is deprecated and will be removed from pandas in a future version. Use pandas.concat instead.\n",
      "  room_df = room_df.append(row, ignore_index=True)\n",
      "/Users/abhilash/opt/anaconda3/lib/python3.9/site-packages/sklearn/base.py:450: UserWarning: X does not have valid feature names, but StandardScaler was fitted with feature names\n",
      "  warnings.warn(\n"
     ]
    },
    {
     "name": "stdout",
     "output_type": "stream",
     "text": [
      "1/1 [==============================] - 0s 25ms/step\n",
      "1/1 [==============================] - 0s 32ms/step\n",
      "1/1 [==============================] - 0s 35ms/step\n"
     ]
    },
    {
     "name": "stderr",
     "output_type": "stream",
     "text": [
      "/var/folders/g_/mmqgkbcx0qn0r2j_wxv7rf2m0000gn/T/ipykernel_50021/4215304269.py:40: FutureWarning: The frame.append method is deprecated and will be removed from pandas in a future version. Use pandas.concat instead.\n",
      "  room_df = room_df.append(row, ignore_index=True)\n",
      "/var/folders/g_/mmqgkbcx0qn0r2j_wxv7rf2m0000gn/T/ipykernel_50021/4215304269.py:43: FutureWarning: The frame.append method is deprecated and will be removed from pandas in a future version. Use pandas.concat instead.\n",
      "  pred_df = pred_df.append(room_df, ignore_index=True)\n",
      "/Users/abhilash/opt/anaconda3/lib/python3.9/site-packages/sklearn/base.py:450: UserWarning: X does not have valid feature names, but StandardScaler was fitted with feature names\n",
      "  warnings.warn(\n",
      "/var/folders/g_/mmqgkbcx0qn0r2j_wxv7rf2m0000gn/T/ipykernel_50021/4215304269.py:40: FutureWarning: The frame.append method is deprecated and will be removed from pandas in a future version. Use pandas.concat instead.\n",
      "  room_df = room_df.append(row, ignore_index=True)\n",
      "/Users/abhilash/opt/anaconda3/lib/python3.9/site-packages/sklearn/base.py:450: UserWarning: X does not have valid feature names, but StandardScaler was fitted with feature names\n",
      "  warnings.warn(\n",
      "/var/folders/g_/mmqgkbcx0qn0r2j_wxv7rf2m0000gn/T/ipykernel_50021/4215304269.py:40: FutureWarning: The frame.append method is deprecated and will be removed from pandas in a future version. Use pandas.concat instead.\n",
      "  room_df = room_df.append(row, ignore_index=True)\n",
      "/Users/abhilash/opt/anaconda3/lib/python3.9/site-packages/sklearn/base.py:450: UserWarning: X does not have valid feature names, but StandardScaler was fitted with feature names\n",
      "  warnings.warn(\n"
     ]
    },
    {
     "name": "stdout",
     "output_type": "stream",
     "text": [
      "1/1 [==============================] - 0s 34ms/step\n",
      "1/1 [==============================] - 0s 26ms/step\n",
      "1/1 [==============================] - 0s 23ms/step\n"
     ]
    },
    {
     "name": "stderr",
     "output_type": "stream",
     "text": [
      "/var/folders/g_/mmqgkbcx0qn0r2j_wxv7rf2m0000gn/T/ipykernel_50021/4215304269.py:40: FutureWarning: The frame.append method is deprecated and will be removed from pandas in a future version. Use pandas.concat instead.\n",
      "  room_df = room_df.append(row, ignore_index=True)\n",
      "/Users/abhilash/opt/anaconda3/lib/python3.9/site-packages/sklearn/base.py:450: UserWarning: X does not have valid feature names, but StandardScaler was fitted with feature names\n",
      "  warnings.warn(\n",
      "/var/folders/g_/mmqgkbcx0qn0r2j_wxv7rf2m0000gn/T/ipykernel_50021/4215304269.py:40: FutureWarning: The frame.append method is deprecated and will be removed from pandas in a future version. Use pandas.concat instead.\n",
      "  room_df = room_df.append(row, ignore_index=True)\n",
      "/Users/abhilash/opt/anaconda3/lib/python3.9/site-packages/sklearn/base.py:450: UserWarning: X does not have valid feature names, but StandardScaler was fitted with feature names\n",
      "  warnings.warn(\n",
      "/var/folders/g_/mmqgkbcx0qn0r2j_wxv7rf2m0000gn/T/ipykernel_50021/4215304269.py:40: FutureWarning: The frame.append method is deprecated and will be removed from pandas in a future version. Use pandas.concat instead.\n",
      "  room_df = room_df.append(row, ignore_index=True)\n",
      "/Users/abhilash/opt/anaconda3/lib/python3.9/site-packages/sklearn/base.py:450: UserWarning: X does not have valid feature names, but StandardScaler was fitted with feature names\n",
      "  warnings.warn(\n"
     ]
    },
    {
     "name": "stdout",
     "output_type": "stream",
     "text": [
      "1/1 [==============================] - 0s 28ms/step\n",
      "1/1 [==============================] - 0s 24ms/step\n",
      "1/1 [==============================] - 0s 26ms/step\n"
     ]
    },
    {
     "name": "stderr",
     "output_type": "stream",
     "text": [
      "/var/folders/g_/mmqgkbcx0qn0r2j_wxv7rf2m0000gn/T/ipykernel_50021/4215304269.py:40: FutureWarning: The frame.append method is deprecated and will be removed from pandas in a future version. Use pandas.concat instead.\n",
      "  room_df = room_df.append(row, ignore_index=True)\n",
      "/Users/abhilash/opt/anaconda3/lib/python3.9/site-packages/sklearn/base.py:450: UserWarning: X does not have valid feature names, but StandardScaler was fitted with feature names\n",
      "  warnings.warn(\n",
      "/var/folders/g_/mmqgkbcx0qn0r2j_wxv7rf2m0000gn/T/ipykernel_50021/4215304269.py:40: FutureWarning: The frame.append method is deprecated and will be removed from pandas in a future version. Use pandas.concat instead.\n",
      "  room_df = room_df.append(row, ignore_index=True)\n",
      "/Users/abhilash/opt/anaconda3/lib/python3.9/site-packages/sklearn/base.py:450: UserWarning: X does not have valid feature names, but StandardScaler was fitted with feature names\n",
      "  warnings.warn(\n",
      "/var/folders/g_/mmqgkbcx0qn0r2j_wxv7rf2m0000gn/T/ipykernel_50021/4215304269.py:40: FutureWarning: The frame.append method is deprecated and will be removed from pandas in a future version. Use pandas.concat instead.\n",
      "  room_df = room_df.append(row, ignore_index=True)\n",
      "/Users/abhilash/opt/anaconda3/lib/python3.9/site-packages/sklearn/base.py:450: UserWarning: X does not have valid feature names, but StandardScaler was fitted with feature names\n",
      "  warnings.warn(\n"
     ]
    },
    {
     "name": "stdout",
     "output_type": "stream",
     "text": [
      "1/1 [==============================] - 0s 34ms/step\n",
      "1/1 [==============================] - 0s 25ms/step\n",
      "1/1 [==============================] - 0s 28ms/step\n"
     ]
    },
    {
     "name": "stderr",
     "output_type": "stream",
     "text": [
      "/var/folders/g_/mmqgkbcx0qn0r2j_wxv7rf2m0000gn/T/ipykernel_50021/4215304269.py:40: FutureWarning: The frame.append method is deprecated and will be removed from pandas in a future version. Use pandas.concat instead.\n",
      "  room_df = room_df.append(row, ignore_index=True)\n",
      "/Users/abhilash/opt/anaconda3/lib/python3.9/site-packages/sklearn/base.py:450: UserWarning: X does not have valid feature names, but StandardScaler was fitted with feature names\n",
      "  warnings.warn(\n",
      "/var/folders/g_/mmqgkbcx0qn0r2j_wxv7rf2m0000gn/T/ipykernel_50021/4215304269.py:40: FutureWarning: The frame.append method is deprecated and will be removed from pandas in a future version. Use pandas.concat instead.\n",
      "  room_df = room_df.append(row, ignore_index=True)\n",
      "/Users/abhilash/opt/anaconda3/lib/python3.9/site-packages/sklearn/base.py:450: UserWarning: X does not have valid feature names, but StandardScaler was fitted with feature names\n",
      "  warnings.warn(\n",
      "/var/folders/g_/mmqgkbcx0qn0r2j_wxv7rf2m0000gn/T/ipykernel_50021/4215304269.py:40: FutureWarning: The frame.append method is deprecated and will be removed from pandas in a future version. Use pandas.concat instead.\n",
      "  room_df = room_df.append(row, ignore_index=True)\n",
      "/Users/abhilash/opt/anaconda3/lib/python3.9/site-packages/sklearn/base.py:450: UserWarning: X does not have valid feature names, but StandardScaler was fitted with feature names\n",
      "  warnings.warn(\n"
     ]
    },
    {
     "name": "stdout",
     "output_type": "stream",
     "text": [
      "1/1 [==============================] - 0s 28ms/step\n",
      "1/1 [==============================] - 0s 28ms/step\n",
      "1/1 [==============================] - 0s 27ms/step\n"
     ]
    },
    {
     "name": "stderr",
     "output_type": "stream",
     "text": [
      "/var/folders/g_/mmqgkbcx0qn0r2j_wxv7rf2m0000gn/T/ipykernel_50021/4215304269.py:40: FutureWarning: The frame.append method is deprecated and will be removed from pandas in a future version. Use pandas.concat instead.\n",
      "  room_df = room_df.append(row, ignore_index=True)\n",
      "/Users/abhilash/opt/anaconda3/lib/python3.9/site-packages/sklearn/base.py:450: UserWarning: X does not have valid feature names, but StandardScaler was fitted with feature names\n",
      "  warnings.warn(\n",
      "/var/folders/g_/mmqgkbcx0qn0r2j_wxv7rf2m0000gn/T/ipykernel_50021/4215304269.py:40: FutureWarning: The frame.append method is deprecated and will be removed from pandas in a future version. Use pandas.concat instead.\n",
      "  room_df = room_df.append(row, ignore_index=True)\n",
      "/Users/abhilash/opt/anaconda3/lib/python3.9/site-packages/sklearn/base.py:450: UserWarning: X does not have valid feature names, but StandardScaler was fitted with feature names\n",
      "  warnings.warn(\n",
      "/var/folders/g_/mmqgkbcx0qn0r2j_wxv7rf2m0000gn/T/ipykernel_50021/4215304269.py:40: FutureWarning: The frame.append method is deprecated and will be removed from pandas in a future version. Use pandas.concat instead.\n",
      "  room_df = room_df.append(row, ignore_index=True)\n",
      "/Users/abhilash/opt/anaconda3/lib/python3.9/site-packages/sklearn/base.py:450: UserWarning: X does not have valid feature names, but StandardScaler was fitted with feature names\n",
      "  warnings.warn(\n"
     ]
    },
    {
     "name": "stdout",
     "output_type": "stream",
     "text": [
      "1/1 [==============================] - 0s 26ms/step\n",
      "1/1 [==============================] - 0s 29ms/step\n",
      "1/1 [==============================] - 0s 30ms/step\n"
     ]
    },
    {
     "name": "stderr",
     "output_type": "stream",
     "text": [
      "/var/folders/g_/mmqgkbcx0qn0r2j_wxv7rf2m0000gn/T/ipykernel_50021/4215304269.py:40: FutureWarning: The frame.append method is deprecated and will be removed from pandas in a future version. Use pandas.concat instead.\n",
      "  room_df = room_df.append(row, ignore_index=True)\n",
      "/Users/abhilash/opt/anaconda3/lib/python3.9/site-packages/sklearn/base.py:450: UserWarning: X does not have valid feature names, but StandardScaler was fitted with feature names\n",
      "  warnings.warn(\n",
      "/var/folders/g_/mmqgkbcx0qn0r2j_wxv7rf2m0000gn/T/ipykernel_50021/4215304269.py:40: FutureWarning: The frame.append method is deprecated and will be removed from pandas in a future version. Use pandas.concat instead.\n",
      "  room_df = room_df.append(row, ignore_index=True)\n",
      "/Users/abhilash/opt/anaconda3/lib/python3.9/site-packages/sklearn/base.py:450: UserWarning: X does not have valid feature names, but StandardScaler was fitted with feature names\n",
      "  warnings.warn(\n",
      "/var/folders/g_/mmqgkbcx0qn0r2j_wxv7rf2m0000gn/T/ipykernel_50021/4215304269.py:40: FutureWarning: The frame.append method is deprecated and will be removed from pandas in a future version. Use pandas.concat instead.\n",
      "  room_df = room_df.append(row, ignore_index=True)\n",
      "/Users/abhilash/opt/anaconda3/lib/python3.9/site-packages/sklearn/base.py:450: UserWarning: X does not have valid feature names, but StandardScaler was fitted with feature names\n",
      "  warnings.warn(\n"
     ]
    },
    {
     "name": "stdout",
     "output_type": "stream",
     "text": [
      "1/1 [==============================] - 0s 27ms/step\n",
      "1/1 [==============================] - 0s 28ms/step\n",
      "1/1 [==============================] - 0s 26ms/step\n"
     ]
    },
    {
     "name": "stderr",
     "output_type": "stream",
     "text": [
      "/var/folders/g_/mmqgkbcx0qn0r2j_wxv7rf2m0000gn/T/ipykernel_50021/4215304269.py:40: FutureWarning: The frame.append method is deprecated and will be removed from pandas in a future version. Use pandas.concat instead.\n",
      "  room_df = room_df.append(row, ignore_index=True)\n",
      "/Users/abhilash/opt/anaconda3/lib/python3.9/site-packages/sklearn/base.py:450: UserWarning: X does not have valid feature names, but StandardScaler was fitted with feature names\n",
      "  warnings.warn(\n",
      "/var/folders/g_/mmqgkbcx0qn0r2j_wxv7rf2m0000gn/T/ipykernel_50021/4215304269.py:40: FutureWarning: The frame.append method is deprecated and will be removed from pandas in a future version. Use pandas.concat instead.\n",
      "  room_df = room_df.append(row, ignore_index=True)\n",
      "/Users/abhilash/opt/anaconda3/lib/python3.9/site-packages/sklearn/base.py:450: UserWarning: X does not have valid feature names, but StandardScaler was fitted with feature names\n",
      "  warnings.warn(\n",
      "/var/folders/g_/mmqgkbcx0qn0r2j_wxv7rf2m0000gn/T/ipykernel_50021/4215304269.py:40: FutureWarning: The frame.append method is deprecated and will be removed from pandas in a future version. Use pandas.concat instead.\n",
      "  room_df = room_df.append(row, ignore_index=True)\n",
      "/Users/abhilash/opt/anaconda3/lib/python3.9/site-packages/sklearn/base.py:450: UserWarning: X does not have valid feature names, but StandardScaler was fitted with feature names\n",
      "  warnings.warn(\n"
     ]
    },
    {
     "name": "stdout",
     "output_type": "stream",
     "text": [
      "1/1 [==============================] - 0s 24ms/step\n",
      "1/1 [==============================] - 0s 26ms/step\n",
      "1/1 [==============================] - 0s 26ms/step\n"
     ]
    },
    {
     "name": "stderr",
     "output_type": "stream",
     "text": [
      "/var/folders/g_/mmqgkbcx0qn0r2j_wxv7rf2m0000gn/T/ipykernel_50021/4215304269.py:40: FutureWarning: The frame.append method is deprecated and will be removed from pandas in a future version. Use pandas.concat instead.\n",
      "  room_df = room_df.append(row, ignore_index=True)\n",
      "/Users/abhilash/opt/anaconda3/lib/python3.9/site-packages/sklearn/base.py:450: UserWarning: X does not have valid feature names, but StandardScaler was fitted with feature names\n",
      "  warnings.warn(\n",
      "/var/folders/g_/mmqgkbcx0qn0r2j_wxv7rf2m0000gn/T/ipykernel_50021/4215304269.py:40: FutureWarning: The frame.append method is deprecated and will be removed from pandas in a future version. Use pandas.concat instead.\n",
      "  room_df = room_df.append(row, ignore_index=True)\n",
      "/Users/abhilash/opt/anaconda3/lib/python3.9/site-packages/sklearn/base.py:450: UserWarning: X does not have valid feature names, but StandardScaler was fitted with feature names\n",
      "  warnings.warn(\n",
      "/var/folders/g_/mmqgkbcx0qn0r2j_wxv7rf2m0000gn/T/ipykernel_50021/4215304269.py:40: FutureWarning: The frame.append method is deprecated and will be removed from pandas in a future version. Use pandas.concat instead.\n",
      "  room_df = room_df.append(row, ignore_index=True)\n",
      "/Users/abhilash/opt/anaconda3/lib/python3.9/site-packages/sklearn/base.py:450: UserWarning: X does not have valid feature names, but StandardScaler was fitted with feature names\n",
      "  warnings.warn(\n"
     ]
    },
    {
     "name": "stdout",
     "output_type": "stream",
     "text": [
      "1/1 [==============================] - 0s 31ms/step\n",
      "1/1 [==============================] - 0s 25ms/step\n",
      "1/1 [==============================] - 0s 25ms/step\n"
     ]
    },
    {
     "name": "stderr",
     "output_type": "stream",
     "text": [
      "/var/folders/g_/mmqgkbcx0qn0r2j_wxv7rf2m0000gn/T/ipykernel_50021/4215304269.py:40: FutureWarning: The frame.append method is deprecated and will be removed from pandas in a future version. Use pandas.concat instead.\n",
      "  room_df = room_df.append(row, ignore_index=True)\n",
      "/Users/abhilash/opt/anaconda3/lib/python3.9/site-packages/sklearn/base.py:450: UserWarning: X does not have valid feature names, but StandardScaler was fitted with feature names\n",
      "  warnings.warn(\n",
      "/var/folders/g_/mmqgkbcx0qn0r2j_wxv7rf2m0000gn/T/ipykernel_50021/4215304269.py:40: FutureWarning: The frame.append method is deprecated and will be removed from pandas in a future version. Use pandas.concat instead.\n",
      "  room_df = room_df.append(row, ignore_index=True)\n",
      "/Users/abhilash/opt/anaconda3/lib/python3.9/site-packages/sklearn/base.py:450: UserWarning: X does not have valid feature names, but StandardScaler was fitted with feature names\n",
      "  warnings.warn(\n",
      "/var/folders/g_/mmqgkbcx0qn0r2j_wxv7rf2m0000gn/T/ipykernel_50021/4215304269.py:40: FutureWarning: The frame.append method is deprecated and will be removed from pandas in a future version. Use pandas.concat instead.\n",
      "  room_df = room_df.append(row, ignore_index=True)\n",
      "/Users/abhilash/opt/anaconda3/lib/python3.9/site-packages/sklearn/base.py:450: UserWarning: X does not have valid feature names, but StandardScaler was fitted with feature names\n",
      "  warnings.warn(\n"
     ]
    },
    {
     "name": "stdout",
     "output_type": "stream",
     "text": [
      "1/1 [==============================] - 0s 29ms/step\n",
      "1/1 [==============================] - 0s 22ms/step\n",
      "1/1 [==============================] - 0s 21ms/step\n"
     ]
    },
    {
     "name": "stderr",
     "output_type": "stream",
     "text": [
      "/var/folders/g_/mmqgkbcx0qn0r2j_wxv7rf2m0000gn/T/ipykernel_50021/4215304269.py:40: FutureWarning: The frame.append method is deprecated and will be removed from pandas in a future version. Use pandas.concat instead.\n",
      "  room_df = room_df.append(row, ignore_index=True)\n",
      "/Users/abhilash/opt/anaconda3/lib/python3.9/site-packages/sklearn/base.py:450: UserWarning: X does not have valid feature names, but StandardScaler was fitted with feature names\n",
      "  warnings.warn(\n",
      "/var/folders/g_/mmqgkbcx0qn0r2j_wxv7rf2m0000gn/T/ipykernel_50021/4215304269.py:40: FutureWarning: The frame.append method is deprecated and will be removed from pandas in a future version. Use pandas.concat instead.\n",
      "  room_df = room_df.append(row, ignore_index=True)\n",
      "/Users/abhilash/opt/anaconda3/lib/python3.9/site-packages/sklearn/base.py:450: UserWarning: X does not have valid feature names, but StandardScaler was fitted with feature names\n",
      "  warnings.warn(\n",
      "/var/folders/g_/mmqgkbcx0qn0r2j_wxv7rf2m0000gn/T/ipykernel_50021/4215304269.py:40: FutureWarning: The frame.append method is deprecated and will be removed from pandas in a future version. Use pandas.concat instead.\n",
      "  room_df = room_df.append(row, ignore_index=True)\n",
      "/Users/abhilash/opt/anaconda3/lib/python3.9/site-packages/sklearn/base.py:450: UserWarning: X does not have valid feature names, but StandardScaler was fitted with feature names\n",
      "  warnings.warn(\n"
     ]
    },
    {
     "name": "stdout",
     "output_type": "stream",
     "text": [
      "1/1 [==============================] - 0s 23ms/step\n",
      "1/1 [==============================] - 0s 21ms/step\n",
      "1/1 [==============================] - 0s 21ms/step\n",
      "1/1 [==============================] - 0s 22ms/step\n"
     ]
    },
    {
     "name": "stderr",
     "output_type": "stream",
     "text": [
      "/var/folders/g_/mmqgkbcx0qn0r2j_wxv7rf2m0000gn/T/ipykernel_50021/4215304269.py:40: FutureWarning: The frame.append method is deprecated and will be removed from pandas in a future version. Use pandas.concat instead.\n",
      "  room_df = room_df.append(row, ignore_index=True)\n",
      "/Users/abhilash/opt/anaconda3/lib/python3.9/site-packages/sklearn/base.py:450: UserWarning: X does not have valid feature names, but StandardScaler was fitted with feature names\n",
      "  warnings.warn(\n",
      "/var/folders/g_/mmqgkbcx0qn0r2j_wxv7rf2m0000gn/T/ipykernel_50021/4215304269.py:40: FutureWarning: The frame.append method is deprecated and will be removed from pandas in a future version. Use pandas.concat instead.\n",
      "  room_df = room_df.append(row, ignore_index=True)\n",
      "/Users/abhilash/opt/anaconda3/lib/python3.9/site-packages/sklearn/base.py:450: UserWarning: X does not have valid feature names, but StandardScaler was fitted with feature names\n",
      "  warnings.warn(\n",
      "/var/folders/g_/mmqgkbcx0qn0r2j_wxv7rf2m0000gn/T/ipykernel_50021/4215304269.py:40: FutureWarning: The frame.append method is deprecated and will be removed from pandas in a future version. Use pandas.concat instead.\n",
      "  room_df = room_df.append(row, ignore_index=True)\n",
      "/Users/abhilash/opt/anaconda3/lib/python3.9/site-packages/sklearn/base.py:450: UserWarning: X does not have valid feature names, but StandardScaler was fitted with feature names\n",
      "  warnings.warn(\n"
     ]
    },
    {
     "name": "stdout",
     "output_type": "stream",
     "text": [
      "1/1 [==============================] - 0s 22ms/step\n",
      "1/1 [==============================] - 0s 22ms/step\n"
     ]
    },
    {
     "name": "stderr",
     "output_type": "stream",
     "text": [
      "/var/folders/g_/mmqgkbcx0qn0r2j_wxv7rf2m0000gn/T/ipykernel_50021/4215304269.py:40: FutureWarning: The frame.append method is deprecated and will be removed from pandas in a future version. Use pandas.concat instead.\n",
      "  room_df = room_df.append(row, ignore_index=True)\n",
      "/Users/abhilash/opt/anaconda3/lib/python3.9/site-packages/sklearn/base.py:450: UserWarning: X does not have valid feature names, but StandardScaler was fitted with feature names\n",
      "  warnings.warn(\n",
      "/var/folders/g_/mmqgkbcx0qn0r2j_wxv7rf2m0000gn/T/ipykernel_50021/4215304269.py:40: FutureWarning: The frame.append method is deprecated and will be removed from pandas in a future version. Use pandas.concat instead.\n",
      "  room_df = room_df.append(row, ignore_index=True)\n",
      "/Users/abhilash/opt/anaconda3/lib/python3.9/site-packages/sklearn/base.py:450: UserWarning: X does not have valid feature names, but StandardScaler was fitted with feature names\n",
      "  warnings.warn(\n",
      "/var/folders/g_/mmqgkbcx0qn0r2j_wxv7rf2m0000gn/T/ipykernel_50021/4215304269.py:40: FutureWarning: The frame.append method is deprecated and will be removed from pandas in a future version. Use pandas.concat instead.\n",
      "  room_df = room_df.append(row, ignore_index=True)\n",
      "/Users/abhilash/opt/anaconda3/lib/python3.9/site-packages/sklearn/base.py:450: UserWarning: X does not have valid feature names, but StandardScaler was fitted with feature names\n",
      "  warnings.warn(\n"
     ]
    },
    {
     "name": "stdout",
     "output_type": "stream",
     "text": [
      "1/1 [==============================] - 0s 27ms/step\n",
      "1/1 [==============================] - 0s 21ms/step\n",
      "1/1 [==============================] - 0s 22ms/step\n",
      "1/1 [==============================] - 0s 21ms/step\n"
     ]
    },
    {
     "name": "stderr",
     "output_type": "stream",
     "text": [
      "/var/folders/g_/mmqgkbcx0qn0r2j_wxv7rf2m0000gn/T/ipykernel_50021/4215304269.py:40: FutureWarning: The frame.append method is deprecated and will be removed from pandas in a future version. Use pandas.concat instead.\n",
      "  room_df = room_df.append(row, ignore_index=True)\n",
      "/Users/abhilash/opt/anaconda3/lib/python3.9/site-packages/sklearn/base.py:450: UserWarning: X does not have valid feature names, but StandardScaler was fitted with feature names\n",
      "  warnings.warn(\n",
      "/var/folders/g_/mmqgkbcx0qn0r2j_wxv7rf2m0000gn/T/ipykernel_50021/4215304269.py:40: FutureWarning: The frame.append method is deprecated and will be removed from pandas in a future version. Use pandas.concat instead.\n",
      "  room_df = room_df.append(row, ignore_index=True)\n",
      "/Users/abhilash/opt/anaconda3/lib/python3.9/site-packages/sklearn/base.py:450: UserWarning: X does not have valid feature names, but StandardScaler was fitted with feature names\n",
      "  warnings.warn(\n",
      "/var/folders/g_/mmqgkbcx0qn0r2j_wxv7rf2m0000gn/T/ipykernel_50021/4215304269.py:40: FutureWarning: The frame.append method is deprecated and will be removed from pandas in a future version. Use pandas.concat instead.\n",
      "  room_df = room_df.append(row, ignore_index=True)\n",
      "/Users/abhilash/opt/anaconda3/lib/python3.9/site-packages/sklearn/base.py:450: UserWarning: X does not have valid feature names, but StandardScaler was fitted with feature names\n",
      "  warnings.warn(\n"
     ]
    },
    {
     "name": "stdout",
     "output_type": "stream",
     "text": [
      "1/1 [==============================] - 0s 25ms/step\n",
      "1/1 [==============================] - 0s 21ms/step\n",
      "1/1 [==============================] - 0s 22ms/step\n"
     ]
    },
    {
     "name": "stderr",
     "output_type": "stream",
     "text": [
      "/var/folders/g_/mmqgkbcx0qn0r2j_wxv7rf2m0000gn/T/ipykernel_50021/4215304269.py:40: FutureWarning: The frame.append method is deprecated and will be removed from pandas in a future version. Use pandas.concat instead.\n",
      "  room_df = room_df.append(row, ignore_index=True)\n",
      "/Users/abhilash/opt/anaconda3/lib/python3.9/site-packages/sklearn/base.py:450: UserWarning: X does not have valid feature names, but StandardScaler was fitted with feature names\n",
      "  warnings.warn(\n",
      "/var/folders/g_/mmqgkbcx0qn0r2j_wxv7rf2m0000gn/T/ipykernel_50021/4215304269.py:40: FutureWarning: The frame.append method is deprecated and will be removed from pandas in a future version. Use pandas.concat instead.\n",
      "  room_df = room_df.append(row, ignore_index=True)\n",
      "/Users/abhilash/opt/anaconda3/lib/python3.9/site-packages/sklearn/base.py:450: UserWarning: X does not have valid feature names, but StandardScaler was fitted with feature names\n",
      "  warnings.warn(\n",
      "/var/folders/g_/mmqgkbcx0qn0r2j_wxv7rf2m0000gn/T/ipykernel_50021/4215304269.py:40: FutureWarning: The frame.append method is deprecated and will be removed from pandas in a future version. Use pandas.concat instead.\n",
      "  room_df = room_df.append(row, ignore_index=True)\n",
      "/Users/abhilash/opt/anaconda3/lib/python3.9/site-packages/sklearn/base.py:450: UserWarning: X does not have valid feature names, but StandardScaler was fitted with feature names\n",
      "  warnings.warn(\n",
      "/var/folders/g_/mmqgkbcx0qn0r2j_wxv7rf2m0000gn/T/ipykernel_50021/4215304269.py:40: FutureWarning: The frame.append method is deprecated and will be removed from pandas in a future version. Use pandas.concat instead.\n",
      "  room_df = room_df.append(row, ignore_index=True)\n",
      "/Users/abhilash/opt/anaconda3/lib/python3.9/site-packages/sklearn/base.py:450: UserWarning: X does not have valid feature names, but StandardScaler was fitted with feature names\n",
      "  warnings.warn(\n"
     ]
    },
    {
     "name": "stdout",
     "output_type": "stream",
     "text": [
      "1/1 [==============================] - 0s 22ms/step\n",
      "1/1 [==============================] - 0s 23ms/step\n",
      "1/1 [==============================] - 0s 22ms/step\n",
      "1/1 [==============================] - 0s 22ms/step\n"
     ]
    },
    {
     "name": "stderr",
     "output_type": "stream",
     "text": [
      "/var/folders/g_/mmqgkbcx0qn0r2j_wxv7rf2m0000gn/T/ipykernel_50021/4215304269.py:40: FutureWarning: The frame.append method is deprecated and will be removed from pandas in a future version. Use pandas.concat instead.\n",
      "  room_df = room_df.append(row, ignore_index=True)\n",
      "/Users/abhilash/opt/anaconda3/lib/python3.9/site-packages/sklearn/base.py:450: UserWarning: X does not have valid feature names, but StandardScaler was fitted with feature names\n",
      "  warnings.warn(\n",
      "/var/folders/g_/mmqgkbcx0qn0r2j_wxv7rf2m0000gn/T/ipykernel_50021/4215304269.py:40: FutureWarning: The frame.append method is deprecated and will be removed from pandas in a future version. Use pandas.concat instead.\n",
      "  room_df = room_df.append(row, ignore_index=True)\n",
      "/Users/abhilash/opt/anaconda3/lib/python3.9/site-packages/sklearn/base.py:450: UserWarning: X does not have valid feature names, but StandardScaler was fitted with feature names\n",
      "  warnings.warn(\n",
      "/var/folders/g_/mmqgkbcx0qn0r2j_wxv7rf2m0000gn/T/ipykernel_50021/4215304269.py:40: FutureWarning: The frame.append method is deprecated and will be removed from pandas in a future version. Use pandas.concat instead.\n",
      "  room_df = room_df.append(row, ignore_index=True)\n",
      "/Users/abhilash/opt/anaconda3/lib/python3.9/site-packages/sklearn/base.py:450: UserWarning: X does not have valid feature names, but StandardScaler was fitted with feature names\n",
      "  warnings.warn(\n"
     ]
    },
    {
     "name": "stdout",
     "output_type": "stream",
     "text": [
      "1/1 [==============================] - 0s 25ms/step\n",
      "1/1 [==============================] - 0s 22ms/step\n"
     ]
    },
    {
     "name": "stderr",
     "output_type": "stream",
     "text": [
      "/var/folders/g_/mmqgkbcx0qn0r2j_wxv7rf2m0000gn/T/ipykernel_50021/4215304269.py:40: FutureWarning: The frame.append method is deprecated and will be removed from pandas in a future version. Use pandas.concat instead.\n",
      "  room_df = room_df.append(row, ignore_index=True)\n",
      "/Users/abhilash/opt/anaconda3/lib/python3.9/site-packages/sklearn/base.py:450: UserWarning: X does not have valid feature names, but StandardScaler was fitted with feature names\n",
      "  warnings.warn(\n",
      "/var/folders/g_/mmqgkbcx0qn0r2j_wxv7rf2m0000gn/T/ipykernel_50021/4215304269.py:40: FutureWarning: The frame.append method is deprecated and will be removed from pandas in a future version. Use pandas.concat instead.\n",
      "  room_df = room_df.append(row, ignore_index=True)\n",
      "/Users/abhilash/opt/anaconda3/lib/python3.9/site-packages/sklearn/base.py:450: UserWarning: X does not have valid feature names, but StandardScaler was fitted with feature names\n",
      "  warnings.warn(\n",
      "/var/folders/g_/mmqgkbcx0qn0r2j_wxv7rf2m0000gn/T/ipykernel_50021/4215304269.py:40: FutureWarning: The frame.append method is deprecated and will be removed from pandas in a future version. Use pandas.concat instead.\n",
      "  room_df = room_df.append(row, ignore_index=True)\n",
      "/Users/abhilash/opt/anaconda3/lib/python3.9/site-packages/sklearn/base.py:450: UserWarning: X does not have valid feature names, but StandardScaler was fitted with feature names\n",
      "  warnings.warn(\n"
     ]
    },
    {
     "name": "stdout",
     "output_type": "stream",
     "text": [
      "1/1 [==============================] - 0s 26ms/step\n",
      "1/1 [==============================] - 0s 21ms/step\n",
      "1/1 [==============================] - 0s 30ms/step\n"
     ]
    },
    {
     "name": "stderr",
     "output_type": "stream",
     "text": [
      "/var/folders/g_/mmqgkbcx0qn0r2j_wxv7rf2m0000gn/T/ipykernel_50021/4215304269.py:40: FutureWarning: The frame.append method is deprecated and will be removed from pandas in a future version. Use pandas.concat instead.\n",
      "  room_df = room_df.append(row, ignore_index=True)\n",
      "/Users/abhilash/opt/anaconda3/lib/python3.9/site-packages/sklearn/base.py:450: UserWarning: X does not have valid feature names, but StandardScaler was fitted with feature names\n",
      "  warnings.warn(\n",
      "/var/folders/g_/mmqgkbcx0qn0r2j_wxv7rf2m0000gn/T/ipykernel_50021/4215304269.py:40: FutureWarning: The frame.append method is deprecated and will be removed from pandas in a future version. Use pandas.concat instead.\n",
      "  room_df = room_df.append(row, ignore_index=True)\n",
      "/Users/abhilash/opt/anaconda3/lib/python3.9/site-packages/sklearn/base.py:450: UserWarning: X does not have valid feature names, but StandardScaler was fitted with feature names\n",
      "  warnings.warn(\n",
      "/var/folders/g_/mmqgkbcx0qn0r2j_wxv7rf2m0000gn/T/ipykernel_50021/4215304269.py:40: FutureWarning: The frame.append method is deprecated and will be removed from pandas in a future version. Use pandas.concat instead.\n",
      "  room_df = room_df.append(row, ignore_index=True)\n",
      "/Users/abhilash/opt/anaconda3/lib/python3.9/site-packages/sklearn/base.py:450: UserWarning: X does not have valid feature names, but StandardScaler was fitted with feature names\n",
      "  warnings.warn(\n"
     ]
    },
    {
     "name": "stdout",
     "output_type": "stream",
     "text": [
      "1/1 [==============================] - 0s 23ms/step\n",
      "1/1 [==============================] - 0s 22ms/step\n",
      "1/1 [==============================] - 0s 22ms/step\n",
      "1/1 [==============================] - 0s 21ms/step\n"
     ]
    },
    {
     "name": "stderr",
     "output_type": "stream",
     "text": [
      "/var/folders/g_/mmqgkbcx0qn0r2j_wxv7rf2m0000gn/T/ipykernel_50021/4215304269.py:40: FutureWarning: The frame.append method is deprecated and will be removed from pandas in a future version. Use pandas.concat instead.\n",
      "  room_df = room_df.append(row, ignore_index=True)\n",
      "/Users/abhilash/opt/anaconda3/lib/python3.9/site-packages/sklearn/base.py:450: UserWarning: X does not have valid feature names, but StandardScaler was fitted with feature names\n",
      "  warnings.warn(\n",
      "/var/folders/g_/mmqgkbcx0qn0r2j_wxv7rf2m0000gn/T/ipykernel_50021/4215304269.py:40: FutureWarning: The frame.append method is deprecated and will be removed from pandas in a future version. Use pandas.concat instead.\n",
      "  room_df = room_df.append(row, ignore_index=True)\n",
      "/Users/abhilash/opt/anaconda3/lib/python3.9/site-packages/sklearn/base.py:450: UserWarning: X does not have valid feature names, but StandardScaler was fitted with feature names\n",
      "  warnings.warn(\n",
      "/var/folders/g_/mmqgkbcx0qn0r2j_wxv7rf2m0000gn/T/ipykernel_50021/4215304269.py:40: FutureWarning: The frame.append method is deprecated and will be removed from pandas in a future version. Use pandas.concat instead.\n",
      "  room_df = room_df.append(row, ignore_index=True)\n",
      "/Users/abhilash/opt/anaconda3/lib/python3.9/site-packages/sklearn/base.py:450: UserWarning: X does not have valid feature names, but StandardScaler was fitted with feature names\n",
      "  warnings.warn(\n",
      "/var/folders/g_/mmqgkbcx0qn0r2j_wxv7rf2m0000gn/T/ipykernel_50021/4215304269.py:40: FutureWarning: The frame.append method is deprecated and will be removed from pandas in a future version. Use pandas.concat instead.\n",
      "  room_df = room_df.append(row, ignore_index=True)\n",
      "/Users/abhilash/opt/anaconda3/lib/python3.9/site-packages/sklearn/base.py:450: UserWarning: X does not have valid feature names, but StandardScaler was fitted with feature names\n",
      "  warnings.warn(\n"
     ]
    },
    {
     "name": "stdout",
     "output_type": "stream",
     "text": [
      "1/1 [==============================] - 0s 22ms/step\n",
      "1/1 [==============================] - 0s 22ms/step\n",
      "1/1 [==============================] - 0s 21ms/step\n",
      "1/1 [==============================] - 0s 30ms/step\n"
     ]
    },
    {
     "name": "stderr",
     "output_type": "stream",
     "text": [
      "/var/folders/g_/mmqgkbcx0qn0r2j_wxv7rf2m0000gn/T/ipykernel_50021/4215304269.py:40: FutureWarning: The frame.append method is deprecated and will be removed from pandas in a future version. Use pandas.concat instead.\n",
      "  room_df = room_df.append(row, ignore_index=True)\n",
      "/Users/abhilash/opt/anaconda3/lib/python3.9/site-packages/sklearn/base.py:450: UserWarning: X does not have valid feature names, but StandardScaler was fitted with feature names\n",
      "  warnings.warn(\n",
      "/var/folders/g_/mmqgkbcx0qn0r2j_wxv7rf2m0000gn/T/ipykernel_50021/4215304269.py:40: FutureWarning: The frame.append method is deprecated and will be removed from pandas in a future version. Use pandas.concat instead.\n",
      "  room_df = room_df.append(row, ignore_index=True)\n",
      "/Users/abhilash/opt/anaconda3/lib/python3.9/site-packages/sklearn/base.py:450: UserWarning: X does not have valid feature names, but StandardScaler was fitted with feature names\n",
      "  warnings.warn(\n",
      "/var/folders/g_/mmqgkbcx0qn0r2j_wxv7rf2m0000gn/T/ipykernel_50021/4215304269.py:40: FutureWarning: The frame.append method is deprecated and will be removed from pandas in a future version. Use pandas.concat instead.\n",
      "  room_df = room_df.append(row, ignore_index=True)\n",
      "/Users/abhilash/opt/anaconda3/lib/python3.9/site-packages/sklearn/base.py:450: UserWarning: X does not have valid feature names, but StandardScaler was fitted with feature names\n",
      "  warnings.warn(\n",
      "/var/folders/g_/mmqgkbcx0qn0r2j_wxv7rf2m0000gn/T/ipykernel_50021/4215304269.py:40: FutureWarning: The frame.append method is deprecated and will be removed from pandas in a future version. Use pandas.concat instead.\n",
      "  room_df = room_df.append(row, ignore_index=True)\n",
      "/Users/abhilash/opt/anaconda3/lib/python3.9/site-packages/sklearn/base.py:450: UserWarning: X does not have valid feature names, but StandardScaler was fitted with feature names\n",
      "  warnings.warn(\n"
     ]
    },
    {
     "name": "stdout",
     "output_type": "stream",
     "text": [
      "1/1 [==============================] - 0s 23ms/step\n",
      "1/1 [==============================] - 0s 21ms/step\n",
      "1/1 [==============================] - 0s 22ms/step\n",
      "1/1 [==============================] - 0s 22ms/step\n"
     ]
    },
    {
     "name": "stderr",
     "output_type": "stream",
     "text": [
      "/var/folders/g_/mmqgkbcx0qn0r2j_wxv7rf2m0000gn/T/ipykernel_50021/4215304269.py:40: FutureWarning: The frame.append method is deprecated and will be removed from pandas in a future version. Use pandas.concat instead.\n",
      "  room_df = room_df.append(row, ignore_index=True)\n",
      "/Users/abhilash/opt/anaconda3/lib/python3.9/site-packages/sklearn/base.py:450: UserWarning: X does not have valid feature names, but StandardScaler was fitted with feature names\n",
      "  warnings.warn(\n",
      "/var/folders/g_/mmqgkbcx0qn0r2j_wxv7rf2m0000gn/T/ipykernel_50021/4215304269.py:40: FutureWarning: The frame.append method is deprecated and will be removed from pandas in a future version. Use pandas.concat instead.\n",
      "  room_df = room_df.append(row, ignore_index=True)\n",
      "/Users/abhilash/opt/anaconda3/lib/python3.9/site-packages/sklearn/base.py:450: UserWarning: X does not have valid feature names, but StandardScaler was fitted with feature names\n",
      "  warnings.warn(\n",
      "/var/folders/g_/mmqgkbcx0qn0r2j_wxv7rf2m0000gn/T/ipykernel_50021/4215304269.py:40: FutureWarning: The frame.append method is deprecated and will be removed from pandas in a future version. Use pandas.concat instead.\n",
      "  room_df = room_df.append(row, ignore_index=True)\n",
      "/Users/abhilash/opt/anaconda3/lib/python3.9/site-packages/sklearn/base.py:450: UserWarning: X does not have valid feature names, but StandardScaler was fitted with feature names\n",
      "  warnings.warn(\n",
      "/var/folders/g_/mmqgkbcx0qn0r2j_wxv7rf2m0000gn/T/ipykernel_50021/4215304269.py:40: FutureWarning: The frame.append method is deprecated and will be removed from pandas in a future version. Use pandas.concat instead.\n",
      "  room_df = room_df.append(row, ignore_index=True)\n",
      "/Users/abhilash/opt/anaconda3/lib/python3.9/site-packages/sklearn/base.py:450: UserWarning: X does not have valid feature names, but StandardScaler was fitted with feature names\n",
      "  warnings.warn(\n"
     ]
    },
    {
     "name": "stdout",
     "output_type": "stream",
     "text": [
      "1/1 [==============================] - 0s 21ms/step\n",
      "1/1 [==============================] - 0s 21ms/step\n",
      "1/1 [==============================] - 0s 23ms/step\n"
     ]
    },
    {
     "name": "stderr",
     "output_type": "stream",
     "text": [
      "/var/folders/g_/mmqgkbcx0qn0r2j_wxv7rf2m0000gn/T/ipykernel_50021/4215304269.py:40: FutureWarning: The frame.append method is deprecated and will be removed from pandas in a future version. Use pandas.concat instead.\n",
      "  room_df = room_df.append(row, ignore_index=True)\n",
      "/Users/abhilash/opt/anaconda3/lib/python3.9/site-packages/sklearn/base.py:450: UserWarning: X does not have valid feature names, but StandardScaler was fitted with feature names\n",
      "  warnings.warn(\n",
      "/var/folders/g_/mmqgkbcx0qn0r2j_wxv7rf2m0000gn/T/ipykernel_50021/4215304269.py:40: FutureWarning: The frame.append method is deprecated and will be removed from pandas in a future version. Use pandas.concat instead.\n",
      "  room_df = room_df.append(row, ignore_index=True)\n",
      "/Users/abhilash/opt/anaconda3/lib/python3.9/site-packages/sklearn/base.py:450: UserWarning: X does not have valid feature names, but StandardScaler was fitted with feature names\n",
      "  warnings.warn(\n",
      "/var/folders/g_/mmqgkbcx0qn0r2j_wxv7rf2m0000gn/T/ipykernel_50021/4215304269.py:40: FutureWarning: The frame.append method is deprecated and will be removed from pandas in a future version. Use pandas.concat instead.\n",
      "  room_df = room_df.append(row, ignore_index=True)\n",
      "/Users/abhilash/opt/anaconda3/lib/python3.9/site-packages/sklearn/base.py:450: UserWarning: X does not have valid feature names, but StandardScaler was fitted with feature names\n",
      "  warnings.warn(\n"
     ]
    },
    {
     "name": "stdout",
     "output_type": "stream",
     "text": [
      "1/1 [==============================] - 0s 22ms/step\n",
      "1/1 [==============================] - 0s 22ms/step\n",
      "1/1 [==============================] - 0s 23ms/step\n",
      "1/1 [==============================] - 0s 23ms/step\n"
     ]
    },
    {
     "name": "stderr",
     "output_type": "stream",
     "text": [
      "/var/folders/g_/mmqgkbcx0qn0r2j_wxv7rf2m0000gn/T/ipykernel_50021/4215304269.py:40: FutureWarning: The frame.append method is deprecated and will be removed from pandas in a future version. Use pandas.concat instead.\n",
      "  room_df = room_df.append(row, ignore_index=True)\n",
      "/Users/abhilash/opt/anaconda3/lib/python3.9/site-packages/sklearn/base.py:450: UserWarning: X does not have valid feature names, but StandardScaler was fitted with feature names\n",
      "  warnings.warn(\n",
      "/var/folders/g_/mmqgkbcx0qn0r2j_wxv7rf2m0000gn/T/ipykernel_50021/4215304269.py:40: FutureWarning: The frame.append method is deprecated and will be removed from pandas in a future version. Use pandas.concat instead.\n",
      "  room_df = room_df.append(row, ignore_index=True)\n",
      "/Users/abhilash/opt/anaconda3/lib/python3.9/site-packages/sklearn/base.py:450: UserWarning: X does not have valid feature names, but StandardScaler was fitted with feature names\n",
      "  warnings.warn(\n",
      "/var/folders/g_/mmqgkbcx0qn0r2j_wxv7rf2m0000gn/T/ipykernel_50021/4215304269.py:40: FutureWarning: The frame.append method is deprecated and will be removed from pandas in a future version. Use pandas.concat instead.\n",
      "  room_df = room_df.append(row, ignore_index=True)\n",
      "/Users/abhilash/opt/anaconda3/lib/python3.9/site-packages/sklearn/base.py:450: UserWarning: X does not have valid feature names, but StandardScaler was fitted with feature names\n",
      "  warnings.warn(\n"
     ]
    },
    {
     "name": "stdout",
     "output_type": "stream",
     "text": [
      "1/1 [==============================] - 0s 22ms/step\n",
      "1/1 [==============================] - 0s 21ms/step\n"
     ]
    },
    {
     "name": "stderr",
     "output_type": "stream",
     "text": [
      "/var/folders/g_/mmqgkbcx0qn0r2j_wxv7rf2m0000gn/T/ipykernel_50021/4215304269.py:40: FutureWarning: The frame.append method is deprecated and will be removed from pandas in a future version. Use pandas.concat instead.\n",
      "  room_df = room_df.append(row, ignore_index=True)\n",
      "/Users/abhilash/opt/anaconda3/lib/python3.9/site-packages/sklearn/base.py:450: UserWarning: X does not have valid feature names, but StandardScaler was fitted with feature names\n",
      "  warnings.warn(\n",
      "/var/folders/g_/mmqgkbcx0qn0r2j_wxv7rf2m0000gn/T/ipykernel_50021/4215304269.py:40: FutureWarning: The frame.append method is deprecated and will be removed from pandas in a future version. Use pandas.concat instead.\n",
      "  room_df = room_df.append(row, ignore_index=True)\n",
      "/Users/abhilash/opt/anaconda3/lib/python3.9/site-packages/sklearn/base.py:450: UserWarning: X does not have valid feature names, but StandardScaler was fitted with feature names\n",
      "  warnings.warn(\n",
      "/var/folders/g_/mmqgkbcx0qn0r2j_wxv7rf2m0000gn/T/ipykernel_50021/4215304269.py:40: FutureWarning: The frame.append method is deprecated and will be removed from pandas in a future version. Use pandas.concat instead.\n",
      "  room_df = room_df.append(row, ignore_index=True)\n",
      "/Users/abhilash/opt/anaconda3/lib/python3.9/site-packages/sklearn/base.py:450: UserWarning: X does not have valid feature names, but StandardScaler was fitted with feature names\n",
      "  warnings.warn(\n"
     ]
    },
    {
     "name": "stdout",
     "output_type": "stream",
     "text": [
      "1/1 [==============================] - 0s 21ms/step\n",
      "1/1 [==============================] - 0s 22ms/step\n",
      "1/1 [==============================] - 0s 24ms/step\n"
     ]
    },
    {
     "name": "stderr",
     "output_type": "stream",
     "text": [
      "/var/folders/g_/mmqgkbcx0qn0r2j_wxv7rf2m0000gn/T/ipykernel_50021/4215304269.py:40: FutureWarning: The frame.append method is deprecated and will be removed from pandas in a future version. Use pandas.concat instead.\n",
      "  room_df = room_df.append(row, ignore_index=True)\n",
      "/Users/abhilash/opt/anaconda3/lib/python3.9/site-packages/sklearn/base.py:450: UserWarning: X does not have valid feature names, but StandardScaler was fitted with feature names\n",
      "  warnings.warn(\n",
      "/var/folders/g_/mmqgkbcx0qn0r2j_wxv7rf2m0000gn/T/ipykernel_50021/4215304269.py:40: FutureWarning: The frame.append method is deprecated and will be removed from pandas in a future version. Use pandas.concat instead.\n",
      "  room_df = room_df.append(row, ignore_index=True)\n",
      "/Users/abhilash/opt/anaconda3/lib/python3.9/site-packages/sklearn/base.py:450: UserWarning: X does not have valid feature names, but StandardScaler was fitted with feature names\n",
      "  warnings.warn(\n",
      "/var/folders/g_/mmqgkbcx0qn0r2j_wxv7rf2m0000gn/T/ipykernel_50021/4215304269.py:40: FutureWarning: The frame.append method is deprecated and will be removed from pandas in a future version. Use pandas.concat instead.\n",
      "  room_df = room_df.append(row, ignore_index=True)\n",
      "/Users/abhilash/opt/anaconda3/lib/python3.9/site-packages/sklearn/base.py:450: UserWarning: X does not have valid feature names, but StandardScaler was fitted with feature names\n",
      "  warnings.warn(\n"
     ]
    },
    {
     "name": "stdout",
     "output_type": "stream",
     "text": [
      "1/1 [==============================] - 0s 23ms/step\n",
      "1/1 [==============================] - 0s 24ms/step\n",
      "1/1 [==============================] - 0s 21ms/step\n"
     ]
    },
    {
     "name": "stderr",
     "output_type": "stream",
     "text": [
      "/var/folders/g_/mmqgkbcx0qn0r2j_wxv7rf2m0000gn/T/ipykernel_50021/4215304269.py:40: FutureWarning: The frame.append method is deprecated and will be removed from pandas in a future version. Use pandas.concat instead.\n",
      "  room_df = room_df.append(row, ignore_index=True)\n",
      "/Users/abhilash/opt/anaconda3/lib/python3.9/site-packages/sklearn/base.py:450: UserWarning: X does not have valid feature names, but StandardScaler was fitted with feature names\n",
      "  warnings.warn(\n",
      "/var/folders/g_/mmqgkbcx0qn0r2j_wxv7rf2m0000gn/T/ipykernel_50021/4215304269.py:40: FutureWarning: The frame.append method is deprecated and will be removed from pandas in a future version. Use pandas.concat instead.\n",
      "  room_df = room_df.append(row, ignore_index=True)\n",
      "/Users/abhilash/opt/anaconda3/lib/python3.9/site-packages/sklearn/base.py:450: UserWarning: X does not have valid feature names, but StandardScaler was fitted with feature names\n",
      "  warnings.warn(\n",
      "/var/folders/g_/mmqgkbcx0qn0r2j_wxv7rf2m0000gn/T/ipykernel_50021/4215304269.py:40: FutureWarning: The frame.append method is deprecated and will be removed from pandas in a future version. Use pandas.concat instead.\n",
      "  room_df = room_df.append(row, ignore_index=True)\n",
      "/Users/abhilash/opt/anaconda3/lib/python3.9/site-packages/sklearn/base.py:450: UserWarning: X does not have valid feature names, but StandardScaler was fitted with feature names\n",
      "  warnings.warn(\n"
     ]
    },
    {
     "name": "stdout",
     "output_type": "stream",
     "text": [
      "1/1 [==============================] - 0s 24ms/step\n",
      "1/1 [==============================] - 0s 22ms/step\n",
      "1/1 [==============================] - 0s 22ms/step\n"
     ]
    },
    {
     "name": "stderr",
     "output_type": "stream",
     "text": [
      "/var/folders/g_/mmqgkbcx0qn0r2j_wxv7rf2m0000gn/T/ipykernel_50021/4215304269.py:40: FutureWarning: The frame.append method is deprecated and will be removed from pandas in a future version. Use pandas.concat instead.\n",
      "  room_df = room_df.append(row, ignore_index=True)\n",
      "/Users/abhilash/opt/anaconda3/lib/python3.9/site-packages/sklearn/base.py:450: UserWarning: X does not have valid feature names, but StandardScaler was fitted with feature names\n",
      "  warnings.warn(\n",
      "/var/folders/g_/mmqgkbcx0qn0r2j_wxv7rf2m0000gn/T/ipykernel_50021/4215304269.py:40: FutureWarning: The frame.append method is deprecated and will be removed from pandas in a future version. Use pandas.concat instead.\n",
      "  room_df = room_df.append(row, ignore_index=True)\n",
      "/Users/abhilash/opt/anaconda3/lib/python3.9/site-packages/sklearn/base.py:450: UserWarning: X does not have valid feature names, but StandardScaler was fitted with feature names\n",
      "  warnings.warn(\n",
      "/var/folders/g_/mmqgkbcx0qn0r2j_wxv7rf2m0000gn/T/ipykernel_50021/4215304269.py:40: FutureWarning: The frame.append method is deprecated and will be removed from pandas in a future version. Use pandas.concat instead.\n",
      "  room_df = room_df.append(row, ignore_index=True)\n",
      "/Users/abhilash/opt/anaconda3/lib/python3.9/site-packages/sklearn/base.py:450: UserWarning: X does not have valid feature names, but StandardScaler was fitted with feature names\n",
      "  warnings.warn(\n"
     ]
    },
    {
     "name": "stdout",
     "output_type": "stream",
     "text": [
      "1/1 [==============================] - 0s 23ms/step\n",
      "1/1 [==============================] - 0s 29ms/step\n",
      "1/1 [==============================] - 0s 21ms/step\n"
     ]
    },
    {
     "name": "stderr",
     "output_type": "stream",
     "text": [
      "/var/folders/g_/mmqgkbcx0qn0r2j_wxv7rf2m0000gn/T/ipykernel_50021/4215304269.py:40: FutureWarning: The frame.append method is deprecated and will be removed from pandas in a future version. Use pandas.concat instead.\n",
      "  room_df = room_df.append(row, ignore_index=True)\n",
      "/Users/abhilash/opt/anaconda3/lib/python3.9/site-packages/sklearn/base.py:450: UserWarning: X does not have valid feature names, but StandardScaler was fitted with feature names\n",
      "  warnings.warn(\n",
      "/var/folders/g_/mmqgkbcx0qn0r2j_wxv7rf2m0000gn/T/ipykernel_50021/4215304269.py:40: FutureWarning: The frame.append method is deprecated and will be removed from pandas in a future version. Use pandas.concat instead.\n",
      "  room_df = room_df.append(row, ignore_index=True)\n",
      "/Users/abhilash/opt/anaconda3/lib/python3.9/site-packages/sklearn/base.py:450: UserWarning: X does not have valid feature names, but StandardScaler was fitted with feature names\n",
      "  warnings.warn(\n",
      "/var/folders/g_/mmqgkbcx0qn0r2j_wxv7rf2m0000gn/T/ipykernel_50021/4215304269.py:40: FutureWarning: The frame.append method is deprecated and will be removed from pandas in a future version. Use pandas.concat instead.\n",
      "  room_df = room_df.append(row, ignore_index=True)\n",
      "/Users/abhilash/opt/anaconda3/lib/python3.9/site-packages/sklearn/base.py:450: UserWarning: X does not have valid feature names, but StandardScaler was fitted with feature names\n",
      "  warnings.warn(\n"
     ]
    },
    {
     "name": "stdout",
     "output_type": "stream",
     "text": [
      "1/1 [==============================] - 0s 22ms/step\n",
      "1/1 [==============================] - 0s 21ms/step\n",
      "1/1 [==============================] - 0s 21ms/step\n"
     ]
    },
    {
     "name": "stderr",
     "output_type": "stream",
     "text": [
      "/var/folders/g_/mmqgkbcx0qn0r2j_wxv7rf2m0000gn/T/ipykernel_50021/4215304269.py:40: FutureWarning: The frame.append method is deprecated and will be removed from pandas in a future version. Use pandas.concat instead.\n",
      "  room_df = room_df.append(row, ignore_index=True)\n",
      "/Users/abhilash/opt/anaconda3/lib/python3.9/site-packages/sklearn/base.py:450: UserWarning: X does not have valid feature names, but StandardScaler was fitted with feature names\n",
      "  warnings.warn(\n",
      "/var/folders/g_/mmqgkbcx0qn0r2j_wxv7rf2m0000gn/T/ipykernel_50021/4215304269.py:40: FutureWarning: The frame.append method is deprecated and will be removed from pandas in a future version. Use pandas.concat instead.\n",
      "  room_df = room_df.append(row, ignore_index=True)\n",
      "/Users/abhilash/opt/anaconda3/lib/python3.9/site-packages/sklearn/base.py:450: UserWarning: X does not have valid feature names, but StandardScaler was fitted with feature names\n",
      "  warnings.warn(\n",
      "/var/folders/g_/mmqgkbcx0qn0r2j_wxv7rf2m0000gn/T/ipykernel_50021/4215304269.py:40: FutureWarning: The frame.append method is deprecated and will be removed from pandas in a future version. Use pandas.concat instead.\n",
      "  room_df = room_df.append(row, ignore_index=True)\n",
      "/Users/abhilash/opt/anaconda3/lib/python3.9/site-packages/sklearn/base.py:450: UserWarning: X does not have valid feature names, but StandardScaler was fitted with feature names\n",
      "  warnings.warn(\n"
     ]
    },
    {
     "name": "stdout",
     "output_type": "stream",
     "text": [
      "1/1 [==============================] - 0s 22ms/step\n",
      "1/1 [==============================] - 0s 22ms/step\n",
      "1/1 [==============================] - 0s 22ms/step\n",
      "1/1 [==============================] - 0s 22ms/step\n"
     ]
    },
    {
     "name": "stderr",
     "output_type": "stream",
     "text": [
      "/var/folders/g_/mmqgkbcx0qn0r2j_wxv7rf2m0000gn/T/ipykernel_50021/4215304269.py:40: FutureWarning: The frame.append method is deprecated and will be removed from pandas in a future version. Use pandas.concat instead.\n",
      "  room_df = room_df.append(row, ignore_index=True)\n",
      "/Users/abhilash/opt/anaconda3/lib/python3.9/site-packages/sklearn/base.py:450: UserWarning: X does not have valid feature names, but StandardScaler was fitted with feature names\n",
      "  warnings.warn(\n",
      "/var/folders/g_/mmqgkbcx0qn0r2j_wxv7rf2m0000gn/T/ipykernel_50021/4215304269.py:40: FutureWarning: The frame.append method is deprecated and will be removed from pandas in a future version. Use pandas.concat instead.\n",
      "  room_df = room_df.append(row, ignore_index=True)\n",
      "/Users/abhilash/opt/anaconda3/lib/python3.9/site-packages/sklearn/base.py:450: UserWarning: X does not have valid feature names, but StandardScaler was fitted with feature names\n",
      "  warnings.warn(\n",
      "/var/folders/g_/mmqgkbcx0qn0r2j_wxv7rf2m0000gn/T/ipykernel_50021/4215304269.py:40: FutureWarning: The frame.append method is deprecated and will be removed from pandas in a future version. Use pandas.concat instead.\n",
      "  room_df = room_df.append(row, ignore_index=True)\n",
      "/Users/abhilash/opt/anaconda3/lib/python3.9/site-packages/sklearn/base.py:450: UserWarning: X does not have valid feature names, but StandardScaler was fitted with feature names\n",
      "  warnings.warn(\n",
      "/var/folders/g_/mmqgkbcx0qn0r2j_wxv7rf2m0000gn/T/ipykernel_50021/4215304269.py:40: FutureWarning: The frame.append method is deprecated and will be removed from pandas in a future version. Use pandas.concat instead.\n",
      "  room_df = room_df.append(row, ignore_index=True)\n",
      "/Users/abhilash/opt/anaconda3/lib/python3.9/site-packages/sklearn/base.py:450: UserWarning: X does not have valid feature names, but StandardScaler was fitted with feature names\n",
      "  warnings.warn(\n"
     ]
    },
    {
     "name": "stdout",
     "output_type": "stream",
     "text": [
      "1/1 [==============================] - 0s 21ms/step\n",
      "1/1 [==============================] - 0s 21ms/step\n",
      "1/1 [==============================] - 0s 22ms/step\n",
      "1/1 [==============================] - 0s 22ms/step\n"
     ]
    },
    {
     "name": "stderr",
     "output_type": "stream",
     "text": [
      "/var/folders/g_/mmqgkbcx0qn0r2j_wxv7rf2m0000gn/T/ipykernel_50021/4215304269.py:40: FutureWarning: The frame.append method is deprecated and will be removed from pandas in a future version. Use pandas.concat instead.\n",
      "  room_df = room_df.append(row, ignore_index=True)\n",
      "/Users/abhilash/opt/anaconda3/lib/python3.9/site-packages/sklearn/base.py:450: UserWarning: X does not have valid feature names, but StandardScaler was fitted with feature names\n",
      "  warnings.warn(\n",
      "/var/folders/g_/mmqgkbcx0qn0r2j_wxv7rf2m0000gn/T/ipykernel_50021/4215304269.py:40: FutureWarning: The frame.append method is deprecated and will be removed from pandas in a future version. Use pandas.concat instead.\n",
      "  room_df = room_df.append(row, ignore_index=True)\n",
      "/Users/abhilash/opt/anaconda3/lib/python3.9/site-packages/sklearn/base.py:450: UserWarning: X does not have valid feature names, but StandardScaler was fitted with feature names\n",
      "  warnings.warn(\n",
      "/var/folders/g_/mmqgkbcx0qn0r2j_wxv7rf2m0000gn/T/ipykernel_50021/4215304269.py:40: FutureWarning: The frame.append method is deprecated and will be removed from pandas in a future version. Use pandas.concat instead.\n",
      "  room_df = room_df.append(row, ignore_index=True)\n",
      "/Users/abhilash/opt/anaconda3/lib/python3.9/site-packages/sklearn/base.py:450: UserWarning: X does not have valid feature names, but StandardScaler was fitted with feature names\n",
      "  warnings.warn(\n",
      "/var/folders/g_/mmqgkbcx0qn0r2j_wxv7rf2m0000gn/T/ipykernel_50021/4215304269.py:40: FutureWarning: The frame.append method is deprecated and will be removed from pandas in a future version. Use pandas.concat instead.\n",
      "  room_df = room_df.append(row, ignore_index=True)\n",
      "/Users/abhilash/opt/anaconda3/lib/python3.9/site-packages/sklearn/base.py:450: UserWarning: X does not have valid feature names, but StandardScaler was fitted with feature names\n",
      "  warnings.warn(\n"
     ]
    },
    {
     "name": "stdout",
     "output_type": "stream",
     "text": [
      "1/1 [==============================] - 0s 23ms/step\n",
      "1/1 [==============================] - 0s 21ms/step\n",
      "1/1 [==============================] - 0s 21ms/step\n"
     ]
    },
    {
     "name": "stderr",
     "output_type": "stream",
     "text": [
      "/var/folders/g_/mmqgkbcx0qn0r2j_wxv7rf2m0000gn/T/ipykernel_50021/4215304269.py:40: FutureWarning: The frame.append method is deprecated and will be removed from pandas in a future version. Use pandas.concat instead.\n",
      "  room_df = room_df.append(row, ignore_index=True)\n",
      "/Users/abhilash/opt/anaconda3/lib/python3.9/site-packages/sklearn/base.py:450: UserWarning: X does not have valid feature names, but StandardScaler was fitted with feature names\n",
      "  warnings.warn(\n",
      "/var/folders/g_/mmqgkbcx0qn0r2j_wxv7rf2m0000gn/T/ipykernel_50021/4215304269.py:40: FutureWarning: The frame.append method is deprecated and will be removed from pandas in a future version. Use pandas.concat instead.\n",
      "  room_df = room_df.append(row, ignore_index=True)\n",
      "/var/folders/g_/mmqgkbcx0qn0r2j_wxv7rf2m0000gn/T/ipykernel_50021/4215304269.py:43: FutureWarning: The frame.append method is deprecated and will be removed from pandas in a future version. Use pandas.concat instead.\n",
      "  pred_df = pred_df.append(room_df, ignore_index=True)\n",
      "/Users/abhilash/opt/anaconda3/lib/python3.9/site-packages/sklearn/base.py:450: UserWarning: X does not have valid feature names, but StandardScaler was fitted with feature names\n",
      "  warnings.warn(\n",
      "/var/folders/g_/mmqgkbcx0qn0r2j_wxv7rf2m0000gn/T/ipykernel_50021/4215304269.py:40: FutureWarning: The frame.append method is deprecated and will be removed from pandas in a future version. Use pandas.concat instead.\n",
      "  room_df = room_df.append(row, ignore_index=True)\n",
      "/Users/abhilash/opt/anaconda3/lib/python3.9/site-packages/sklearn/base.py:450: UserWarning: X does not have valid feature names, but StandardScaler was fitted with feature names\n",
      "  warnings.warn(\n"
     ]
    },
    {
     "name": "stdout",
     "output_type": "stream",
     "text": [
      "1/1 [==============================] - 0s 23ms/step\n",
      "1/1 [==============================] - 0s 22ms/step\n",
      "1/1 [==============================] - 0s 21ms/step\n",
      "1/1 [==============================] - 0s 21ms/step\n"
     ]
    },
    {
     "name": "stderr",
     "output_type": "stream",
     "text": [
      "/var/folders/g_/mmqgkbcx0qn0r2j_wxv7rf2m0000gn/T/ipykernel_50021/4215304269.py:40: FutureWarning: The frame.append method is deprecated and will be removed from pandas in a future version. Use pandas.concat instead.\n",
      "  room_df = room_df.append(row, ignore_index=True)\n",
      "/Users/abhilash/opt/anaconda3/lib/python3.9/site-packages/sklearn/base.py:450: UserWarning: X does not have valid feature names, but StandardScaler was fitted with feature names\n",
      "  warnings.warn(\n",
      "/var/folders/g_/mmqgkbcx0qn0r2j_wxv7rf2m0000gn/T/ipykernel_50021/4215304269.py:40: FutureWarning: The frame.append method is deprecated and will be removed from pandas in a future version. Use pandas.concat instead.\n",
      "  room_df = room_df.append(row, ignore_index=True)\n",
      "/Users/abhilash/opt/anaconda3/lib/python3.9/site-packages/sklearn/base.py:450: UserWarning: X does not have valid feature names, but StandardScaler was fitted with feature names\n",
      "  warnings.warn(\n",
      "/var/folders/g_/mmqgkbcx0qn0r2j_wxv7rf2m0000gn/T/ipykernel_50021/4215304269.py:40: FutureWarning: The frame.append method is deprecated and will be removed from pandas in a future version. Use pandas.concat instead.\n",
      "  room_df = room_df.append(row, ignore_index=True)\n",
      "/Users/abhilash/opt/anaconda3/lib/python3.9/site-packages/sklearn/base.py:450: UserWarning: X does not have valid feature names, but StandardScaler was fitted with feature names\n",
      "  warnings.warn(\n"
     ]
    },
    {
     "name": "stdout",
     "output_type": "stream",
     "text": [
      "1/1 [==============================] - 0s 22ms/step\n",
      "1/1 [==============================] - 0s 23ms/step\n",
      "1/1 [==============================] - 0s 21ms/step\n"
     ]
    },
    {
     "name": "stderr",
     "output_type": "stream",
     "text": [
      "/var/folders/g_/mmqgkbcx0qn0r2j_wxv7rf2m0000gn/T/ipykernel_50021/4215304269.py:40: FutureWarning: The frame.append method is deprecated and will be removed from pandas in a future version. Use pandas.concat instead.\n",
      "  room_df = room_df.append(row, ignore_index=True)\n",
      "/Users/abhilash/opt/anaconda3/lib/python3.9/site-packages/sklearn/base.py:450: UserWarning: X does not have valid feature names, but StandardScaler was fitted with feature names\n",
      "  warnings.warn(\n",
      "/var/folders/g_/mmqgkbcx0qn0r2j_wxv7rf2m0000gn/T/ipykernel_50021/4215304269.py:40: FutureWarning: The frame.append method is deprecated and will be removed from pandas in a future version. Use pandas.concat instead.\n",
      "  room_df = room_df.append(row, ignore_index=True)\n",
      "/Users/abhilash/opt/anaconda3/lib/python3.9/site-packages/sklearn/base.py:450: UserWarning: X does not have valid feature names, but StandardScaler was fitted with feature names\n",
      "  warnings.warn(\n",
      "/var/folders/g_/mmqgkbcx0qn0r2j_wxv7rf2m0000gn/T/ipykernel_50021/4215304269.py:40: FutureWarning: The frame.append method is deprecated and will be removed from pandas in a future version. Use pandas.concat instead.\n",
      "  room_df = room_df.append(row, ignore_index=True)\n",
      "/Users/abhilash/opt/anaconda3/lib/python3.9/site-packages/sklearn/base.py:450: UserWarning: X does not have valid feature names, but StandardScaler was fitted with feature names\n",
      "  warnings.warn(\n",
      "/var/folders/g_/mmqgkbcx0qn0r2j_wxv7rf2m0000gn/T/ipykernel_50021/4215304269.py:40: FutureWarning: The frame.append method is deprecated and will be removed from pandas in a future version. Use pandas.concat instead.\n",
      "  room_df = room_df.append(row, ignore_index=True)\n",
      "/Users/abhilash/opt/anaconda3/lib/python3.9/site-packages/sklearn/base.py:450: UserWarning: X does not have valid feature names, but StandardScaler was fitted with feature names\n",
      "  warnings.warn(\n"
     ]
    },
    {
     "name": "stdout",
     "output_type": "stream",
     "text": [
      "1/1 [==============================] - 0s 26ms/step\n",
      "1/1 [==============================] - 0s 28ms/step\n",
      "1/1 [==============================] - 0s 26ms/step\n"
     ]
    },
    {
     "name": "stderr",
     "output_type": "stream",
     "text": [
      "/var/folders/g_/mmqgkbcx0qn0r2j_wxv7rf2m0000gn/T/ipykernel_50021/4215304269.py:40: FutureWarning: The frame.append method is deprecated and will be removed from pandas in a future version. Use pandas.concat instead.\n",
      "  room_df = room_df.append(row, ignore_index=True)\n",
      "/Users/abhilash/opt/anaconda3/lib/python3.9/site-packages/sklearn/base.py:450: UserWarning: X does not have valid feature names, but StandardScaler was fitted with feature names\n",
      "  warnings.warn(\n",
      "/var/folders/g_/mmqgkbcx0qn0r2j_wxv7rf2m0000gn/T/ipykernel_50021/4215304269.py:40: FutureWarning: The frame.append method is deprecated and will be removed from pandas in a future version. Use pandas.concat instead.\n",
      "  room_df = room_df.append(row, ignore_index=True)\n",
      "/Users/abhilash/opt/anaconda3/lib/python3.9/site-packages/sklearn/base.py:450: UserWarning: X does not have valid feature names, but StandardScaler was fitted with feature names\n",
      "  warnings.warn(\n",
      "/var/folders/g_/mmqgkbcx0qn0r2j_wxv7rf2m0000gn/T/ipykernel_50021/4215304269.py:40: FutureWarning: The frame.append method is deprecated and will be removed from pandas in a future version. Use pandas.concat instead.\n",
      "  room_df = room_df.append(row, ignore_index=True)\n",
      "/Users/abhilash/opt/anaconda3/lib/python3.9/site-packages/sklearn/base.py:450: UserWarning: X does not have valid feature names, but StandardScaler was fitted with feature names\n",
      "  warnings.warn(\n"
     ]
    },
    {
     "name": "stdout",
     "output_type": "stream",
     "text": [
      "1/1 [==============================] - 0s 26ms/step\n",
      "1/1 [==============================] - 0s 24ms/step\n",
      "1/1 [==============================] - 0s 26ms/step\n"
     ]
    },
    {
     "name": "stderr",
     "output_type": "stream",
     "text": [
      "/var/folders/g_/mmqgkbcx0qn0r2j_wxv7rf2m0000gn/T/ipykernel_50021/4215304269.py:40: FutureWarning: The frame.append method is deprecated and will be removed from pandas in a future version. Use pandas.concat instead.\n",
      "  room_df = room_df.append(row, ignore_index=True)\n",
      "/Users/abhilash/opt/anaconda3/lib/python3.9/site-packages/sklearn/base.py:450: UserWarning: X does not have valid feature names, but StandardScaler was fitted with feature names\n",
      "  warnings.warn(\n",
      "/var/folders/g_/mmqgkbcx0qn0r2j_wxv7rf2m0000gn/T/ipykernel_50021/4215304269.py:40: FutureWarning: The frame.append method is deprecated and will be removed from pandas in a future version. Use pandas.concat instead.\n",
      "  room_df = room_df.append(row, ignore_index=True)\n",
      "/Users/abhilash/opt/anaconda3/lib/python3.9/site-packages/sklearn/base.py:450: UserWarning: X does not have valid feature names, but StandardScaler was fitted with feature names\n",
      "  warnings.warn(\n",
      "/var/folders/g_/mmqgkbcx0qn0r2j_wxv7rf2m0000gn/T/ipykernel_50021/4215304269.py:40: FutureWarning: The frame.append method is deprecated and will be removed from pandas in a future version. Use pandas.concat instead.\n",
      "  room_df = room_df.append(row, ignore_index=True)\n",
      "/Users/abhilash/opt/anaconda3/lib/python3.9/site-packages/sklearn/base.py:450: UserWarning: X does not have valid feature names, but StandardScaler was fitted with feature names\n",
      "  warnings.warn(\n"
     ]
    },
    {
     "name": "stdout",
     "output_type": "stream",
     "text": [
      "1/1 [==============================] - 0s 28ms/step\n",
      "1/1 [==============================] - 0s 24ms/step\n",
      "1/1 [==============================] - 0s 27ms/step\n"
     ]
    },
    {
     "name": "stderr",
     "output_type": "stream",
     "text": [
      "/var/folders/g_/mmqgkbcx0qn0r2j_wxv7rf2m0000gn/T/ipykernel_50021/4215304269.py:40: FutureWarning: The frame.append method is deprecated and will be removed from pandas in a future version. Use pandas.concat instead.\n",
      "  room_df = room_df.append(row, ignore_index=True)\n",
      "/Users/abhilash/opt/anaconda3/lib/python3.9/site-packages/sklearn/base.py:450: UserWarning: X does not have valid feature names, but StandardScaler was fitted with feature names\n",
      "  warnings.warn(\n",
      "/var/folders/g_/mmqgkbcx0qn0r2j_wxv7rf2m0000gn/T/ipykernel_50021/4215304269.py:40: FutureWarning: The frame.append method is deprecated and will be removed from pandas in a future version. Use pandas.concat instead.\n",
      "  room_df = room_df.append(row, ignore_index=True)\n",
      "/Users/abhilash/opt/anaconda3/lib/python3.9/site-packages/sklearn/base.py:450: UserWarning: X does not have valid feature names, but StandardScaler was fitted with feature names\n",
      "  warnings.warn(\n",
      "/var/folders/g_/mmqgkbcx0qn0r2j_wxv7rf2m0000gn/T/ipykernel_50021/4215304269.py:40: FutureWarning: The frame.append method is deprecated and will be removed from pandas in a future version. Use pandas.concat instead.\n",
      "  room_df = room_df.append(row, ignore_index=True)\n",
      "/Users/abhilash/opt/anaconda3/lib/python3.9/site-packages/sklearn/base.py:450: UserWarning: X does not have valid feature names, but StandardScaler was fitted with feature names\n",
      "  warnings.warn(\n"
     ]
    },
    {
     "name": "stdout",
     "output_type": "stream",
     "text": [
      "1/1 [==============================] - 0s 29ms/step\n",
      "1/1 [==============================] - 0s 23ms/step\n",
      "1/1 [==============================] - 0s 27ms/step\n"
     ]
    },
    {
     "name": "stderr",
     "output_type": "stream",
     "text": [
      "/var/folders/g_/mmqgkbcx0qn0r2j_wxv7rf2m0000gn/T/ipykernel_50021/4215304269.py:40: FutureWarning: The frame.append method is deprecated and will be removed from pandas in a future version. Use pandas.concat instead.\n",
      "  room_df = room_df.append(row, ignore_index=True)\n",
      "/Users/abhilash/opt/anaconda3/lib/python3.9/site-packages/sklearn/base.py:450: UserWarning: X does not have valid feature names, but StandardScaler was fitted with feature names\n",
      "  warnings.warn(\n",
      "/var/folders/g_/mmqgkbcx0qn0r2j_wxv7rf2m0000gn/T/ipykernel_50021/4215304269.py:40: FutureWarning: The frame.append method is deprecated and will be removed from pandas in a future version. Use pandas.concat instead.\n",
      "  room_df = room_df.append(row, ignore_index=True)\n",
      "/Users/abhilash/opt/anaconda3/lib/python3.9/site-packages/sklearn/base.py:450: UserWarning: X does not have valid feature names, but StandardScaler was fitted with feature names\n",
      "  warnings.warn(\n",
      "/var/folders/g_/mmqgkbcx0qn0r2j_wxv7rf2m0000gn/T/ipykernel_50021/4215304269.py:40: FutureWarning: The frame.append method is deprecated and will be removed from pandas in a future version. Use pandas.concat instead.\n",
      "  room_df = room_df.append(row, ignore_index=True)\n",
      "/Users/abhilash/opt/anaconda3/lib/python3.9/site-packages/sklearn/base.py:450: UserWarning: X does not have valid feature names, but StandardScaler was fitted with feature names\n",
      "  warnings.warn(\n"
     ]
    },
    {
     "name": "stdout",
     "output_type": "stream",
     "text": [
      "1/1 [==============================] - 0s 32ms/step\n",
      "1/1 [==============================] - 0s 26ms/step\n",
      "1/1 [==============================] - 0s 25ms/step\n"
     ]
    },
    {
     "name": "stderr",
     "output_type": "stream",
     "text": [
      "/var/folders/g_/mmqgkbcx0qn0r2j_wxv7rf2m0000gn/T/ipykernel_50021/4215304269.py:40: FutureWarning: The frame.append method is deprecated and will be removed from pandas in a future version. Use pandas.concat instead.\n",
      "  room_df = room_df.append(row, ignore_index=True)\n",
      "/Users/abhilash/opt/anaconda3/lib/python3.9/site-packages/sklearn/base.py:450: UserWarning: X does not have valid feature names, but StandardScaler was fitted with feature names\n",
      "  warnings.warn(\n",
      "/var/folders/g_/mmqgkbcx0qn0r2j_wxv7rf2m0000gn/T/ipykernel_50021/4215304269.py:40: FutureWarning: The frame.append method is deprecated and will be removed from pandas in a future version. Use pandas.concat instead.\n",
      "  room_df = room_df.append(row, ignore_index=True)\n",
      "/Users/abhilash/opt/anaconda3/lib/python3.9/site-packages/sklearn/base.py:450: UserWarning: X does not have valid feature names, but StandardScaler was fitted with feature names\n",
      "  warnings.warn(\n",
      "/var/folders/g_/mmqgkbcx0qn0r2j_wxv7rf2m0000gn/T/ipykernel_50021/4215304269.py:40: FutureWarning: The frame.append method is deprecated and will be removed from pandas in a future version. Use pandas.concat instead.\n",
      "  room_df = room_df.append(row, ignore_index=True)\n",
      "/Users/abhilash/opt/anaconda3/lib/python3.9/site-packages/sklearn/base.py:450: UserWarning: X does not have valid feature names, but StandardScaler was fitted with feature names\n",
      "  warnings.warn(\n"
     ]
    },
    {
     "name": "stdout",
     "output_type": "stream",
     "text": [
      "1/1 [==============================] - 0s 26ms/step\n",
      "1/1 [==============================] - 0s 24ms/step\n",
      "1/1 [==============================] - 0s 28ms/step\n"
     ]
    },
    {
     "name": "stderr",
     "output_type": "stream",
     "text": [
      "/var/folders/g_/mmqgkbcx0qn0r2j_wxv7rf2m0000gn/T/ipykernel_50021/4215304269.py:40: FutureWarning: The frame.append method is deprecated and will be removed from pandas in a future version. Use pandas.concat instead.\n",
      "  room_df = room_df.append(row, ignore_index=True)\n",
      "/Users/abhilash/opt/anaconda3/lib/python3.9/site-packages/sklearn/base.py:450: UserWarning: X does not have valid feature names, but StandardScaler was fitted with feature names\n",
      "  warnings.warn(\n",
      "/var/folders/g_/mmqgkbcx0qn0r2j_wxv7rf2m0000gn/T/ipykernel_50021/4215304269.py:40: FutureWarning: The frame.append method is deprecated and will be removed from pandas in a future version. Use pandas.concat instead.\n",
      "  room_df = room_df.append(row, ignore_index=True)\n",
      "/Users/abhilash/opt/anaconda3/lib/python3.9/site-packages/sklearn/base.py:450: UserWarning: X does not have valid feature names, but StandardScaler was fitted with feature names\n",
      "  warnings.warn(\n",
      "/var/folders/g_/mmqgkbcx0qn0r2j_wxv7rf2m0000gn/T/ipykernel_50021/4215304269.py:40: FutureWarning: The frame.append method is deprecated and will be removed from pandas in a future version. Use pandas.concat instead.\n",
      "  room_df = room_df.append(row, ignore_index=True)\n",
      "/Users/abhilash/opt/anaconda3/lib/python3.9/site-packages/sklearn/base.py:450: UserWarning: X does not have valid feature names, but StandardScaler was fitted with feature names\n",
      "  warnings.warn(\n"
     ]
    },
    {
     "name": "stdout",
     "output_type": "stream",
     "text": [
      "1/1 [==============================] - 0s 32ms/step\n",
      "1/1 [==============================] - 0s 28ms/step\n",
      "1/1 [==============================] - 0s 27ms/step\n"
     ]
    },
    {
     "name": "stderr",
     "output_type": "stream",
     "text": [
      "/var/folders/g_/mmqgkbcx0qn0r2j_wxv7rf2m0000gn/T/ipykernel_50021/4215304269.py:40: FutureWarning: The frame.append method is deprecated and will be removed from pandas in a future version. Use pandas.concat instead.\n",
      "  room_df = room_df.append(row, ignore_index=True)\n",
      "/Users/abhilash/opt/anaconda3/lib/python3.9/site-packages/sklearn/base.py:450: UserWarning: X does not have valid feature names, but StandardScaler was fitted with feature names\n",
      "  warnings.warn(\n",
      "/var/folders/g_/mmqgkbcx0qn0r2j_wxv7rf2m0000gn/T/ipykernel_50021/4215304269.py:40: FutureWarning: The frame.append method is deprecated and will be removed from pandas in a future version. Use pandas.concat instead.\n",
      "  room_df = room_df.append(row, ignore_index=True)\n",
      "/Users/abhilash/opt/anaconda3/lib/python3.9/site-packages/sklearn/base.py:450: UserWarning: X does not have valid feature names, but StandardScaler was fitted with feature names\n",
      "  warnings.warn(\n",
      "/var/folders/g_/mmqgkbcx0qn0r2j_wxv7rf2m0000gn/T/ipykernel_50021/4215304269.py:40: FutureWarning: The frame.append method is deprecated and will be removed from pandas in a future version. Use pandas.concat instead.\n",
      "  room_df = room_df.append(row, ignore_index=True)\n",
      "/Users/abhilash/opt/anaconda3/lib/python3.9/site-packages/sklearn/base.py:450: UserWarning: X does not have valid feature names, but StandardScaler was fitted with feature names\n",
      "  warnings.warn(\n"
     ]
    },
    {
     "name": "stdout",
     "output_type": "stream",
     "text": [
      "1/1 [==============================] - 0s 26ms/step\n",
      "1/1 [==============================] - 0s 28ms/step\n",
      "1/1 [==============================] - 0s 28ms/step\n"
     ]
    },
    {
     "name": "stderr",
     "output_type": "stream",
     "text": [
      "/var/folders/g_/mmqgkbcx0qn0r2j_wxv7rf2m0000gn/T/ipykernel_50021/4215304269.py:40: FutureWarning: The frame.append method is deprecated and will be removed from pandas in a future version. Use pandas.concat instead.\n",
      "  room_df = room_df.append(row, ignore_index=True)\n",
      "/Users/abhilash/opt/anaconda3/lib/python3.9/site-packages/sklearn/base.py:450: UserWarning: X does not have valid feature names, but StandardScaler was fitted with feature names\n",
      "  warnings.warn(\n",
      "/var/folders/g_/mmqgkbcx0qn0r2j_wxv7rf2m0000gn/T/ipykernel_50021/4215304269.py:40: FutureWarning: The frame.append method is deprecated and will be removed from pandas in a future version. Use pandas.concat instead.\n",
      "  room_df = room_df.append(row, ignore_index=True)\n",
      "/Users/abhilash/opt/anaconda3/lib/python3.9/site-packages/sklearn/base.py:450: UserWarning: X does not have valid feature names, but StandardScaler was fitted with feature names\n",
      "  warnings.warn(\n",
      "/var/folders/g_/mmqgkbcx0qn0r2j_wxv7rf2m0000gn/T/ipykernel_50021/4215304269.py:40: FutureWarning: The frame.append method is deprecated and will be removed from pandas in a future version. Use pandas.concat instead.\n",
      "  room_df = room_df.append(row, ignore_index=True)\n",
      "/Users/abhilash/opt/anaconda3/lib/python3.9/site-packages/sklearn/base.py:450: UserWarning: X does not have valid feature names, but StandardScaler was fitted with feature names\n",
      "  warnings.warn(\n"
     ]
    },
    {
     "name": "stdout",
     "output_type": "stream",
     "text": [
      "1/1 [==============================] - 0s 37ms/step\n",
      "1/1 [==============================] - 0s 35ms/step\n",
      "1/1 [==============================] - 0s 27ms/step\n"
     ]
    },
    {
     "name": "stderr",
     "output_type": "stream",
     "text": [
      "/var/folders/g_/mmqgkbcx0qn0r2j_wxv7rf2m0000gn/T/ipykernel_50021/4215304269.py:40: FutureWarning: The frame.append method is deprecated and will be removed from pandas in a future version. Use pandas.concat instead.\n",
      "  room_df = room_df.append(row, ignore_index=True)\n",
      "/Users/abhilash/opt/anaconda3/lib/python3.9/site-packages/sklearn/base.py:450: UserWarning: X does not have valid feature names, but StandardScaler was fitted with feature names\n",
      "  warnings.warn(\n",
      "/var/folders/g_/mmqgkbcx0qn0r2j_wxv7rf2m0000gn/T/ipykernel_50021/4215304269.py:40: FutureWarning: The frame.append method is deprecated and will be removed from pandas in a future version. Use pandas.concat instead.\n",
      "  room_df = room_df.append(row, ignore_index=True)\n",
      "/Users/abhilash/opt/anaconda3/lib/python3.9/site-packages/sklearn/base.py:450: UserWarning: X does not have valid feature names, but StandardScaler was fitted with feature names\n",
      "  warnings.warn(\n",
      "/var/folders/g_/mmqgkbcx0qn0r2j_wxv7rf2m0000gn/T/ipykernel_50021/4215304269.py:40: FutureWarning: The frame.append method is deprecated and will be removed from pandas in a future version. Use pandas.concat instead.\n",
      "  room_df = room_df.append(row, ignore_index=True)\n",
      "/Users/abhilash/opt/anaconda3/lib/python3.9/site-packages/sklearn/base.py:450: UserWarning: X does not have valid feature names, but StandardScaler was fitted with feature names\n",
      "  warnings.warn(\n"
     ]
    },
    {
     "name": "stdout",
     "output_type": "stream",
     "text": [
      "1/1 [==============================] - 0s 23ms/step\n",
      "1/1 [==============================] - 0s 28ms/step\n",
      "1/1 [==============================] - 0s 26ms/step\n"
     ]
    },
    {
     "name": "stderr",
     "output_type": "stream",
     "text": [
      "/var/folders/g_/mmqgkbcx0qn0r2j_wxv7rf2m0000gn/T/ipykernel_50021/4215304269.py:40: FutureWarning: The frame.append method is deprecated and will be removed from pandas in a future version. Use pandas.concat instead.\n",
      "  room_df = room_df.append(row, ignore_index=True)\n",
      "/Users/abhilash/opt/anaconda3/lib/python3.9/site-packages/sklearn/base.py:450: UserWarning: X does not have valid feature names, but StandardScaler was fitted with feature names\n",
      "  warnings.warn(\n",
      "/var/folders/g_/mmqgkbcx0qn0r2j_wxv7rf2m0000gn/T/ipykernel_50021/4215304269.py:40: FutureWarning: The frame.append method is deprecated and will be removed from pandas in a future version. Use pandas.concat instead.\n",
      "  room_df = room_df.append(row, ignore_index=True)\n",
      "/Users/abhilash/opt/anaconda3/lib/python3.9/site-packages/sklearn/base.py:450: UserWarning: X does not have valid feature names, but StandardScaler was fitted with feature names\n",
      "  warnings.warn(\n",
      "/var/folders/g_/mmqgkbcx0qn0r2j_wxv7rf2m0000gn/T/ipykernel_50021/4215304269.py:40: FutureWarning: The frame.append method is deprecated and will be removed from pandas in a future version. Use pandas.concat instead.\n",
      "  room_df = room_df.append(row, ignore_index=True)\n",
      "/Users/abhilash/opt/anaconda3/lib/python3.9/site-packages/sklearn/base.py:450: UserWarning: X does not have valid feature names, but StandardScaler was fitted with feature names\n",
      "  warnings.warn(\n"
     ]
    },
    {
     "name": "stdout",
     "output_type": "stream",
     "text": [
      "1/1 [==============================] - 0s 25ms/step\n",
      "1/1 [==============================] - 0s 27ms/step\n",
      "1/1 [==============================] - 0s 30ms/step\n"
     ]
    },
    {
     "name": "stderr",
     "output_type": "stream",
     "text": [
      "/var/folders/g_/mmqgkbcx0qn0r2j_wxv7rf2m0000gn/T/ipykernel_50021/4215304269.py:40: FutureWarning: The frame.append method is deprecated and will be removed from pandas in a future version. Use pandas.concat instead.\n",
      "  room_df = room_df.append(row, ignore_index=True)\n",
      "/Users/abhilash/opt/anaconda3/lib/python3.9/site-packages/sklearn/base.py:450: UserWarning: X does not have valid feature names, but StandardScaler was fitted with feature names\n",
      "  warnings.warn(\n",
      "/var/folders/g_/mmqgkbcx0qn0r2j_wxv7rf2m0000gn/T/ipykernel_50021/4215304269.py:40: FutureWarning: The frame.append method is deprecated and will be removed from pandas in a future version. Use pandas.concat instead.\n",
      "  room_df = room_df.append(row, ignore_index=True)\n",
      "/Users/abhilash/opt/anaconda3/lib/python3.9/site-packages/sklearn/base.py:450: UserWarning: X does not have valid feature names, but StandardScaler was fitted with feature names\n",
      "  warnings.warn(\n",
      "/var/folders/g_/mmqgkbcx0qn0r2j_wxv7rf2m0000gn/T/ipykernel_50021/4215304269.py:40: FutureWarning: The frame.append method is deprecated and will be removed from pandas in a future version. Use pandas.concat instead.\n",
      "  room_df = room_df.append(row, ignore_index=True)\n",
      "/Users/abhilash/opt/anaconda3/lib/python3.9/site-packages/sklearn/base.py:450: UserWarning: X does not have valid feature names, but StandardScaler was fitted with feature names\n",
      "  warnings.warn(\n"
     ]
    },
    {
     "name": "stdout",
     "output_type": "stream",
     "text": [
      "1/1 [==============================] - 0s 25ms/step\n",
      "1/1 [==============================] - 0s 26ms/step\n",
      "1/1 [==============================] - 0s 26ms/step\n"
     ]
    },
    {
     "name": "stderr",
     "output_type": "stream",
     "text": [
      "/var/folders/g_/mmqgkbcx0qn0r2j_wxv7rf2m0000gn/T/ipykernel_50021/4215304269.py:40: FutureWarning: The frame.append method is deprecated and will be removed from pandas in a future version. Use pandas.concat instead.\n",
      "  room_df = room_df.append(row, ignore_index=True)\n",
      "/Users/abhilash/opt/anaconda3/lib/python3.9/site-packages/sklearn/base.py:450: UserWarning: X does not have valid feature names, but StandardScaler was fitted with feature names\n",
      "  warnings.warn(\n",
      "/var/folders/g_/mmqgkbcx0qn0r2j_wxv7rf2m0000gn/T/ipykernel_50021/4215304269.py:40: FutureWarning: The frame.append method is deprecated and will be removed from pandas in a future version. Use pandas.concat instead.\n",
      "  room_df = room_df.append(row, ignore_index=True)\n",
      "/Users/abhilash/opt/anaconda3/lib/python3.9/site-packages/sklearn/base.py:450: UserWarning: X does not have valid feature names, but StandardScaler was fitted with feature names\n",
      "  warnings.warn(\n",
      "/var/folders/g_/mmqgkbcx0qn0r2j_wxv7rf2m0000gn/T/ipykernel_50021/4215304269.py:40: FutureWarning: The frame.append method is deprecated and will be removed from pandas in a future version. Use pandas.concat instead.\n",
      "  room_df = room_df.append(row, ignore_index=True)\n",
      "/Users/abhilash/opt/anaconda3/lib/python3.9/site-packages/sklearn/base.py:450: UserWarning: X does not have valid feature names, but StandardScaler was fitted with feature names\n",
      "  warnings.warn(\n"
     ]
    },
    {
     "name": "stdout",
     "output_type": "stream",
     "text": [
      "1/1 [==============================] - 0s 28ms/step\n",
      "1/1 [==============================] - 0s 27ms/step\n",
      "1/1 [==============================] - 0s 26ms/step\n"
     ]
    },
    {
     "name": "stderr",
     "output_type": "stream",
     "text": [
      "/var/folders/g_/mmqgkbcx0qn0r2j_wxv7rf2m0000gn/T/ipykernel_50021/4215304269.py:40: FutureWarning: The frame.append method is deprecated and will be removed from pandas in a future version. Use pandas.concat instead.\n",
      "  room_df = room_df.append(row, ignore_index=True)\n",
      "/Users/abhilash/opt/anaconda3/lib/python3.9/site-packages/sklearn/base.py:450: UserWarning: X does not have valid feature names, but StandardScaler was fitted with feature names\n",
      "  warnings.warn(\n",
      "/var/folders/g_/mmqgkbcx0qn0r2j_wxv7rf2m0000gn/T/ipykernel_50021/4215304269.py:40: FutureWarning: The frame.append method is deprecated and will be removed from pandas in a future version. Use pandas.concat instead.\n",
      "  room_df = room_df.append(row, ignore_index=True)\n",
      "/Users/abhilash/opt/anaconda3/lib/python3.9/site-packages/sklearn/base.py:450: UserWarning: X does not have valid feature names, but StandardScaler was fitted with feature names\n",
      "  warnings.warn(\n",
      "/var/folders/g_/mmqgkbcx0qn0r2j_wxv7rf2m0000gn/T/ipykernel_50021/4215304269.py:40: FutureWarning: The frame.append method is deprecated and will be removed from pandas in a future version. Use pandas.concat instead.\n",
      "  room_df = room_df.append(row, ignore_index=True)\n",
      "/Users/abhilash/opt/anaconda3/lib/python3.9/site-packages/sklearn/base.py:450: UserWarning: X does not have valid feature names, but StandardScaler was fitted with feature names\n",
      "  warnings.warn(\n"
     ]
    },
    {
     "name": "stdout",
     "output_type": "stream",
     "text": [
      "1/1 [==============================] - 0s 25ms/step\n",
      "1/1 [==============================] - 0s 25ms/step\n",
      "1/1 [==============================] - 0s 27ms/step\n"
     ]
    },
    {
     "name": "stderr",
     "output_type": "stream",
     "text": [
      "/var/folders/g_/mmqgkbcx0qn0r2j_wxv7rf2m0000gn/T/ipykernel_50021/4215304269.py:40: FutureWarning: The frame.append method is deprecated and will be removed from pandas in a future version. Use pandas.concat instead.\n",
      "  room_df = room_df.append(row, ignore_index=True)\n",
      "/Users/abhilash/opt/anaconda3/lib/python3.9/site-packages/sklearn/base.py:450: UserWarning: X does not have valid feature names, but StandardScaler was fitted with feature names\n",
      "  warnings.warn(\n",
      "/var/folders/g_/mmqgkbcx0qn0r2j_wxv7rf2m0000gn/T/ipykernel_50021/4215304269.py:40: FutureWarning: The frame.append method is deprecated and will be removed from pandas in a future version. Use pandas.concat instead.\n",
      "  room_df = room_df.append(row, ignore_index=True)\n",
      "/Users/abhilash/opt/anaconda3/lib/python3.9/site-packages/sklearn/base.py:450: UserWarning: X does not have valid feature names, but StandardScaler was fitted with feature names\n",
      "  warnings.warn(\n",
      "/var/folders/g_/mmqgkbcx0qn0r2j_wxv7rf2m0000gn/T/ipykernel_50021/4215304269.py:40: FutureWarning: The frame.append method is deprecated and will be removed from pandas in a future version. Use pandas.concat instead.\n",
      "  room_df = room_df.append(row, ignore_index=True)\n",
      "/Users/abhilash/opt/anaconda3/lib/python3.9/site-packages/sklearn/base.py:450: UserWarning: X does not have valid feature names, but StandardScaler was fitted with feature names\n",
      "  warnings.warn(\n"
     ]
    },
    {
     "name": "stdout",
     "output_type": "stream",
     "text": [
      "1/1 [==============================] - 0s 29ms/step\n",
      "1/1 [==============================] - 0s 28ms/step\n",
      "1/1 [==============================] - 0s 25ms/step\n"
     ]
    },
    {
     "name": "stderr",
     "output_type": "stream",
     "text": [
      "/var/folders/g_/mmqgkbcx0qn0r2j_wxv7rf2m0000gn/T/ipykernel_50021/4215304269.py:40: FutureWarning: The frame.append method is deprecated and will be removed from pandas in a future version. Use pandas.concat instead.\n",
      "  room_df = room_df.append(row, ignore_index=True)\n",
      "/Users/abhilash/opt/anaconda3/lib/python3.9/site-packages/sklearn/base.py:450: UserWarning: X does not have valid feature names, but StandardScaler was fitted with feature names\n",
      "  warnings.warn(\n",
      "/var/folders/g_/mmqgkbcx0qn0r2j_wxv7rf2m0000gn/T/ipykernel_50021/4215304269.py:40: FutureWarning: The frame.append method is deprecated and will be removed from pandas in a future version. Use pandas.concat instead.\n",
      "  room_df = room_df.append(row, ignore_index=True)\n",
      "/Users/abhilash/opt/anaconda3/lib/python3.9/site-packages/sklearn/base.py:450: UserWarning: X does not have valid feature names, but StandardScaler was fitted with feature names\n",
      "  warnings.warn(\n",
      "/var/folders/g_/mmqgkbcx0qn0r2j_wxv7rf2m0000gn/T/ipykernel_50021/4215304269.py:40: FutureWarning: The frame.append method is deprecated and will be removed from pandas in a future version. Use pandas.concat instead.\n",
      "  room_df = room_df.append(row, ignore_index=True)\n",
      "/Users/abhilash/opt/anaconda3/lib/python3.9/site-packages/sklearn/base.py:450: UserWarning: X does not have valid feature names, but StandardScaler was fitted with feature names\n",
      "  warnings.warn(\n"
     ]
    },
    {
     "name": "stdout",
     "output_type": "stream",
     "text": [
      "1/1 [==============================] - 0s 25ms/step\n",
      "1/1 [==============================] - 0s 26ms/step\n",
      "1/1 [==============================] - 0s 26ms/step\n"
     ]
    },
    {
     "name": "stderr",
     "output_type": "stream",
     "text": [
      "/var/folders/g_/mmqgkbcx0qn0r2j_wxv7rf2m0000gn/T/ipykernel_50021/4215304269.py:40: FutureWarning: The frame.append method is deprecated and will be removed from pandas in a future version. Use pandas.concat instead.\n",
      "  room_df = room_df.append(row, ignore_index=True)\n",
      "/Users/abhilash/opt/anaconda3/lib/python3.9/site-packages/sklearn/base.py:450: UserWarning: X does not have valid feature names, but StandardScaler was fitted with feature names\n",
      "  warnings.warn(\n",
      "/var/folders/g_/mmqgkbcx0qn0r2j_wxv7rf2m0000gn/T/ipykernel_50021/4215304269.py:40: FutureWarning: The frame.append method is deprecated and will be removed from pandas in a future version. Use pandas.concat instead.\n",
      "  room_df = room_df.append(row, ignore_index=True)\n",
      "/Users/abhilash/opt/anaconda3/lib/python3.9/site-packages/sklearn/base.py:450: UserWarning: X does not have valid feature names, but StandardScaler was fitted with feature names\n",
      "  warnings.warn(\n",
      "/var/folders/g_/mmqgkbcx0qn0r2j_wxv7rf2m0000gn/T/ipykernel_50021/4215304269.py:40: FutureWarning: The frame.append method is deprecated and will be removed from pandas in a future version. Use pandas.concat instead.\n",
      "  room_df = room_df.append(row, ignore_index=True)\n",
      "/Users/abhilash/opt/anaconda3/lib/python3.9/site-packages/sklearn/base.py:450: UserWarning: X does not have valid feature names, but StandardScaler was fitted with feature names\n",
      "  warnings.warn(\n"
     ]
    },
    {
     "name": "stdout",
     "output_type": "stream",
     "text": [
      "1/1 [==============================] - 0s 27ms/step\n",
      "1/1 [==============================] - 0s 22ms/step\n",
      "1/1 [==============================] - 0s 21ms/step\n",
      "1/1 [==============================] - 0s 21ms/step\n"
     ]
    },
    {
     "name": "stderr",
     "output_type": "stream",
     "text": [
      "/var/folders/g_/mmqgkbcx0qn0r2j_wxv7rf2m0000gn/T/ipykernel_50021/4215304269.py:40: FutureWarning: The frame.append method is deprecated and will be removed from pandas in a future version. Use pandas.concat instead.\n",
      "  room_df = room_df.append(row, ignore_index=True)\n",
      "/Users/abhilash/opt/anaconda3/lib/python3.9/site-packages/sklearn/base.py:450: UserWarning: X does not have valid feature names, but StandardScaler was fitted with feature names\n",
      "  warnings.warn(\n",
      "/var/folders/g_/mmqgkbcx0qn0r2j_wxv7rf2m0000gn/T/ipykernel_50021/4215304269.py:40: FutureWarning: The frame.append method is deprecated and will be removed from pandas in a future version. Use pandas.concat instead.\n",
      "  room_df = room_df.append(row, ignore_index=True)\n",
      "/Users/abhilash/opt/anaconda3/lib/python3.9/site-packages/sklearn/base.py:450: UserWarning: X does not have valid feature names, but StandardScaler was fitted with feature names\n",
      "  warnings.warn(\n",
      "/var/folders/g_/mmqgkbcx0qn0r2j_wxv7rf2m0000gn/T/ipykernel_50021/4215304269.py:40: FutureWarning: The frame.append method is deprecated and will be removed from pandas in a future version. Use pandas.concat instead.\n",
      "  room_df = room_df.append(row, ignore_index=True)\n",
      "/Users/abhilash/opt/anaconda3/lib/python3.9/site-packages/sklearn/base.py:450: UserWarning: X does not have valid feature names, but StandardScaler was fitted with feature names\n",
      "  warnings.warn(\n"
     ]
    },
    {
     "name": "stdout",
     "output_type": "stream",
     "text": [
      "1/1 [==============================] - 0s 22ms/step\n",
      "1/1 [==============================] - 0s 22ms/step\n",
      "1/1 [==============================] - 0s 22ms/step\n"
     ]
    },
    {
     "name": "stderr",
     "output_type": "stream",
     "text": [
      "/var/folders/g_/mmqgkbcx0qn0r2j_wxv7rf2m0000gn/T/ipykernel_50021/4215304269.py:40: FutureWarning: The frame.append method is deprecated and will be removed from pandas in a future version. Use pandas.concat instead.\n",
      "  room_df = room_df.append(row, ignore_index=True)\n",
      "/Users/abhilash/opt/anaconda3/lib/python3.9/site-packages/sklearn/base.py:450: UserWarning: X does not have valid feature names, but StandardScaler was fitted with feature names\n",
      "  warnings.warn(\n",
      "/var/folders/g_/mmqgkbcx0qn0r2j_wxv7rf2m0000gn/T/ipykernel_50021/4215304269.py:40: FutureWarning: The frame.append method is deprecated and will be removed from pandas in a future version. Use pandas.concat instead.\n",
      "  room_df = room_df.append(row, ignore_index=True)\n",
      "/Users/abhilash/opt/anaconda3/lib/python3.9/site-packages/sklearn/base.py:450: UserWarning: X does not have valid feature names, but StandardScaler was fitted with feature names\n",
      "  warnings.warn(\n",
      "/var/folders/g_/mmqgkbcx0qn0r2j_wxv7rf2m0000gn/T/ipykernel_50021/4215304269.py:40: FutureWarning: The frame.append method is deprecated and will be removed from pandas in a future version. Use pandas.concat instead.\n",
      "  room_df = room_df.append(row, ignore_index=True)\n",
      "/Users/abhilash/opt/anaconda3/lib/python3.9/site-packages/sklearn/base.py:450: UserWarning: X does not have valid feature names, but StandardScaler was fitted with feature names\n",
      "  warnings.warn(\n",
      "/var/folders/g_/mmqgkbcx0qn0r2j_wxv7rf2m0000gn/T/ipykernel_50021/4215304269.py:40: FutureWarning: The frame.append method is deprecated and will be removed from pandas in a future version. Use pandas.concat instead.\n",
      "  room_df = room_df.append(row, ignore_index=True)\n",
      "/Users/abhilash/opt/anaconda3/lib/python3.9/site-packages/sklearn/base.py:450: UserWarning: X does not have valid feature names, but StandardScaler was fitted with feature names\n",
      "  warnings.warn(\n"
     ]
    },
    {
     "name": "stdout",
     "output_type": "stream",
     "text": [
      "1/1 [==============================] - 0s 23ms/step\n",
      "1/1 [==============================] - 0s 22ms/step\n",
      "1/1 [==============================] - 0s 21ms/step\n",
      "1/1 [==============================] - 0s 21ms/step\n"
     ]
    },
    {
     "name": "stderr",
     "output_type": "stream",
     "text": [
      "/var/folders/g_/mmqgkbcx0qn0r2j_wxv7rf2m0000gn/T/ipykernel_50021/4215304269.py:40: FutureWarning: The frame.append method is deprecated and will be removed from pandas in a future version. Use pandas.concat instead.\n",
      "  room_df = room_df.append(row, ignore_index=True)\n",
      "/Users/abhilash/opt/anaconda3/lib/python3.9/site-packages/sklearn/base.py:450: UserWarning: X does not have valid feature names, but StandardScaler was fitted with feature names\n",
      "  warnings.warn(\n",
      "/var/folders/g_/mmqgkbcx0qn0r2j_wxv7rf2m0000gn/T/ipykernel_50021/4215304269.py:40: FutureWarning: The frame.append method is deprecated and will be removed from pandas in a future version. Use pandas.concat instead.\n",
      "  room_df = room_df.append(row, ignore_index=True)\n",
      "/Users/abhilash/opt/anaconda3/lib/python3.9/site-packages/sklearn/base.py:450: UserWarning: X does not have valid feature names, but StandardScaler was fitted with feature names\n",
      "  warnings.warn(\n",
      "/var/folders/g_/mmqgkbcx0qn0r2j_wxv7rf2m0000gn/T/ipykernel_50021/4215304269.py:40: FutureWarning: The frame.append method is deprecated and will be removed from pandas in a future version. Use pandas.concat instead.\n",
      "  room_df = room_df.append(row, ignore_index=True)\n",
      "/Users/abhilash/opt/anaconda3/lib/python3.9/site-packages/sklearn/base.py:450: UserWarning: X does not have valid feature names, but StandardScaler was fitted with feature names\n",
      "  warnings.warn(\n",
      "/var/folders/g_/mmqgkbcx0qn0r2j_wxv7rf2m0000gn/T/ipykernel_50021/4215304269.py:40: FutureWarning: The frame.append method is deprecated and will be removed from pandas in a future version. Use pandas.concat instead.\n",
      "  room_df = room_df.append(row, ignore_index=True)\n"
     ]
    },
    {
     "name": "stdout",
     "output_type": "stream",
     "text": [
      "1/1 [==============================] - 0s 22ms/step\n",
      "1/1 [==============================] - 0s 21ms/step\n",
      "1/1 [==============================] - 0s 21ms/step\n"
     ]
    },
    {
     "name": "stderr",
     "output_type": "stream",
     "text": [
      "/Users/abhilash/opt/anaconda3/lib/python3.9/site-packages/sklearn/base.py:450: UserWarning: X does not have valid feature names, but StandardScaler was fitted with feature names\n",
      "  warnings.warn(\n",
      "/var/folders/g_/mmqgkbcx0qn0r2j_wxv7rf2m0000gn/T/ipykernel_50021/4215304269.py:40: FutureWarning: The frame.append method is deprecated and will be removed from pandas in a future version. Use pandas.concat instead.\n",
      "  room_df = room_df.append(row, ignore_index=True)\n",
      "/Users/abhilash/opt/anaconda3/lib/python3.9/site-packages/sklearn/base.py:450: UserWarning: X does not have valid feature names, but StandardScaler was fitted with feature names\n",
      "  warnings.warn(\n",
      "/var/folders/g_/mmqgkbcx0qn0r2j_wxv7rf2m0000gn/T/ipykernel_50021/4215304269.py:40: FutureWarning: The frame.append method is deprecated and will be removed from pandas in a future version. Use pandas.concat instead.\n",
      "  room_df = room_df.append(row, ignore_index=True)\n",
      "/Users/abhilash/opt/anaconda3/lib/python3.9/site-packages/sklearn/base.py:450: UserWarning: X does not have valid feature names, but StandardScaler was fitted with feature names\n",
      "  warnings.warn(\n",
      "/var/folders/g_/mmqgkbcx0qn0r2j_wxv7rf2m0000gn/T/ipykernel_50021/4215304269.py:40: FutureWarning: The frame.append method is deprecated and will be removed from pandas in a future version. Use pandas.concat instead.\n",
      "  room_df = room_df.append(row, ignore_index=True)\n",
      "/Users/abhilash/opt/anaconda3/lib/python3.9/site-packages/sklearn/base.py:450: UserWarning: X does not have valid feature names, but StandardScaler was fitted with feature names\n",
      "  warnings.warn(\n"
     ]
    },
    {
     "name": "stdout",
     "output_type": "stream",
     "text": [
      "1/1 [==============================] - 0s 22ms/step\n",
      "1/1 [==============================] - 0s 22ms/step\n",
      "1/1 [==============================] - 0s 22ms/step\n",
      "1/1 [==============================] - 0s 22ms/step\n"
     ]
    },
    {
     "name": "stderr",
     "output_type": "stream",
     "text": [
      "/var/folders/g_/mmqgkbcx0qn0r2j_wxv7rf2m0000gn/T/ipykernel_50021/4215304269.py:40: FutureWarning: The frame.append method is deprecated and will be removed from pandas in a future version. Use pandas.concat instead.\n",
      "  room_df = room_df.append(row, ignore_index=True)\n",
      "/Users/abhilash/opt/anaconda3/lib/python3.9/site-packages/sklearn/base.py:450: UserWarning: X does not have valid feature names, but StandardScaler was fitted with feature names\n",
      "  warnings.warn(\n",
      "/var/folders/g_/mmqgkbcx0qn0r2j_wxv7rf2m0000gn/T/ipykernel_50021/4215304269.py:40: FutureWarning: The frame.append method is deprecated and will be removed from pandas in a future version. Use pandas.concat instead.\n",
      "  room_df = room_df.append(row, ignore_index=True)\n",
      "/Users/abhilash/opt/anaconda3/lib/python3.9/site-packages/sklearn/base.py:450: UserWarning: X does not have valid feature names, but StandardScaler was fitted with feature names\n",
      "  warnings.warn(\n",
      "/var/folders/g_/mmqgkbcx0qn0r2j_wxv7rf2m0000gn/T/ipykernel_50021/4215304269.py:40: FutureWarning: The frame.append method is deprecated and will be removed from pandas in a future version. Use pandas.concat instead.\n",
      "  room_df = room_df.append(row, ignore_index=True)\n",
      "/Users/abhilash/opt/anaconda3/lib/python3.9/site-packages/sklearn/base.py:450: UserWarning: X does not have valid feature names, but StandardScaler was fitted with feature names\n",
      "  warnings.warn(\n",
      "/var/folders/g_/mmqgkbcx0qn0r2j_wxv7rf2m0000gn/T/ipykernel_50021/4215304269.py:40: FutureWarning: The frame.append method is deprecated and will be removed from pandas in a future version. Use pandas.concat instead.\n",
      "  room_df = room_df.append(row, ignore_index=True)\n",
      "/Users/abhilash/opt/anaconda3/lib/python3.9/site-packages/sklearn/base.py:450: UserWarning: X does not have valid feature names, but StandardScaler was fitted with feature names\n",
      "  warnings.warn(\n"
     ]
    },
    {
     "name": "stdout",
     "output_type": "stream",
     "text": [
      "1/1 [==============================] - 0s 23ms/step\n",
      "1/1 [==============================] - 0s 22ms/step\n",
      "1/1 [==============================] - 0s 21ms/step\n",
      "1/1 [==============================] - 0s 21ms/step\n"
     ]
    },
    {
     "name": "stderr",
     "output_type": "stream",
     "text": [
      "/var/folders/g_/mmqgkbcx0qn0r2j_wxv7rf2m0000gn/T/ipykernel_50021/4215304269.py:40: FutureWarning: The frame.append method is deprecated and will be removed from pandas in a future version. Use pandas.concat instead.\n",
      "  room_df = room_df.append(row, ignore_index=True)\n",
      "/Users/abhilash/opt/anaconda3/lib/python3.9/site-packages/sklearn/base.py:450: UserWarning: X does not have valid feature names, but StandardScaler was fitted with feature names\n",
      "  warnings.warn(\n",
      "/var/folders/g_/mmqgkbcx0qn0r2j_wxv7rf2m0000gn/T/ipykernel_50021/4215304269.py:40: FutureWarning: The frame.append method is deprecated and will be removed from pandas in a future version. Use pandas.concat instead.\n",
      "  room_df = room_df.append(row, ignore_index=True)\n",
      "/Users/abhilash/opt/anaconda3/lib/python3.9/site-packages/sklearn/base.py:450: UserWarning: X does not have valid feature names, but StandardScaler was fitted with feature names\n",
      "  warnings.warn(\n",
      "/var/folders/g_/mmqgkbcx0qn0r2j_wxv7rf2m0000gn/T/ipykernel_50021/4215304269.py:40: FutureWarning: The frame.append method is deprecated and will be removed from pandas in a future version. Use pandas.concat instead.\n",
      "  room_df = room_df.append(row, ignore_index=True)\n",
      "/Users/abhilash/opt/anaconda3/lib/python3.9/site-packages/sklearn/base.py:450: UserWarning: X does not have valid feature names, but StandardScaler was fitted with feature names\n",
      "  warnings.warn(\n",
      "/var/folders/g_/mmqgkbcx0qn0r2j_wxv7rf2m0000gn/T/ipykernel_50021/4215304269.py:40: FutureWarning: The frame.append method is deprecated and will be removed from pandas in a future version. Use pandas.concat instead.\n",
      "  room_df = room_df.append(row, ignore_index=True)\n",
      "/Users/abhilash/opt/anaconda3/lib/python3.9/site-packages/sklearn/base.py:450: UserWarning: X does not have valid feature names, but StandardScaler was fitted with feature names\n",
      "  warnings.warn(\n"
     ]
    },
    {
     "name": "stdout",
     "output_type": "stream",
     "text": [
      "1/1 [==============================] - 0s 24ms/step\n",
      "1/1 [==============================] - 0s 21ms/step\n",
      "1/1 [==============================] - 0s 21ms/step\n"
     ]
    },
    {
     "name": "stderr",
     "output_type": "stream",
     "text": [
      "/var/folders/g_/mmqgkbcx0qn0r2j_wxv7rf2m0000gn/T/ipykernel_50021/4215304269.py:40: FutureWarning: The frame.append method is deprecated and will be removed from pandas in a future version. Use pandas.concat instead.\n",
      "  room_df = room_df.append(row, ignore_index=True)\n",
      "/Users/abhilash/opt/anaconda3/lib/python3.9/site-packages/sklearn/base.py:450: UserWarning: X does not have valid feature names, but StandardScaler was fitted with feature names\n",
      "  warnings.warn(\n",
      "/var/folders/g_/mmqgkbcx0qn0r2j_wxv7rf2m0000gn/T/ipykernel_50021/4215304269.py:40: FutureWarning: The frame.append method is deprecated and will be removed from pandas in a future version. Use pandas.concat instead.\n",
      "  room_df = room_df.append(row, ignore_index=True)\n",
      "/Users/abhilash/opt/anaconda3/lib/python3.9/site-packages/sklearn/base.py:450: UserWarning: X does not have valid feature names, but StandardScaler was fitted with feature names\n",
      "  warnings.warn(\n",
      "/var/folders/g_/mmqgkbcx0qn0r2j_wxv7rf2m0000gn/T/ipykernel_50021/4215304269.py:40: FutureWarning: The frame.append method is deprecated and will be removed from pandas in a future version. Use pandas.concat instead.\n",
      "  room_df = room_df.append(row, ignore_index=True)\n",
      "/Users/abhilash/opt/anaconda3/lib/python3.9/site-packages/sklearn/base.py:450: UserWarning: X does not have valid feature names, but StandardScaler was fitted with feature names\n",
      "  warnings.warn(\n"
     ]
    },
    {
     "name": "stdout",
     "output_type": "stream",
     "text": [
      "1/1 [==============================] - 0s 23ms/step\n",
      "1/1 [==============================] - 0s 21ms/step\n",
      "1/1 [==============================] - 0s 20ms/step\n",
      "1/1 [==============================] - 0s 21ms/step\n"
     ]
    },
    {
     "name": "stderr",
     "output_type": "stream",
     "text": [
      "/var/folders/g_/mmqgkbcx0qn0r2j_wxv7rf2m0000gn/T/ipykernel_50021/4215304269.py:40: FutureWarning: The frame.append method is deprecated and will be removed from pandas in a future version. Use pandas.concat instead.\n",
      "  room_df = room_df.append(row, ignore_index=True)\n",
      "/Users/abhilash/opt/anaconda3/lib/python3.9/site-packages/sklearn/base.py:450: UserWarning: X does not have valid feature names, but StandardScaler was fitted with feature names\n",
      "  warnings.warn(\n",
      "/var/folders/g_/mmqgkbcx0qn0r2j_wxv7rf2m0000gn/T/ipykernel_50021/4215304269.py:40: FutureWarning: The frame.append method is deprecated and will be removed from pandas in a future version. Use pandas.concat instead.\n",
      "  room_df = room_df.append(row, ignore_index=True)\n",
      "/Users/abhilash/opt/anaconda3/lib/python3.9/site-packages/sklearn/base.py:450: UserWarning: X does not have valid feature names, but StandardScaler was fitted with feature names\n",
      "  warnings.warn(\n",
      "/var/folders/g_/mmqgkbcx0qn0r2j_wxv7rf2m0000gn/T/ipykernel_50021/4215304269.py:40: FutureWarning: The frame.append method is deprecated and will be removed from pandas in a future version. Use pandas.concat instead.\n",
      "  room_df = room_df.append(row, ignore_index=True)\n",
      "/Users/abhilash/opt/anaconda3/lib/python3.9/site-packages/sklearn/base.py:450: UserWarning: X does not have valid feature names, but StandardScaler was fitted with feature names\n",
      "  warnings.warn(\n",
      "/var/folders/g_/mmqgkbcx0qn0r2j_wxv7rf2m0000gn/T/ipykernel_50021/4215304269.py:40: FutureWarning: The frame.append method is deprecated and will be removed from pandas in a future version. Use pandas.concat instead.\n",
      "  room_df = room_df.append(row, ignore_index=True)\n",
      "/Users/abhilash/opt/anaconda3/lib/python3.9/site-packages/sklearn/base.py:450: UserWarning: X does not have valid feature names, but StandardScaler was fitted with feature names\n",
      "  warnings.warn(\n"
     ]
    },
    {
     "name": "stdout",
     "output_type": "stream",
     "text": [
      "1/1 [==============================] - 0s 21ms/step\n",
      "1/1 [==============================] - 0s 20ms/step\n",
      "1/1 [==============================] - 0s 21ms/step\n",
      "1/1 [==============================] - 0s 21ms/step\n"
     ]
    },
    {
     "name": "stderr",
     "output_type": "stream",
     "text": [
      "/var/folders/g_/mmqgkbcx0qn0r2j_wxv7rf2m0000gn/T/ipykernel_50021/4215304269.py:40: FutureWarning: The frame.append method is deprecated and will be removed from pandas in a future version. Use pandas.concat instead.\n",
      "  room_df = room_df.append(row, ignore_index=True)\n",
      "/Users/abhilash/opt/anaconda3/lib/python3.9/site-packages/sklearn/base.py:450: UserWarning: X does not have valid feature names, but StandardScaler was fitted with feature names\n",
      "  warnings.warn(\n",
      "/var/folders/g_/mmqgkbcx0qn0r2j_wxv7rf2m0000gn/T/ipykernel_50021/4215304269.py:40: FutureWarning: The frame.append method is deprecated and will be removed from pandas in a future version. Use pandas.concat instead.\n",
      "  room_df = room_df.append(row, ignore_index=True)\n",
      "/Users/abhilash/opt/anaconda3/lib/python3.9/site-packages/sklearn/base.py:450: UserWarning: X does not have valid feature names, but StandardScaler was fitted with feature names\n",
      "  warnings.warn(\n",
      "/var/folders/g_/mmqgkbcx0qn0r2j_wxv7rf2m0000gn/T/ipykernel_50021/4215304269.py:40: FutureWarning: The frame.append method is deprecated and will be removed from pandas in a future version. Use pandas.concat instead.\n",
      "  room_df = room_df.append(row, ignore_index=True)\n",
      "/Users/abhilash/opt/anaconda3/lib/python3.9/site-packages/sklearn/base.py:450: UserWarning: X does not have valid feature names, but StandardScaler was fitted with feature names\n",
      "  warnings.warn(\n"
     ]
    },
    {
     "name": "stdout",
     "output_type": "stream",
     "text": [
      "1/1 [==============================] - 0s 21ms/step\n",
      "1/1 [==============================] - 0s 23ms/step\n"
     ]
    },
    {
     "name": "stderr",
     "output_type": "stream",
     "text": [
      "/var/folders/g_/mmqgkbcx0qn0r2j_wxv7rf2m0000gn/T/ipykernel_50021/4215304269.py:40: FutureWarning: The frame.append method is deprecated and will be removed from pandas in a future version. Use pandas.concat instead.\n",
      "  room_df = room_df.append(row, ignore_index=True)\n",
      "/Users/abhilash/opt/anaconda3/lib/python3.9/site-packages/sklearn/base.py:450: UserWarning: X does not have valid feature names, but StandardScaler was fitted with feature names\n",
      "  warnings.warn(\n",
      "/var/folders/g_/mmqgkbcx0qn0r2j_wxv7rf2m0000gn/T/ipykernel_50021/4215304269.py:40: FutureWarning: The frame.append method is deprecated and will be removed from pandas in a future version. Use pandas.concat instead.\n",
      "  room_df = room_df.append(row, ignore_index=True)\n",
      "/Users/abhilash/opt/anaconda3/lib/python3.9/site-packages/sklearn/base.py:450: UserWarning: X does not have valid feature names, but StandardScaler was fitted with feature names\n",
      "  warnings.warn(\n",
      "/var/folders/g_/mmqgkbcx0qn0r2j_wxv7rf2m0000gn/T/ipykernel_50021/4215304269.py:40: FutureWarning: The frame.append method is deprecated and will be removed from pandas in a future version. Use pandas.concat instead.\n",
      "  room_df = room_df.append(row, ignore_index=True)\n",
      "/Users/abhilash/opt/anaconda3/lib/python3.9/site-packages/sklearn/base.py:450: UserWarning: X does not have valid feature names, but StandardScaler was fitted with feature names\n",
      "  warnings.warn(\n"
     ]
    },
    {
     "name": "stdout",
     "output_type": "stream",
     "text": [
      "1/1 [==============================] - 0s 22ms/step\n",
      "1/1 [==============================] - 0s 22ms/step\n",
      "1/1 [==============================] - 0s 21ms/step\n",
      "1/1 [==============================] - 0s 21ms/step\n"
     ]
    },
    {
     "name": "stderr",
     "output_type": "stream",
     "text": [
      "/var/folders/g_/mmqgkbcx0qn0r2j_wxv7rf2m0000gn/T/ipykernel_50021/4215304269.py:40: FutureWarning: The frame.append method is deprecated and will be removed from pandas in a future version. Use pandas.concat instead.\n",
      "  room_df = room_df.append(row, ignore_index=True)\n",
      "/Users/abhilash/opt/anaconda3/lib/python3.9/site-packages/sklearn/base.py:450: UserWarning: X does not have valid feature names, but StandardScaler was fitted with feature names\n",
      "  warnings.warn(\n",
      "/var/folders/g_/mmqgkbcx0qn0r2j_wxv7rf2m0000gn/T/ipykernel_50021/4215304269.py:40: FutureWarning: The frame.append method is deprecated and will be removed from pandas in a future version. Use pandas.concat instead.\n",
      "  room_df = room_df.append(row, ignore_index=True)\n",
      "/Users/abhilash/opt/anaconda3/lib/python3.9/site-packages/sklearn/base.py:450: UserWarning: X does not have valid feature names, but StandardScaler was fitted with feature names\n",
      "  warnings.warn(\n",
      "/var/folders/g_/mmqgkbcx0qn0r2j_wxv7rf2m0000gn/T/ipykernel_50021/4215304269.py:40: FutureWarning: The frame.append method is deprecated and will be removed from pandas in a future version. Use pandas.concat instead.\n",
      "  room_df = room_df.append(row, ignore_index=True)\n",
      "/Users/abhilash/opt/anaconda3/lib/python3.9/site-packages/sklearn/base.py:450: UserWarning: X does not have valid feature names, but StandardScaler was fitted with feature names\n",
      "  warnings.warn(\n",
      "/var/folders/g_/mmqgkbcx0qn0r2j_wxv7rf2m0000gn/T/ipykernel_50021/4215304269.py:40: FutureWarning: The frame.append method is deprecated and will be removed from pandas in a future version. Use pandas.concat instead.\n",
      "  room_df = room_df.append(row, ignore_index=True)\n",
      "/Users/abhilash/opt/anaconda3/lib/python3.9/site-packages/sklearn/base.py:450: UserWarning: X does not have valid feature names, but StandardScaler was fitted with feature names\n",
      "  warnings.warn(\n"
     ]
    },
    {
     "name": "stdout",
     "output_type": "stream",
     "text": [
      "1/1 [==============================] - 0s 22ms/step\n",
      "1/1 [==============================] - 0s 21ms/step\n",
      "1/1 [==============================] - 0s 21ms/step\n",
      "1/1 [==============================] - 0s 21ms/step\n"
     ]
    },
    {
     "name": "stderr",
     "output_type": "stream",
     "text": [
      "/var/folders/g_/mmqgkbcx0qn0r2j_wxv7rf2m0000gn/T/ipykernel_50021/4215304269.py:40: FutureWarning: The frame.append method is deprecated and will be removed from pandas in a future version. Use pandas.concat instead.\n",
      "  room_df = room_df.append(row, ignore_index=True)\n",
      "/Users/abhilash/opt/anaconda3/lib/python3.9/site-packages/sklearn/base.py:450: UserWarning: X does not have valid feature names, but StandardScaler was fitted with feature names\n",
      "  warnings.warn(\n",
      "/var/folders/g_/mmqgkbcx0qn0r2j_wxv7rf2m0000gn/T/ipykernel_50021/4215304269.py:40: FutureWarning: The frame.append method is deprecated and will be removed from pandas in a future version. Use pandas.concat instead.\n",
      "  room_df = room_df.append(row, ignore_index=True)\n",
      "/var/folders/g_/mmqgkbcx0qn0r2j_wxv7rf2m0000gn/T/ipykernel_50021/4215304269.py:43: FutureWarning: The frame.append method is deprecated and will be removed from pandas in a future version. Use pandas.concat instead.\n",
      "  pred_df = pred_df.append(room_df, ignore_index=True)\n",
      "/Users/abhilash/opt/anaconda3/lib/python3.9/site-packages/sklearn/base.py:450: UserWarning: X does not have valid feature names, but StandardScaler was fitted with feature names\n",
      "  warnings.warn(\n",
      "/var/folders/g_/mmqgkbcx0qn0r2j_wxv7rf2m0000gn/T/ipykernel_50021/4215304269.py:40: FutureWarning: The frame.append method is deprecated and will be removed from pandas in a future version. Use pandas.concat instead.\n",
      "  room_df = room_df.append(row, ignore_index=True)\n",
      "/Users/abhilash/opt/anaconda3/lib/python3.9/site-packages/sklearn/base.py:450: UserWarning: X does not have valid feature names, but StandardScaler was fitted with feature names\n",
      "  warnings.warn(\n",
      "/var/folders/g_/mmqgkbcx0qn0r2j_wxv7rf2m0000gn/T/ipykernel_50021/4215304269.py:40: FutureWarning: The frame.append method is deprecated and will be removed from pandas in a future version. Use pandas.concat instead.\n",
      "  room_df = room_df.append(row, ignore_index=True)\n",
      "/Users/abhilash/opt/anaconda3/lib/python3.9/site-packages/sklearn/base.py:450: UserWarning: X does not have valid feature names, but StandardScaler was fitted with feature names\n",
      "  warnings.warn(\n"
     ]
    },
    {
     "name": "stdout",
     "output_type": "stream",
     "text": [
      "1/1 [==============================] - 0s 21ms/step\n",
      "1/1 [==============================] - 0s 21ms/step\n",
      "1/1 [==============================] - 0s 20ms/step\n",
      "1/1 [==============================] - 0s 21ms/step\n"
     ]
    },
    {
     "name": "stderr",
     "output_type": "stream",
     "text": [
      "/var/folders/g_/mmqgkbcx0qn0r2j_wxv7rf2m0000gn/T/ipykernel_50021/4215304269.py:40: FutureWarning: The frame.append method is deprecated and will be removed from pandas in a future version. Use pandas.concat instead.\n",
      "  room_df = room_df.append(row, ignore_index=True)\n",
      "/Users/abhilash/opt/anaconda3/lib/python3.9/site-packages/sklearn/base.py:450: UserWarning: X does not have valid feature names, but StandardScaler was fitted with feature names\n",
      "  warnings.warn(\n",
      "/var/folders/g_/mmqgkbcx0qn0r2j_wxv7rf2m0000gn/T/ipykernel_50021/4215304269.py:40: FutureWarning: The frame.append method is deprecated and will be removed from pandas in a future version. Use pandas.concat instead.\n",
      "  room_df = room_df.append(row, ignore_index=True)\n",
      "/Users/abhilash/opt/anaconda3/lib/python3.9/site-packages/sklearn/base.py:450: UserWarning: X does not have valid feature names, but StandardScaler was fitted with feature names\n",
      "  warnings.warn(\n",
      "/var/folders/g_/mmqgkbcx0qn0r2j_wxv7rf2m0000gn/T/ipykernel_50021/4215304269.py:40: FutureWarning: The frame.append method is deprecated and will be removed from pandas in a future version. Use pandas.concat instead.\n",
      "  room_df = room_df.append(row, ignore_index=True)\n",
      "/Users/abhilash/opt/anaconda3/lib/python3.9/site-packages/sklearn/base.py:450: UserWarning: X does not have valid feature names, but StandardScaler was fitted with feature names\n",
      "  warnings.warn(\n",
      "/var/folders/g_/mmqgkbcx0qn0r2j_wxv7rf2m0000gn/T/ipykernel_50021/4215304269.py:40: FutureWarning: The frame.append method is deprecated and will be removed from pandas in a future version. Use pandas.concat instead.\n",
      "  room_df = room_df.append(row, ignore_index=True)\n",
      "/Users/abhilash/opt/anaconda3/lib/python3.9/site-packages/sklearn/base.py:450: UserWarning: X does not have valid feature names, but StandardScaler was fitted with feature names\n",
      "  warnings.warn(\n"
     ]
    },
    {
     "name": "stdout",
     "output_type": "stream",
     "text": [
      "1/1 [==============================] - 0s 21ms/step\n",
      "1/1 [==============================] - 0s 21ms/step\n",
      "1/1 [==============================] - 0s 20ms/step\n",
      "1/1 [==============================] - 0s 21ms/step\n"
     ]
    },
    {
     "name": "stderr",
     "output_type": "stream",
     "text": [
      "/var/folders/g_/mmqgkbcx0qn0r2j_wxv7rf2m0000gn/T/ipykernel_50021/4215304269.py:40: FutureWarning: The frame.append method is deprecated and will be removed from pandas in a future version. Use pandas.concat instead.\n",
      "  room_df = room_df.append(row, ignore_index=True)\n",
      "/Users/abhilash/opt/anaconda3/lib/python3.9/site-packages/sklearn/base.py:450: UserWarning: X does not have valid feature names, but StandardScaler was fitted with feature names\n",
      "  warnings.warn(\n",
      "/var/folders/g_/mmqgkbcx0qn0r2j_wxv7rf2m0000gn/T/ipykernel_50021/4215304269.py:40: FutureWarning: The frame.append method is deprecated and will be removed from pandas in a future version. Use pandas.concat instead.\n",
      "  room_df = room_df.append(row, ignore_index=True)\n",
      "/Users/abhilash/opt/anaconda3/lib/python3.9/site-packages/sklearn/base.py:450: UserWarning: X does not have valid feature names, but StandardScaler was fitted with feature names\n",
      "  warnings.warn(\n",
      "/var/folders/g_/mmqgkbcx0qn0r2j_wxv7rf2m0000gn/T/ipykernel_50021/4215304269.py:40: FutureWarning: The frame.append method is deprecated and will be removed from pandas in a future version. Use pandas.concat instead.\n",
      "  room_df = room_df.append(row, ignore_index=True)\n",
      "/Users/abhilash/opt/anaconda3/lib/python3.9/site-packages/sklearn/base.py:450: UserWarning: X does not have valid feature names, but StandardScaler was fitted with feature names\n",
      "  warnings.warn(\n",
      "/var/folders/g_/mmqgkbcx0qn0r2j_wxv7rf2m0000gn/T/ipykernel_50021/4215304269.py:40: FutureWarning: The frame.append method is deprecated and will be removed from pandas in a future version. Use pandas.concat instead.\n",
      "  room_df = room_df.append(row, ignore_index=True)\n",
      "/Users/abhilash/opt/anaconda3/lib/python3.9/site-packages/sklearn/base.py:450: UserWarning: X does not have valid feature names, but StandardScaler was fitted with feature names\n",
      "  warnings.warn(\n"
     ]
    },
    {
     "name": "stdout",
     "output_type": "stream",
     "text": [
      "1/1 [==============================] - 0s 22ms/step\n",
      "1/1 [==============================] - 0s 22ms/step\n",
      "1/1 [==============================] - 0s 21ms/step\n",
      "1/1 [==============================] - 0s 21ms/step\n"
     ]
    },
    {
     "name": "stderr",
     "output_type": "stream",
     "text": [
      "/var/folders/g_/mmqgkbcx0qn0r2j_wxv7rf2m0000gn/T/ipykernel_50021/4215304269.py:40: FutureWarning: The frame.append method is deprecated and will be removed from pandas in a future version. Use pandas.concat instead.\n",
      "  room_df = room_df.append(row, ignore_index=True)\n",
      "/Users/abhilash/opt/anaconda3/lib/python3.9/site-packages/sklearn/base.py:450: UserWarning: X does not have valid feature names, but StandardScaler was fitted with feature names\n",
      "  warnings.warn(\n",
      "/var/folders/g_/mmqgkbcx0qn0r2j_wxv7rf2m0000gn/T/ipykernel_50021/4215304269.py:40: FutureWarning: The frame.append method is deprecated and will be removed from pandas in a future version. Use pandas.concat instead.\n",
      "  room_df = room_df.append(row, ignore_index=True)\n",
      "/Users/abhilash/opt/anaconda3/lib/python3.9/site-packages/sklearn/base.py:450: UserWarning: X does not have valid feature names, but StandardScaler was fitted with feature names\n",
      "  warnings.warn(\n",
      "/var/folders/g_/mmqgkbcx0qn0r2j_wxv7rf2m0000gn/T/ipykernel_50021/4215304269.py:40: FutureWarning: The frame.append method is deprecated and will be removed from pandas in a future version. Use pandas.concat instead.\n",
      "  room_df = room_df.append(row, ignore_index=True)\n",
      "/Users/abhilash/opt/anaconda3/lib/python3.9/site-packages/sklearn/base.py:450: UserWarning: X does not have valid feature names, but StandardScaler was fitted with feature names\n",
      "  warnings.warn(\n",
      "/var/folders/g_/mmqgkbcx0qn0r2j_wxv7rf2m0000gn/T/ipykernel_50021/4215304269.py:40: FutureWarning: The frame.append method is deprecated and will be removed from pandas in a future version. Use pandas.concat instead.\n",
      "  room_df = room_df.append(row, ignore_index=True)\n",
      "/Users/abhilash/opt/anaconda3/lib/python3.9/site-packages/sklearn/base.py:450: UserWarning: X does not have valid feature names, but StandardScaler was fitted with feature names\n",
      "  warnings.warn(\n"
     ]
    },
    {
     "name": "stdout",
     "output_type": "stream",
     "text": [
      "1/1 [==============================] - 0s 21ms/step\n",
      "1/1 [==============================] - 0s 21ms/step\n",
      "1/1 [==============================] - 0s 21ms/step\n",
      "1/1 [==============================] - 0s 21ms/step\n"
     ]
    },
    {
     "name": "stderr",
     "output_type": "stream",
     "text": [
      "/var/folders/g_/mmqgkbcx0qn0r2j_wxv7rf2m0000gn/T/ipykernel_50021/4215304269.py:40: FutureWarning: The frame.append method is deprecated and will be removed from pandas in a future version. Use pandas.concat instead.\n",
      "  room_df = room_df.append(row, ignore_index=True)\n",
      "/Users/abhilash/opt/anaconda3/lib/python3.9/site-packages/sklearn/base.py:450: UserWarning: X does not have valid feature names, but StandardScaler was fitted with feature names\n",
      "  warnings.warn(\n",
      "/var/folders/g_/mmqgkbcx0qn0r2j_wxv7rf2m0000gn/T/ipykernel_50021/4215304269.py:40: FutureWarning: The frame.append method is deprecated and will be removed from pandas in a future version. Use pandas.concat instead.\n",
      "  room_df = room_df.append(row, ignore_index=True)\n",
      "/Users/abhilash/opt/anaconda3/lib/python3.9/site-packages/sklearn/base.py:450: UserWarning: X does not have valid feature names, but StandardScaler was fitted with feature names\n",
      "  warnings.warn(\n",
      "/var/folders/g_/mmqgkbcx0qn0r2j_wxv7rf2m0000gn/T/ipykernel_50021/4215304269.py:40: FutureWarning: The frame.append method is deprecated and will be removed from pandas in a future version. Use pandas.concat instead.\n",
      "  room_df = room_df.append(row, ignore_index=True)\n",
      "/Users/abhilash/opt/anaconda3/lib/python3.9/site-packages/sklearn/base.py:450: UserWarning: X does not have valid feature names, but StandardScaler was fitted with feature names\n",
      "  warnings.warn(\n",
      "/var/folders/g_/mmqgkbcx0qn0r2j_wxv7rf2m0000gn/T/ipykernel_50021/4215304269.py:40: FutureWarning: The frame.append method is deprecated and will be removed from pandas in a future version. Use pandas.concat instead.\n",
      "  room_df = room_df.append(row, ignore_index=True)\n",
      "/Users/abhilash/opt/anaconda3/lib/python3.9/site-packages/sklearn/base.py:450: UserWarning: X does not have valid feature names, but StandardScaler was fitted with feature names\n",
      "  warnings.warn(\n"
     ]
    },
    {
     "name": "stdout",
     "output_type": "stream",
     "text": [
      "1/1 [==============================] - 0s 23ms/step\n",
      "1/1 [==============================] - 0s 22ms/step\n",
      "1/1 [==============================] - 0s 21ms/step\n"
     ]
    },
    {
     "name": "stderr",
     "output_type": "stream",
     "text": [
      "/var/folders/g_/mmqgkbcx0qn0r2j_wxv7rf2m0000gn/T/ipykernel_50021/4215304269.py:40: FutureWarning: The frame.append method is deprecated and will be removed from pandas in a future version. Use pandas.concat instead.\n",
      "  room_df = room_df.append(row, ignore_index=True)\n",
      "/Users/abhilash/opt/anaconda3/lib/python3.9/site-packages/sklearn/base.py:450: UserWarning: X does not have valid feature names, but StandardScaler was fitted with feature names\n",
      "  warnings.warn(\n",
      "/var/folders/g_/mmqgkbcx0qn0r2j_wxv7rf2m0000gn/T/ipykernel_50021/4215304269.py:40: FutureWarning: The frame.append method is deprecated and will be removed from pandas in a future version. Use pandas.concat instead.\n",
      "  room_df = room_df.append(row, ignore_index=True)\n",
      "/Users/abhilash/opt/anaconda3/lib/python3.9/site-packages/sklearn/base.py:450: UserWarning: X does not have valid feature names, but StandardScaler was fitted with feature names\n",
      "  warnings.warn(\n",
      "/var/folders/g_/mmqgkbcx0qn0r2j_wxv7rf2m0000gn/T/ipykernel_50021/4215304269.py:40: FutureWarning: The frame.append method is deprecated and will be removed from pandas in a future version. Use pandas.concat instead.\n",
      "  room_df = room_df.append(row, ignore_index=True)\n",
      "/Users/abhilash/opt/anaconda3/lib/python3.9/site-packages/sklearn/base.py:450: UserWarning: X does not have valid feature names, but StandardScaler was fitted with feature names\n",
      "  warnings.warn(\n"
     ]
    },
    {
     "name": "stdout",
     "output_type": "stream",
     "text": [
      "1/1 [==============================] - 0s 61ms/step\n",
      "1/1 [==============================] - 0s 21ms/step\n",
      "1/1 [==============================] - 0s 22ms/step\n"
     ]
    },
    {
     "name": "stderr",
     "output_type": "stream",
     "text": [
      "/var/folders/g_/mmqgkbcx0qn0r2j_wxv7rf2m0000gn/T/ipykernel_50021/4215304269.py:40: FutureWarning: The frame.append method is deprecated and will be removed from pandas in a future version. Use pandas.concat instead.\n",
      "  room_df = room_df.append(row, ignore_index=True)\n",
      "/Users/abhilash/opt/anaconda3/lib/python3.9/site-packages/sklearn/base.py:450: UserWarning: X does not have valid feature names, but StandardScaler was fitted with feature names\n",
      "  warnings.warn(\n",
      "/var/folders/g_/mmqgkbcx0qn0r2j_wxv7rf2m0000gn/T/ipykernel_50021/4215304269.py:40: FutureWarning: The frame.append method is deprecated and will be removed from pandas in a future version. Use pandas.concat instead.\n",
      "  room_df = room_df.append(row, ignore_index=True)\n",
      "/Users/abhilash/opt/anaconda3/lib/python3.9/site-packages/sklearn/base.py:450: UserWarning: X does not have valid feature names, but StandardScaler was fitted with feature names\n",
      "  warnings.warn(\n",
      "/var/folders/g_/mmqgkbcx0qn0r2j_wxv7rf2m0000gn/T/ipykernel_50021/4215304269.py:40: FutureWarning: The frame.append method is deprecated and will be removed from pandas in a future version. Use pandas.concat instead.\n",
      "  room_df = room_df.append(row, ignore_index=True)\n",
      "/Users/abhilash/opt/anaconda3/lib/python3.9/site-packages/sklearn/base.py:450: UserWarning: X does not have valid feature names, but StandardScaler was fitted with feature names\n",
      "  warnings.warn(\n"
     ]
    },
    {
     "name": "stdout",
     "output_type": "stream",
     "text": [
      "1/1 [==============================] - 0s 22ms/step\n",
      "1/1 [==============================] - 0s 27ms/step\n",
      "1/1 [==============================] - 0s 27ms/step\n"
     ]
    },
    {
     "name": "stderr",
     "output_type": "stream",
     "text": [
      "/var/folders/g_/mmqgkbcx0qn0r2j_wxv7rf2m0000gn/T/ipykernel_50021/4215304269.py:40: FutureWarning: The frame.append method is deprecated and will be removed from pandas in a future version. Use pandas.concat instead.\n",
      "  room_df = room_df.append(row, ignore_index=True)\n",
      "/Users/abhilash/opt/anaconda3/lib/python3.9/site-packages/sklearn/base.py:450: UserWarning: X does not have valid feature names, but StandardScaler was fitted with feature names\n",
      "  warnings.warn(\n",
      "/var/folders/g_/mmqgkbcx0qn0r2j_wxv7rf2m0000gn/T/ipykernel_50021/4215304269.py:40: FutureWarning: The frame.append method is deprecated and will be removed from pandas in a future version. Use pandas.concat instead.\n",
      "  room_df = room_df.append(row, ignore_index=True)\n",
      "/Users/abhilash/opt/anaconda3/lib/python3.9/site-packages/sklearn/base.py:450: UserWarning: X does not have valid feature names, but StandardScaler was fitted with feature names\n",
      "  warnings.warn(\n",
      "/var/folders/g_/mmqgkbcx0qn0r2j_wxv7rf2m0000gn/T/ipykernel_50021/4215304269.py:40: FutureWarning: The frame.append method is deprecated and will be removed from pandas in a future version. Use pandas.concat instead.\n",
      "  room_df = room_df.append(row, ignore_index=True)\n",
      "/Users/abhilash/opt/anaconda3/lib/python3.9/site-packages/sklearn/base.py:450: UserWarning: X does not have valid feature names, but StandardScaler was fitted with feature names\n",
      "  warnings.warn(\n"
     ]
    },
    {
     "name": "stdout",
     "output_type": "stream",
     "text": [
      "1/1 [==============================] - 0s 28ms/step\n",
      "1/1 [==============================] - 0s 27ms/step\n"
     ]
    },
    {
     "name": "stderr",
     "output_type": "stream",
     "text": [
      "/var/folders/g_/mmqgkbcx0qn0r2j_wxv7rf2m0000gn/T/ipykernel_50021/4215304269.py:40: FutureWarning: The frame.append method is deprecated and will be removed from pandas in a future version. Use pandas.concat instead.\n",
      "  room_df = room_df.append(row, ignore_index=True)\n",
      "/Users/abhilash/opt/anaconda3/lib/python3.9/site-packages/sklearn/base.py:450: UserWarning: X does not have valid feature names, but StandardScaler was fitted with feature names\n",
      "  warnings.warn(\n",
      "/var/folders/g_/mmqgkbcx0qn0r2j_wxv7rf2m0000gn/T/ipykernel_50021/4215304269.py:40: FutureWarning: The frame.append method is deprecated and will be removed from pandas in a future version. Use pandas.concat instead.\n",
      "  room_df = room_df.append(row, ignore_index=True)\n",
      "/Users/abhilash/opt/anaconda3/lib/python3.9/site-packages/sklearn/base.py:450: UserWarning: X does not have valid feature names, but StandardScaler was fitted with feature names\n",
      "  warnings.warn(\n"
     ]
    },
    {
     "name": "stdout",
     "output_type": "stream",
     "text": [
      "1/1 [==============================] - 0s 28ms/step\n",
      "1/1 [==============================] - 0s 26ms/step\n",
      "1/1 [==============================] - 0s 21ms/step\n"
     ]
    },
    {
     "name": "stderr",
     "output_type": "stream",
     "text": [
      "/var/folders/g_/mmqgkbcx0qn0r2j_wxv7rf2m0000gn/T/ipykernel_50021/4215304269.py:40: FutureWarning: The frame.append method is deprecated and will be removed from pandas in a future version. Use pandas.concat instead.\n",
      "  room_df = room_df.append(row, ignore_index=True)\n",
      "/Users/abhilash/opt/anaconda3/lib/python3.9/site-packages/sklearn/base.py:450: UserWarning: X does not have valid feature names, but StandardScaler was fitted with feature names\n",
      "  warnings.warn(\n",
      "/var/folders/g_/mmqgkbcx0qn0r2j_wxv7rf2m0000gn/T/ipykernel_50021/4215304269.py:40: FutureWarning: The frame.append method is deprecated and will be removed from pandas in a future version. Use pandas.concat instead.\n",
      "  room_df = room_df.append(row, ignore_index=True)\n",
      "/Users/abhilash/opt/anaconda3/lib/python3.9/site-packages/sklearn/base.py:450: UserWarning: X does not have valid feature names, but StandardScaler was fitted with feature names\n",
      "  warnings.warn(\n",
      "/var/folders/g_/mmqgkbcx0qn0r2j_wxv7rf2m0000gn/T/ipykernel_50021/4215304269.py:40: FutureWarning: The frame.append method is deprecated and will be removed from pandas in a future version. Use pandas.concat instead.\n",
      "  room_df = room_df.append(row, ignore_index=True)\n",
      "/Users/abhilash/opt/anaconda3/lib/python3.9/site-packages/sklearn/base.py:450: UserWarning: X does not have valid feature names, but StandardScaler was fitted with feature names\n",
      "  warnings.warn(\n"
     ]
    },
    {
     "name": "stdout",
     "output_type": "stream",
     "text": [
      "1/1 [==============================] - 0s 22ms/step\n",
      "1/1 [==============================] - 0s 26ms/step\n",
      "1/1 [==============================] - 0s 27ms/step\n"
     ]
    },
    {
     "name": "stderr",
     "output_type": "stream",
     "text": [
      "/var/folders/g_/mmqgkbcx0qn0r2j_wxv7rf2m0000gn/T/ipykernel_50021/4215304269.py:40: FutureWarning: The frame.append method is deprecated and will be removed from pandas in a future version. Use pandas.concat instead.\n",
      "  room_df = room_df.append(row, ignore_index=True)\n",
      "/Users/abhilash/opt/anaconda3/lib/python3.9/site-packages/sklearn/base.py:450: UserWarning: X does not have valid feature names, but StandardScaler was fitted with feature names\n",
      "  warnings.warn(\n",
      "/var/folders/g_/mmqgkbcx0qn0r2j_wxv7rf2m0000gn/T/ipykernel_50021/4215304269.py:40: FutureWarning: The frame.append method is deprecated and will be removed from pandas in a future version. Use pandas.concat instead.\n",
      "  room_df = room_df.append(row, ignore_index=True)\n",
      "/Users/abhilash/opt/anaconda3/lib/python3.9/site-packages/sklearn/base.py:450: UserWarning: X does not have valid feature names, but StandardScaler was fitted with feature names\n",
      "  warnings.warn(\n",
      "/var/folders/g_/mmqgkbcx0qn0r2j_wxv7rf2m0000gn/T/ipykernel_50021/4215304269.py:40: FutureWarning: The frame.append method is deprecated and will be removed from pandas in a future version. Use pandas.concat instead.\n",
      "  room_df = room_df.append(row, ignore_index=True)\n",
      "/Users/abhilash/opt/anaconda3/lib/python3.9/site-packages/sklearn/base.py:450: UserWarning: X does not have valid feature names, but StandardScaler was fitted with feature names\n",
      "  warnings.warn(\n"
     ]
    },
    {
     "name": "stdout",
     "output_type": "stream",
     "text": [
      "1/1 [==============================] - 0s 28ms/step\n",
      "1/1 [==============================] - 0s 27ms/step\n",
      "1/1 [==============================] - 0s 21ms/step\n"
     ]
    },
    {
     "name": "stderr",
     "output_type": "stream",
     "text": [
      "/var/folders/g_/mmqgkbcx0qn0r2j_wxv7rf2m0000gn/T/ipykernel_50021/4215304269.py:40: FutureWarning: The frame.append method is deprecated and will be removed from pandas in a future version. Use pandas.concat instead.\n",
      "  room_df = room_df.append(row, ignore_index=True)\n",
      "/Users/abhilash/opt/anaconda3/lib/python3.9/site-packages/sklearn/base.py:450: UserWarning: X does not have valid feature names, but StandardScaler was fitted with feature names\n",
      "  warnings.warn(\n",
      "/var/folders/g_/mmqgkbcx0qn0r2j_wxv7rf2m0000gn/T/ipykernel_50021/4215304269.py:40: FutureWarning: The frame.append method is deprecated and will be removed from pandas in a future version. Use pandas.concat instead.\n",
      "  room_df = room_df.append(row, ignore_index=True)\n",
      "/Users/abhilash/opt/anaconda3/lib/python3.9/site-packages/sklearn/base.py:450: UserWarning: X does not have valid feature names, but StandardScaler was fitted with feature names\n",
      "  warnings.warn(\n",
      "/var/folders/g_/mmqgkbcx0qn0r2j_wxv7rf2m0000gn/T/ipykernel_50021/4215304269.py:40: FutureWarning: The frame.append method is deprecated and will be removed from pandas in a future version. Use pandas.concat instead.\n",
      "  room_df = room_df.append(row, ignore_index=True)\n",
      "/Users/abhilash/opt/anaconda3/lib/python3.9/site-packages/sklearn/base.py:450: UserWarning: X does not have valid feature names, but StandardScaler was fitted with feature names\n",
      "  warnings.warn(\n"
     ]
    },
    {
     "name": "stdout",
     "output_type": "stream",
     "text": [
      "1/1 [==============================] - 0s 25ms/step\n",
      "1/1 [==============================] - 0s 29ms/step\n",
      "1/1 [==============================] - 0s 21ms/step\n"
     ]
    },
    {
     "name": "stderr",
     "output_type": "stream",
     "text": [
      "/var/folders/g_/mmqgkbcx0qn0r2j_wxv7rf2m0000gn/T/ipykernel_50021/4215304269.py:40: FutureWarning: The frame.append method is deprecated and will be removed from pandas in a future version. Use pandas.concat instead.\n",
      "  room_df = room_df.append(row, ignore_index=True)\n",
      "/Users/abhilash/opt/anaconda3/lib/python3.9/site-packages/sklearn/base.py:450: UserWarning: X does not have valid feature names, but StandardScaler was fitted with feature names\n",
      "  warnings.warn(\n",
      "/var/folders/g_/mmqgkbcx0qn0r2j_wxv7rf2m0000gn/T/ipykernel_50021/4215304269.py:40: FutureWarning: The frame.append method is deprecated and will be removed from pandas in a future version. Use pandas.concat instead.\n",
      "  room_df = room_df.append(row, ignore_index=True)\n",
      "/Users/abhilash/opt/anaconda3/lib/python3.9/site-packages/sklearn/base.py:450: UserWarning: X does not have valid feature names, but StandardScaler was fitted with feature names\n",
      "  warnings.warn(\n",
      "/var/folders/g_/mmqgkbcx0qn0r2j_wxv7rf2m0000gn/T/ipykernel_50021/4215304269.py:40: FutureWarning: The frame.append method is deprecated and will be removed from pandas in a future version. Use pandas.concat instead.\n",
      "  room_df = room_df.append(row, ignore_index=True)\n",
      "/Users/abhilash/opt/anaconda3/lib/python3.9/site-packages/sklearn/base.py:450: UserWarning: X does not have valid feature names, but StandardScaler was fitted with feature names\n",
      "  warnings.warn(\n"
     ]
    },
    {
     "name": "stdout",
     "output_type": "stream",
     "text": [
      "1/1 [==============================] - 0s 24ms/step\n",
      "1/1 [==============================] - 0s 22ms/step\n",
      "1/1 [==============================] - 0s 28ms/step\n"
     ]
    },
    {
     "name": "stderr",
     "output_type": "stream",
     "text": [
      "/var/folders/g_/mmqgkbcx0qn0r2j_wxv7rf2m0000gn/T/ipykernel_50021/4215304269.py:40: FutureWarning: The frame.append method is deprecated and will be removed from pandas in a future version. Use pandas.concat instead.\n",
      "  room_df = room_df.append(row, ignore_index=True)\n",
      "/Users/abhilash/opt/anaconda3/lib/python3.9/site-packages/sklearn/base.py:450: UserWarning: X does not have valid feature names, but StandardScaler was fitted with feature names\n",
      "  warnings.warn(\n",
      "/var/folders/g_/mmqgkbcx0qn0r2j_wxv7rf2m0000gn/T/ipykernel_50021/4215304269.py:40: FutureWarning: The frame.append method is deprecated and will be removed from pandas in a future version. Use pandas.concat instead.\n",
      "  room_df = room_df.append(row, ignore_index=True)\n",
      "/Users/abhilash/opt/anaconda3/lib/python3.9/site-packages/sklearn/base.py:450: UserWarning: X does not have valid feature names, but StandardScaler was fitted with feature names\n",
      "  warnings.warn(\n",
      "/var/folders/g_/mmqgkbcx0qn0r2j_wxv7rf2m0000gn/T/ipykernel_50021/4215304269.py:40: FutureWarning: The frame.append method is deprecated and will be removed from pandas in a future version. Use pandas.concat instead.\n",
      "  room_df = room_df.append(row, ignore_index=True)\n",
      "/Users/abhilash/opt/anaconda3/lib/python3.9/site-packages/sklearn/base.py:450: UserWarning: X does not have valid feature names, but StandardScaler was fitted with feature names\n",
      "  warnings.warn(\n"
     ]
    },
    {
     "name": "stdout",
     "output_type": "stream",
     "text": [
      "1/1 [==============================] - 0s 36ms/step\n",
      "1/1 [==============================] - 0s 30ms/step\n",
      "1/1 [==============================] - 0s 22ms/step\n"
     ]
    },
    {
     "name": "stderr",
     "output_type": "stream",
     "text": [
      "/var/folders/g_/mmqgkbcx0qn0r2j_wxv7rf2m0000gn/T/ipykernel_50021/4215304269.py:40: FutureWarning: The frame.append method is deprecated and will be removed from pandas in a future version. Use pandas.concat instead.\n",
      "  room_df = room_df.append(row, ignore_index=True)\n",
      "/Users/abhilash/opt/anaconda3/lib/python3.9/site-packages/sklearn/base.py:450: UserWarning: X does not have valid feature names, but StandardScaler was fitted with feature names\n",
      "  warnings.warn(\n",
      "/var/folders/g_/mmqgkbcx0qn0r2j_wxv7rf2m0000gn/T/ipykernel_50021/4215304269.py:40: FutureWarning: The frame.append method is deprecated and will be removed from pandas in a future version. Use pandas.concat instead.\n",
      "  room_df = room_df.append(row, ignore_index=True)\n",
      "/Users/abhilash/opt/anaconda3/lib/python3.9/site-packages/sklearn/base.py:450: UserWarning: X does not have valid feature names, but StandardScaler was fitted with feature names\n",
      "  warnings.warn(\n",
      "/var/folders/g_/mmqgkbcx0qn0r2j_wxv7rf2m0000gn/T/ipykernel_50021/4215304269.py:40: FutureWarning: The frame.append method is deprecated and will be removed from pandas in a future version. Use pandas.concat instead.\n",
      "  room_df = room_df.append(row, ignore_index=True)\n",
      "/Users/abhilash/opt/anaconda3/lib/python3.9/site-packages/sklearn/base.py:450: UserWarning: X does not have valid feature names, but StandardScaler was fitted with feature names\n",
      "  warnings.warn(\n"
     ]
    },
    {
     "name": "stdout",
     "output_type": "stream",
     "text": [
      "1/1 [==============================] - 0s 26ms/step\n",
      "1/1 [==============================] - 0s 26ms/step\n",
      "1/1 [==============================] - 0s 23ms/step\n"
     ]
    },
    {
     "name": "stderr",
     "output_type": "stream",
     "text": [
      "/var/folders/g_/mmqgkbcx0qn0r2j_wxv7rf2m0000gn/T/ipykernel_50021/4215304269.py:40: FutureWarning: The frame.append method is deprecated and will be removed from pandas in a future version. Use pandas.concat instead.\n",
      "  room_df = room_df.append(row, ignore_index=True)\n",
      "/Users/abhilash/opt/anaconda3/lib/python3.9/site-packages/sklearn/base.py:450: UserWarning: X does not have valid feature names, but StandardScaler was fitted with feature names\n",
      "  warnings.warn(\n",
      "/var/folders/g_/mmqgkbcx0qn0r2j_wxv7rf2m0000gn/T/ipykernel_50021/4215304269.py:40: FutureWarning: The frame.append method is deprecated and will be removed from pandas in a future version. Use pandas.concat instead.\n",
      "  room_df = room_df.append(row, ignore_index=True)\n",
      "/Users/abhilash/opt/anaconda3/lib/python3.9/site-packages/sklearn/base.py:450: UserWarning: X does not have valid feature names, but StandardScaler was fitted with feature names\n",
      "  warnings.warn(\n",
      "/var/folders/g_/mmqgkbcx0qn0r2j_wxv7rf2m0000gn/T/ipykernel_50021/4215304269.py:40: FutureWarning: The frame.append method is deprecated and will be removed from pandas in a future version. Use pandas.concat instead.\n",
      "  room_df = room_df.append(row, ignore_index=True)\n",
      "/Users/abhilash/opt/anaconda3/lib/python3.9/site-packages/sklearn/base.py:450: UserWarning: X does not have valid feature names, but StandardScaler was fitted with feature names\n",
      "  warnings.warn(\n"
     ]
    },
    {
     "name": "stdout",
     "output_type": "stream",
     "text": [
      "1/1 [==============================] - 0s 24ms/step\n",
      "1/1 [==============================] - 0s 21ms/step\n",
      "1/1 [==============================] - 0s 25ms/step\n"
     ]
    },
    {
     "name": "stderr",
     "output_type": "stream",
     "text": [
      "/var/folders/g_/mmqgkbcx0qn0r2j_wxv7rf2m0000gn/T/ipykernel_50021/4215304269.py:40: FutureWarning: The frame.append method is deprecated and will be removed from pandas in a future version. Use pandas.concat instead.\n",
      "  room_df = room_df.append(row, ignore_index=True)\n",
      "/Users/abhilash/opt/anaconda3/lib/python3.9/site-packages/sklearn/base.py:450: UserWarning: X does not have valid feature names, but StandardScaler was fitted with feature names\n",
      "  warnings.warn(\n",
      "/var/folders/g_/mmqgkbcx0qn0r2j_wxv7rf2m0000gn/T/ipykernel_50021/4215304269.py:40: FutureWarning: The frame.append method is deprecated and will be removed from pandas in a future version. Use pandas.concat instead.\n",
      "  room_df = room_df.append(row, ignore_index=True)\n",
      "/Users/abhilash/opt/anaconda3/lib/python3.9/site-packages/sklearn/base.py:450: UserWarning: X does not have valid feature names, but StandardScaler was fitted with feature names\n",
      "  warnings.warn(\n",
      "/var/folders/g_/mmqgkbcx0qn0r2j_wxv7rf2m0000gn/T/ipykernel_50021/4215304269.py:40: FutureWarning: The frame.append method is deprecated and will be removed from pandas in a future version. Use pandas.concat instead.\n",
      "  room_df = room_df.append(row, ignore_index=True)\n",
      "/Users/abhilash/opt/anaconda3/lib/python3.9/site-packages/sklearn/base.py:450: UserWarning: X does not have valid feature names, but StandardScaler was fitted with feature names\n",
      "  warnings.warn(\n"
     ]
    },
    {
     "name": "stdout",
     "output_type": "stream",
     "text": [
      "1/1 [==============================] - 0s 35ms/step\n",
      "1/1 [==============================] - 0s 27ms/step\n",
      "1/1 [==============================] - 0s 25ms/step\n"
     ]
    },
    {
     "name": "stderr",
     "output_type": "stream",
     "text": [
      "/var/folders/g_/mmqgkbcx0qn0r2j_wxv7rf2m0000gn/T/ipykernel_50021/4215304269.py:40: FutureWarning: The frame.append method is deprecated and will be removed from pandas in a future version. Use pandas.concat instead.\n",
      "  room_df = room_df.append(row, ignore_index=True)\n",
      "/Users/abhilash/opt/anaconda3/lib/python3.9/site-packages/sklearn/base.py:450: UserWarning: X does not have valid feature names, but StandardScaler was fitted with feature names\n",
      "  warnings.warn(\n",
      "/var/folders/g_/mmqgkbcx0qn0r2j_wxv7rf2m0000gn/T/ipykernel_50021/4215304269.py:40: FutureWarning: The frame.append method is deprecated and will be removed from pandas in a future version. Use pandas.concat instead.\n",
      "  room_df = room_df.append(row, ignore_index=True)\n",
      "/Users/abhilash/opt/anaconda3/lib/python3.9/site-packages/sklearn/base.py:450: UserWarning: X does not have valid feature names, but StandardScaler was fitted with feature names\n",
      "  warnings.warn(\n",
      "/var/folders/g_/mmqgkbcx0qn0r2j_wxv7rf2m0000gn/T/ipykernel_50021/4215304269.py:40: FutureWarning: The frame.append method is deprecated and will be removed from pandas in a future version. Use pandas.concat instead.\n",
      "  room_df = room_df.append(row, ignore_index=True)\n",
      "/Users/abhilash/opt/anaconda3/lib/python3.9/site-packages/sklearn/base.py:450: UserWarning: X does not have valid feature names, but StandardScaler was fitted with feature names\n",
      "  warnings.warn(\n"
     ]
    },
    {
     "name": "stdout",
     "output_type": "stream",
     "text": [
      "1/1 [==============================] - 0s 35ms/step\n",
      "1/1 [==============================] - 0s 23ms/step\n",
      "1/1 [==============================] - 0s 23ms/step\n"
     ]
    },
    {
     "name": "stderr",
     "output_type": "stream",
     "text": [
      "/var/folders/g_/mmqgkbcx0qn0r2j_wxv7rf2m0000gn/T/ipykernel_50021/4215304269.py:40: FutureWarning: The frame.append method is deprecated and will be removed from pandas in a future version. Use pandas.concat instead.\n",
      "  room_df = room_df.append(row, ignore_index=True)\n",
      "/Users/abhilash/opt/anaconda3/lib/python3.9/site-packages/sklearn/base.py:450: UserWarning: X does not have valid feature names, but StandardScaler was fitted with feature names\n",
      "  warnings.warn(\n",
      "/var/folders/g_/mmqgkbcx0qn0r2j_wxv7rf2m0000gn/T/ipykernel_50021/4215304269.py:40: FutureWarning: The frame.append method is deprecated and will be removed from pandas in a future version. Use pandas.concat instead.\n",
      "  room_df = room_df.append(row, ignore_index=True)\n",
      "/Users/abhilash/opt/anaconda3/lib/python3.9/site-packages/sklearn/base.py:450: UserWarning: X does not have valid feature names, but StandardScaler was fitted with feature names\n",
      "  warnings.warn(\n",
      "/var/folders/g_/mmqgkbcx0qn0r2j_wxv7rf2m0000gn/T/ipykernel_50021/4215304269.py:40: FutureWarning: The frame.append method is deprecated and will be removed from pandas in a future version. Use pandas.concat instead.\n",
      "  room_df = room_df.append(row, ignore_index=True)\n",
      "/Users/abhilash/opt/anaconda3/lib/python3.9/site-packages/sklearn/base.py:450: UserWarning: X does not have valid feature names, but StandardScaler was fitted with feature names\n",
      "  warnings.warn(\n"
     ]
    },
    {
     "name": "stdout",
     "output_type": "stream",
     "text": [
      "1/1 [==============================] - 0s 34ms/step\n",
      "1/1 [==============================] - 0s 27ms/step\n"
     ]
    },
    {
     "name": "stderr",
     "output_type": "stream",
     "text": [
      "/var/folders/g_/mmqgkbcx0qn0r2j_wxv7rf2m0000gn/T/ipykernel_50021/4215304269.py:40: FutureWarning: The frame.append method is deprecated and will be removed from pandas in a future version. Use pandas.concat instead.\n",
      "  room_df = room_df.append(row, ignore_index=True)\n",
      "/Users/abhilash/opt/anaconda3/lib/python3.9/site-packages/sklearn/base.py:450: UserWarning: X does not have valid feature names, but StandardScaler was fitted with feature names\n",
      "  warnings.warn(\n",
      "/var/folders/g_/mmqgkbcx0qn0r2j_wxv7rf2m0000gn/T/ipykernel_50021/4215304269.py:40: FutureWarning: The frame.append method is deprecated and will be removed from pandas in a future version. Use pandas.concat instead.\n",
      "  room_df = room_df.append(row, ignore_index=True)\n",
      "/Users/abhilash/opt/anaconda3/lib/python3.9/site-packages/sklearn/base.py:450: UserWarning: X does not have valid feature names, but StandardScaler was fitted with feature names\n",
      "  warnings.warn(\n"
     ]
    },
    {
     "name": "stdout",
     "output_type": "stream",
     "text": [
      "1/1 [==============================] - 0s 29ms/step\n",
      "1/1 [==============================] - 0s 24ms/step\n",
      "1/1 [==============================] - 0s 25ms/step\n"
     ]
    },
    {
     "name": "stderr",
     "output_type": "stream",
     "text": [
      "/var/folders/g_/mmqgkbcx0qn0r2j_wxv7rf2m0000gn/T/ipykernel_50021/4215304269.py:40: FutureWarning: The frame.append method is deprecated and will be removed from pandas in a future version. Use pandas.concat instead.\n",
      "  room_df = room_df.append(row, ignore_index=True)\n",
      "/Users/abhilash/opt/anaconda3/lib/python3.9/site-packages/sklearn/base.py:450: UserWarning: X does not have valid feature names, but StandardScaler was fitted with feature names\n",
      "  warnings.warn(\n",
      "/var/folders/g_/mmqgkbcx0qn0r2j_wxv7rf2m0000gn/T/ipykernel_50021/4215304269.py:40: FutureWarning: The frame.append method is deprecated and will be removed from pandas in a future version. Use pandas.concat instead.\n",
      "  room_df = room_df.append(row, ignore_index=True)\n",
      "/Users/abhilash/opt/anaconda3/lib/python3.9/site-packages/sklearn/base.py:450: UserWarning: X does not have valid feature names, but StandardScaler was fitted with feature names\n",
      "  warnings.warn(\n",
      "/var/folders/g_/mmqgkbcx0qn0r2j_wxv7rf2m0000gn/T/ipykernel_50021/4215304269.py:40: FutureWarning: The frame.append method is deprecated and will be removed from pandas in a future version. Use pandas.concat instead.\n",
      "  room_df = room_df.append(row, ignore_index=True)\n",
      "/Users/abhilash/opt/anaconda3/lib/python3.9/site-packages/sklearn/base.py:450: UserWarning: X does not have valid feature names, but StandardScaler was fitted with feature names\n",
      "  warnings.warn(\n"
     ]
    },
    {
     "name": "stdout",
     "output_type": "stream",
     "text": [
      "1/1 [==============================] - 0s 38ms/step\n",
      "1/1 [==============================] - 0s 24ms/step\n",
      "1/1 [==============================] - 0s 22ms/step\n"
     ]
    },
    {
     "name": "stderr",
     "output_type": "stream",
     "text": [
      "/var/folders/g_/mmqgkbcx0qn0r2j_wxv7rf2m0000gn/T/ipykernel_50021/4215304269.py:40: FutureWarning: The frame.append method is deprecated and will be removed from pandas in a future version. Use pandas.concat instead.\n",
      "  room_df = room_df.append(row, ignore_index=True)\n",
      "/Users/abhilash/opt/anaconda3/lib/python3.9/site-packages/sklearn/base.py:450: UserWarning: X does not have valid feature names, but StandardScaler was fitted with feature names\n",
      "  warnings.warn(\n",
      "/var/folders/g_/mmqgkbcx0qn0r2j_wxv7rf2m0000gn/T/ipykernel_50021/4215304269.py:40: FutureWarning: The frame.append method is deprecated and will be removed from pandas in a future version. Use pandas.concat instead.\n",
      "  room_df = room_df.append(row, ignore_index=True)\n",
      "/Users/abhilash/opt/anaconda3/lib/python3.9/site-packages/sklearn/base.py:450: UserWarning: X does not have valid feature names, but StandardScaler was fitted with feature names\n",
      "  warnings.warn(\n",
      "/var/folders/g_/mmqgkbcx0qn0r2j_wxv7rf2m0000gn/T/ipykernel_50021/4215304269.py:40: FutureWarning: The frame.append method is deprecated and will be removed from pandas in a future version. Use pandas.concat instead.\n",
      "  room_df = room_df.append(row, ignore_index=True)\n",
      "/Users/abhilash/opt/anaconda3/lib/python3.9/site-packages/sklearn/base.py:450: UserWarning: X does not have valid feature names, but StandardScaler was fitted with feature names\n",
      "  warnings.warn(\n"
     ]
    },
    {
     "name": "stdout",
     "output_type": "stream",
     "text": [
      "1/1 [==============================] - 0s 25ms/step\n",
      "1/1 [==============================] - 0s 21ms/step\n",
      "1/1 [==============================] - 0s 21ms/step\n",
      "1/1 [==============================] - 0s 21ms/step\n"
     ]
    },
    {
     "name": "stderr",
     "output_type": "stream",
     "text": [
      "/var/folders/g_/mmqgkbcx0qn0r2j_wxv7rf2m0000gn/T/ipykernel_50021/4215304269.py:40: FutureWarning: The frame.append method is deprecated and will be removed from pandas in a future version. Use pandas.concat instead.\n",
      "  room_df = room_df.append(row, ignore_index=True)\n",
      "/Users/abhilash/opt/anaconda3/lib/python3.9/site-packages/sklearn/base.py:450: UserWarning: X does not have valid feature names, but StandardScaler was fitted with feature names\n",
      "  warnings.warn(\n",
      "/var/folders/g_/mmqgkbcx0qn0r2j_wxv7rf2m0000gn/T/ipykernel_50021/4215304269.py:40: FutureWarning: The frame.append method is deprecated and will be removed from pandas in a future version. Use pandas.concat instead.\n",
      "  room_df = room_df.append(row, ignore_index=True)\n",
      "/Users/abhilash/opt/anaconda3/lib/python3.9/site-packages/sklearn/base.py:450: UserWarning: X does not have valid feature names, but StandardScaler was fitted with feature names\n",
      "  warnings.warn(\n",
      "/var/folders/g_/mmqgkbcx0qn0r2j_wxv7rf2m0000gn/T/ipykernel_50021/4215304269.py:40: FutureWarning: The frame.append method is deprecated and will be removed from pandas in a future version. Use pandas.concat instead.\n",
      "  room_df = room_df.append(row, ignore_index=True)\n",
      "/Users/abhilash/opt/anaconda3/lib/python3.9/site-packages/sklearn/base.py:450: UserWarning: X does not have valid feature names, but StandardScaler was fitted with feature names\n",
      "  warnings.warn(\n",
      "/var/folders/g_/mmqgkbcx0qn0r2j_wxv7rf2m0000gn/T/ipykernel_50021/4215304269.py:40: FutureWarning: The frame.append method is deprecated and will be removed from pandas in a future version. Use pandas.concat instead.\n",
      "  room_df = room_df.append(row, ignore_index=True)\n",
      "/Users/abhilash/opt/anaconda3/lib/python3.9/site-packages/sklearn/base.py:450: UserWarning: X does not have valid feature names, but StandardScaler was fitted with feature names\n",
      "  warnings.warn(\n"
     ]
    },
    {
     "name": "stdout",
     "output_type": "stream",
     "text": [
      "1/1 [==============================] - 0s 22ms/step\n",
      "1/1 [==============================] - 0s 23ms/step\n",
      "1/1 [==============================] - 0s 29ms/step\n"
     ]
    },
    {
     "name": "stderr",
     "output_type": "stream",
     "text": [
      "/var/folders/g_/mmqgkbcx0qn0r2j_wxv7rf2m0000gn/T/ipykernel_50021/4215304269.py:40: FutureWarning: The frame.append method is deprecated and will be removed from pandas in a future version. Use pandas.concat instead.\n",
      "  room_df = room_df.append(row, ignore_index=True)\n",
      "/Users/abhilash/opt/anaconda3/lib/python3.9/site-packages/sklearn/base.py:450: UserWarning: X does not have valid feature names, but StandardScaler was fitted with feature names\n",
      "  warnings.warn(\n",
      "/var/folders/g_/mmqgkbcx0qn0r2j_wxv7rf2m0000gn/T/ipykernel_50021/4215304269.py:40: FutureWarning: The frame.append method is deprecated and will be removed from pandas in a future version. Use pandas.concat instead.\n",
      "  room_df = room_df.append(row, ignore_index=True)\n",
      "/Users/abhilash/opt/anaconda3/lib/python3.9/site-packages/sklearn/base.py:450: UserWarning: X does not have valid feature names, but StandardScaler was fitted with feature names\n",
      "  warnings.warn(\n",
      "/var/folders/g_/mmqgkbcx0qn0r2j_wxv7rf2m0000gn/T/ipykernel_50021/4215304269.py:40: FutureWarning: The frame.append method is deprecated and will be removed from pandas in a future version. Use pandas.concat instead.\n",
      "  room_df = room_df.append(row, ignore_index=True)\n",
      "/Users/abhilash/opt/anaconda3/lib/python3.9/site-packages/sklearn/base.py:450: UserWarning: X does not have valid feature names, but StandardScaler was fitted with feature names\n",
      "  warnings.warn(\n"
     ]
    },
    {
     "name": "stdout",
     "output_type": "stream",
     "text": [
      "1/1 [==============================] - 0s 25ms/step\n",
      "1/1 [==============================] - 0s 24ms/step\n",
      "1/1 [==============================] - 0s 21ms/step\n"
     ]
    },
    {
     "name": "stderr",
     "output_type": "stream",
     "text": [
      "/var/folders/g_/mmqgkbcx0qn0r2j_wxv7rf2m0000gn/T/ipykernel_50021/4215304269.py:40: FutureWarning: The frame.append method is deprecated and will be removed from pandas in a future version. Use pandas.concat instead.\n",
      "  room_df = room_df.append(row, ignore_index=True)\n",
      "/Users/abhilash/opt/anaconda3/lib/python3.9/site-packages/sklearn/base.py:450: UserWarning: X does not have valid feature names, but StandardScaler was fitted with feature names\n",
      "  warnings.warn(\n",
      "/var/folders/g_/mmqgkbcx0qn0r2j_wxv7rf2m0000gn/T/ipykernel_50021/4215304269.py:40: FutureWarning: The frame.append method is deprecated and will be removed from pandas in a future version. Use pandas.concat instead.\n",
      "  room_df = room_df.append(row, ignore_index=True)\n",
      "/Users/abhilash/opt/anaconda3/lib/python3.9/site-packages/sklearn/base.py:450: UserWarning: X does not have valid feature names, but StandardScaler was fitted with feature names\n",
      "  warnings.warn(\n",
      "/var/folders/g_/mmqgkbcx0qn0r2j_wxv7rf2m0000gn/T/ipykernel_50021/4215304269.py:40: FutureWarning: The frame.append method is deprecated and will be removed from pandas in a future version. Use pandas.concat instead.\n",
      "  room_df = room_df.append(row, ignore_index=True)\n",
      "/Users/abhilash/opt/anaconda3/lib/python3.9/site-packages/sklearn/base.py:450: UserWarning: X does not have valid feature names, but StandardScaler was fitted with feature names\n",
      "  warnings.warn(\n"
     ]
    },
    {
     "name": "stdout",
     "output_type": "stream",
     "text": [
      "1/1 [==============================] - 0s 24ms/step\n",
      "1/1 [==============================] - 0s 21ms/step\n",
      "1/1 [==============================] - 0s 20ms/step\n"
     ]
    },
    {
     "name": "stderr",
     "output_type": "stream",
     "text": [
      "/var/folders/g_/mmqgkbcx0qn0r2j_wxv7rf2m0000gn/T/ipykernel_50021/4215304269.py:40: FutureWarning: The frame.append method is deprecated and will be removed from pandas in a future version. Use pandas.concat instead.\n",
      "  room_df = room_df.append(row, ignore_index=True)\n",
      "/Users/abhilash/opt/anaconda3/lib/python3.9/site-packages/sklearn/base.py:450: UserWarning: X does not have valid feature names, but StandardScaler was fitted with feature names\n",
      "  warnings.warn(\n",
      "/var/folders/g_/mmqgkbcx0qn0r2j_wxv7rf2m0000gn/T/ipykernel_50021/4215304269.py:40: FutureWarning: The frame.append method is deprecated and will be removed from pandas in a future version. Use pandas.concat instead.\n",
      "  room_df = room_df.append(row, ignore_index=True)\n",
      "/Users/abhilash/opt/anaconda3/lib/python3.9/site-packages/sklearn/base.py:450: UserWarning: X does not have valid feature names, but StandardScaler was fitted with feature names\n",
      "  warnings.warn(\n",
      "/var/folders/g_/mmqgkbcx0qn0r2j_wxv7rf2m0000gn/T/ipykernel_50021/4215304269.py:40: FutureWarning: The frame.append method is deprecated and will be removed from pandas in a future version. Use pandas.concat instead.\n",
      "  room_df = room_df.append(row, ignore_index=True)\n",
      "/Users/abhilash/opt/anaconda3/lib/python3.9/site-packages/sklearn/base.py:450: UserWarning: X does not have valid feature names, but StandardScaler was fitted with feature names\n",
      "  warnings.warn(\n"
     ]
    },
    {
     "name": "stdout",
     "output_type": "stream",
     "text": [
      "1/1 [==============================] - 0s 24ms/step\n",
      "1/1 [==============================] - 0s 22ms/step\n",
      "1/1 [==============================] - 0s 22ms/step\n",
      "1/1 [==============================] - 0s 21ms/step\n"
     ]
    },
    {
     "name": "stderr",
     "output_type": "stream",
     "text": [
      "/var/folders/g_/mmqgkbcx0qn0r2j_wxv7rf2m0000gn/T/ipykernel_50021/4215304269.py:40: FutureWarning: The frame.append method is deprecated and will be removed from pandas in a future version. Use pandas.concat instead.\n",
      "  room_df = room_df.append(row, ignore_index=True)\n",
      "/Users/abhilash/opt/anaconda3/lib/python3.9/site-packages/sklearn/base.py:450: UserWarning: X does not have valid feature names, but StandardScaler was fitted with feature names\n",
      "  warnings.warn(\n",
      "/var/folders/g_/mmqgkbcx0qn0r2j_wxv7rf2m0000gn/T/ipykernel_50021/4215304269.py:40: FutureWarning: The frame.append method is deprecated and will be removed from pandas in a future version. Use pandas.concat instead.\n",
      "  room_df = room_df.append(row, ignore_index=True)\n",
      "/Users/abhilash/opt/anaconda3/lib/python3.9/site-packages/sklearn/base.py:450: UserWarning: X does not have valid feature names, but StandardScaler was fitted with feature names\n",
      "  warnings.warn(\n",
      "/var/folders/g_/mmqgkbcx0qn0r2j_wxv7rf2m0000gn/T/ipykernel_50021/4215304269.py:40: FutureWarning: The frame.append method is deprecated and will be removed from pandas in a future version. Use pandas.concat instead.\n",
      "  room_df = room_df.append(row, ignore_index=True)\n",
      "/Users/abhilash/opt/anaconda3/lib/python3.9/site-packages/sklearn/base.py:450: UserWarning: X does not have valid feature names, but StandardScaler was fitted with feature names\n",
      "  warnings.warn(\n"
     ]
    },
    {
     "name": "stdout",
     "output_type": "stream",
     "text": [
      "1/1 [==============================] - 0s 22ms/step\n",
      "1/1 [==============================] - 0s 21ms/step\n"
     ]
    },
    {
     "name": "stderr",
     "output_type": "stream",
     "text": [
      "/var/folders/g_/mmqgkbcx0qn0r2j_wxv7rf2m0000gn/T/ipykernel_50021/4215304269.py:40: FutureWarning: The frame.append method is deprecated and will be removed from pandas in a future version. Use pandas.concat instead.\n",
      "  room_df = room_df.append(row, ignore_index=True)\n",
      "/Users/abhilash/opt/anaconda3/lib/python3.9/site-packages/sklearn/base.py:450: UserWarning: X does not have valid feature names, but StandardScaler was fitted with feature names\n",
      "  warnings.warn(\n",
      "/var/folders/g_/mmqgkbcx0qn0r2j_wxv7rf2m0000gn/T/ipykernel_50021/4215304269.py:40: FutureWarning: The frame.append method is deprecated and will be removed from pandas in a future version. Use pandas.concat instead.\n",
      "  room_df = room_df.append(row, ignore_index=True)\n",
      "/Users/abhilash/opt/anaconda3/lib/python3.9/site-packages/sklearn/base.py:450: UserWarning: X does not have valid feature names, but StandardScaler was fitted with feature names\n",
      "  warnings.warn(\n",
      "/var/folders/g_/mmqgkbcx0qn0r2j_wxv7rf2m0000gn/T/ipykernel_50021/4215304269.py:40: FutureWarning: The frame.append method is deprecated and will be removed from pandas in a future version. Use pandas.concat instead.\n",
      "  room_df = room_df.append(row, ignore_index=True)\n",
      "/Users/abhilash/opt/anaconda3/lib/python3.9/site-packages/sklearn/base.py:450: UserWarning: X does not have valid feature names, but StandardScaler was fitted with feature names\n",
      "  warnings.warn(\n"
     ]
    },
    {
     "name": "stdout",
     "output_type": "stream",
     "text": [
      "1/1 [==============================] - 0s 22ms/step\n",
      "1/1 [==============================] - 0s 21ms/step\n",
      "1/1 [==============================] - 0s 21ms/step\n",
      "1/1 [==============================] - 0s 22ms/step\n"
     ]
    },
    {
     "name": "stderr",
     "output_type": "stream",
     "text": [
      "/var/folders/g_/mmqgkbcx0qn0r2j_wxv7rf2m0000gn/T/ipykernel_50021/4215304269.py:40: FutureWarning: The frame.append method is deprecated and will be removed from pandas in a future version. Use pandas.concat instead.\n",
      "  room_df = room_df.append(row, ignore_index=True)\n",
      "/Users/abhilash/opt/anaconda3/lib/python3.9/site-packages/sklearn/base.py:450: UserWarning: X does not have valid feature names, but StandardScaler was fitted with feature names\n",
      "  warnings.warn(\n",
      "/var/folders/g_/mmqgkbcx0qn0r2j_wxv7rf2m0000gn/T/ipykernel_50021/4215304269.py:40: FutureWarning: The frame.append method is deprecated and will be removed from pandas in a future version. Use pandas.concat instead.\n",
      "  room_df = room_df.append(row, ignore_index=True)\n",
      "/Users/abhilash/opt/anaconda3/lib/python3.9/site-packages/sklearn/base.py:450: UserWarning: X does not have valid feature names, but StandardScaler was fitted with feature names\n",
      "  warnings.warn(\n",
      "/var/folders/g_/mmqgkbcx0qn0r2j_wxv7rf2m0000gn/T/ipykernel_50021/4215304269.py:40: FutureWarning: The frame.append method is deprecated and will be removed from pandas in a future version. Use pandas.concat instead.\n",
      "  room_df = room_df.append(row, ignore_index=True)\n",
      "/Users/abhilash/opt/anaconda3/lib/python3.9/site-packages/sklearn/base.py:450: UserWarning: X does not have valid feature names, but StandardScaler was fitted with feature names\n",
      "  warnings.warn(\n"
     ]
    },
    {
     "name": "stdout",
     "output_type": "stream",
     "text": [
      "1/1 [==============================] - 0s 22ms/step\n",
      "1/1 [==============================] - 0s 22ms/step\n",
      "1/1 [==============================] - 0s 21ms/step\n"
     ]
    },
    {
     "name": "stderr",
     "output_type": "stream",
     "text": [
      "/var/folders/g_/mmqgkbcx0qn0r2j_wxv7rf2m0000gn/T/ipykernel_50021/4215304269.py:40: FutureWarning: The frame.append method is deprecated and will be removed from pandas in a future version. Use pandas.concat instead.\n",
      "  room_df = room_df.append(row, ignore_index=True)\n",
      "/Users/abhilash/opt/anaconda3/lib/python3.9/site-packages/sklearn/base.py:450: UserWarning: X does not have valid feature names, but StandardScaler was fitted with feature names\n",
      "  warnings.warn(\n",
      "/var/folders/g_/mmqgkbcx0qn0r2j_wxv7rf2m0000gn/T/ipykernel_50021/4215304269.py:40: FutureWarning: The frame.append method is deprecated and will be removed from pandas in a future version. Use pandas.concat instead.\n",
      "  room_df = room_df.append(row, ignore_index=True)\n",
      "/Users/abhilash/opt/anaconda3/lib/python3.9/site-packages/sklearn/base.py:450: UserWarning: X does not have valid feature names, but StandardScaler was fitted with feature names\n",
      "  warnings.warn(\n",
      "/var/folders/g_/mmqgkbcx0qn0r2j_wxv7rf2m0000gn/T/ipykernel_50021/4215304269.py:40: FutureWarning: The frame.append method is deprecated and will be removed from pandas in a future version. Use pandas.concat instead.\n",
      "  room_df = room_df.append(row, ignore_index=True)\n",
      "/Users/abhilash/opt/anaconda3/lib/python3.9/site-packages/sklearn/base.py:450: UserWarning: X does not have valid feature names, but StandardScaler was fitted with feature names\n",
      "  warnings.warn(\n",
      "/var/folders/g_/mmqgkbcx0qn0r2j_wxv7rf2m0000gn/T/ipykernel_50021/4215304269.py:40: FutureWarning: The frame.append method is deprecated and will be removed from pandas in a future version. Use pandas.concat instead.\n",
      "  room_df = room_df.append(row, ignore_index=True)\n",
      "/Users/abhilash/opt/anaconda3/lib/python3.9/site-packages/sklearn/base.py:450: UserWarning: X does not have valid feature names, but StandardScaler was fitted with feature names\n",
      "  warnings.warn(\n"
     ]
    },
    {
     "name": "stdout",
     "output_type": "stream",
     "text": [
      "1/1 [==============================] - 0s 22ms/step\n",
      "1/1 [==============================] - 0s 23ms/step\n",
      "1/1 [==============================] - 0s 31ms/step\n"
     ]
    },
    {
     "name": "stderr",
     "output_type": "stream",
     "text": [
      "/var/folders/g_/mmqgkbcx0qn0r2j_wxv7rf2m0000gn/T/ipykernel_50021/4215304269.py:40: FutureWarning: The frame.append method is deprecated and will be removed from pandas in a future version. Use pandas.concat instead.\n",
      "  room_df = room_df.append(row, ignore_index=True)\n",
      "/Users/abhilash/opt/anaconda3/lib/python3.9/site-packages/sklearn/base.py:450: UserWarning: X does not have valid feature names, but StandardScaler was fitted with feature names\n",
      "  warnings.warn(\n",
      "/var/folders/g_/mmqgkbcx0qn0r2j_wxv7rf2m0000gn/T/ipykernel_50021/4215304269.py:40: FutureWarning: The frame.append method is deprecated and will be removed from pandas in a future version. Use pandas.concat instead.\n",
      "  room_df = room_df.append(row, ignore_index=True)\n",
      "/Users/abhilash/opt/anaconda3/lib/python3.9/site-packages/sklearn/base.py:450: UserWarning: X does not have valid feature names, but StandardScaler was fitted with feature names\n",
      "  warnings.warn(\n",
      "/var/folders/g_/mmqgkbcx0qn0r2j_wxv7rf2m0000gn/T/ipykernel_50021/4215304269.py:40: FutureWarning: The frame.append method is deprecated and will be removed from pandas in a future version. Use pandas.concat instead.\n",
      "  room_df = room_df.append(row, ignore_index=True)\n",
      "/Users/abhilash/opt/anaconda3/lib/python3.9/site-packages/sklearn/base.py:450: UserWarning: X does not have valid feature names, but StandardScaler was fitted with feature names\n",
      "  warnings.warn(\n"
     ]
    },
    {
     "name": "stdout",
     "output_type": "stream",
     "text": [
      "1/1 [==============================] - 0s 48ms/step\n"
     ]
    },
    {
     "name": "stderr",
     "output_type": "stream",
     "text": [
      "/var/folders/g_/mmqgkbcx0qn0r2j_wxv7rf2m0000gn/T/ipykernel_50021/4215304269.py:40: FutureWarning: The frame.append method is deprecated and will be removed from pandas in a future version. Use pandas.concat instead.\n",
      "  room_df = room_df.append(row, ignore_index=True)\n",
      "/var/folders/g_/mmqgkbcx0qn0r2j_wxv7rf2m0000gn/T/ipykernel_50021/4215304269.py:43: FutureWarning: The frame.append method is deprecated and will be removed from pandas in a future version. Use pandas.concat instead.\n",
      "  pred_df = pred_df.append(room_df, ignore_index=True)\n"
     ]
    }
   ],
   "source": [
    "import datetime as dt\n",
    "\n",
    "# create a new dataframe to store the predicted number of occupants\n",
    "pred_df = pd.DataFrame(columns=['room_id', 'start_timestamp', 'number_of_astronauts'])\n",
    "\n",
    "# define the start and end timestamp for the day we want to predict\n",
    "start = pd.Timestamp('2022-12-01')\n",
    "end = start + pd.Timedelta(days=1)\n",
    "\n",
    "# loop through each room_id and predict the number of occupants for every 15 minute interval\n",
    "for room_id in df['room_id'].unique():\n",
    "    # create a new dataframe for the current room_id\n",
    "    room_df = pd.DataFrame(columns=['room_id', 'start_timestamp', 'number_of_astronauts'])\n",
    "    \n",
    "    # loop through every 15 minute interval in the day\n",
    "    for timestamp in pd.date_range(start=start, end=end, freq='15T'):\n",
    "        # create a new row for the current timestamp and room_id\n",
    "        row = {'room_id': room_id, 'start_timestamp': timestamp.timestamp(), 'number_of_astronauts': 0}\n",
    "        \n",
    "        # get the hour and minute from the timestamp\n",
    "        hour = timestamp.hour\n",
    "        minute = timestamp.minute\n",
    "        \n",
    "        # scale the input features\n",
    "        input_feature = scaler.transform([[room_id, hour, minute]])\n",
    "        \n",
    "        # reshape the input feature to 3D tensor for input to RNN model\n",
    "        input_feature = input_feature.reshape((1, 1, input_feature.shape[1]))\n",
    "        \n",
    "        # predict the number of occupants using the trained RNN model\n",
    "        prediction = model.predict(input_feature)\n",
    "        \n",
    "        # round the prediction to the nearest integer\n",
    "        prediction = int(round(prediction[0][0]))\n",
    "    \n",
    "        # set the number_of_astronauts for the current row to the predicted value\n",
    "        row['number_of_astronauts'] = prediction\n",
    "    \n",
    "        # add the row to the room_df\n",
    "        room_df = room_df.append(row, ignore_index=True)\n",
    "\n",
    "        # add the room_df to the pred_df\n",
    "    pred_df = pred_df.append(room_df, ignore_index=True)\n"
   ]
  },
  {
   "cell_type": "code",
   "execution_count": 25,
   "id": "9100570c",
   "metadata": {},
   "outputs": [],
   "source": [
    "pred_df['start_timestamp'] = pd.to_datetime(pred_df['start_timestamp'], unit='s')"
   ]
  },
  {
   "cell_type": "code",
   "execution_count": 26,
   "id": "b6643b41",
   "metadata": {},
   "outputs": [
    {
     "name": "stdout",
     "output_type": "stream",
     "text": [
      "   room_id     start_timestamp  number_of_astronauts\n",
      "0      5.0 2022-12-01 00:00:00                  16.0\n",
      "1      5.0 2022-12-01 00:15:00                  17.0\n",
      "2      5.0 2022-12-01 00:30:00                  18.0\n",
      "3      5.0 2022-12-01 00:45:00                  17.0\n",
      "4      5.0 2022-12-01 01:00:00                  16.0\n",
      "5      5.0 2022-12-01 01:15:00                  17.0\n",
      "6      5.0 2022-12-01 01:30:00                  18.0\n",
      "7      5.0 2022-12-01 01:45:00                  17.0\n",
      "8      5.0 2022-12-01 02:00:00                  16.0\n",
      "9      5.0 2022-12-01 02:15:00                  18.0\n"
     ]
    }
   ],
   "source": [
    "print(pred_df.head(10))"
   ]
  },
  {
   "cell_type": "code",
   "execution_count": 27,
   "id": "6ec0080b",
   "metadata": {},
   "outputs": [
    {
     "name": "stdout",
     "output_type": "stream",
     "text": [
      "820/820 [==============================] - 2s 2ms/step\n",
      "Testing MSE: 4.25686\n",
      "Testing RMSE: 2.06322\n"
     ]
    }
   ],
   "source": [
    "from sklearn.metrics import mean_squared_error\n",
    "\n",
    "# make predictions on testing dataset\n",
    "test_predictions = model.predict(test_features)\n",
    "\n",
    "# calculate MSE and RMSE for testing dataset\n",
    "test_mse = mean_squared_error(test_target, test_predictions)\n",
    "test_rmse = np.sqrt(test_mse)\n",
    "print('Testing MSE: %.5f' % (test_mse))\n",
    "print('Testing RMSE: %.5f' % (test_rmse))\n"
   ]
  },
  {
   "cell_type": "code",
   "execution_count": null,
   "id": "deca87b2",
   "metadata": {},
   "outputs": [],
   "source": []
  },
  {
   "cell_type": "code",
   "execution_count": 28,
   "id": "5e1426b9",
   "metadata": {},
   "outputs": [],
   "source": [
    "import matplotlib.pyplot as plt\n",
    "%matplotlib inline\n"
   ]
  },
  {
   "cell_type": "code",
   "execution_count": 29,
   "id": "dd1d2e11",
   "metadata": {},
   "outputs": [
    {
     "data": {
      "image/png": "[encoded data removed]",
      "text/plain": [
       "<Figure size 640x480 with 1 Axes>"
      ]
     },
     "metadata": {},
     "output_type": "display_data"
    }
   ],
   "source": [
    "# plot training and retrain loss\n",
    "plt.plot(history.history['loss'], label='Training Loss')\n",
    "plt.plot(history.history['val_loss'], label='Retrain Loss')\n",
    "plt.title('Model Loss')\n",
    "plt.xlabel('Epoch')\n",
    "plt.ylabel('Loss')\n",
    "plt.legend()\n",
    "plt.show()"
   ]
  },
  {
   "cell_type": "code",
   "execution_count": 30,
   "id": "be915d0e",
   "metadata": {},
   "outputs": [],
   "source": [
    "# select the date to plot\n",
    "plot_date = '2022-12-01'\n",
    "\n",
    "# filter the actual dataset and predicted dataset for the selected date\n",
    "actual_df = df[df['initial_timestamp'].dt.date == pd.to_datetime(plot_date).date()]\n",
    "pred_df = pred_df[pred_df['start_timestamp'].dt.date == pd.to_datetime(plot_date).date()]"
   ]
  },
  {
   "cell_type": "code",
   "execution_count": 31,
   "id": "bf9d6c72",
   "metadata": {},
   "outputs": [
    {
     "name": "stdout",
     "output_type": "stream",
     "text": [
      "     room_id     start_timestamp  number_of_astronauts\n",
      "0        5.0 2022-12-01 00:00:00                  16.0\n",
      "1        5.0 2022-12-01 00:15:00                  17.0\n",
      "2        5.0 2022-12-01 00:30:00                  18.0\n",
      "3        5.0 2022-12-01 00:45:00                  17.0\n",
      "4        5.0 2022-12-01 01:00:00                  16.0\n",
      "..       ...                 ...                   ...\n",
      "479      3.0 2022-12-01 22:45:00                   0.0\n",
      "480      3.0 2022-12-01 23:00:00                   0.0\n",
      "481      3.0 2022-12-01 23:15:00                   0.0\n",
      "482      3.0 2022-12-01 23:30:00                   0.0\n",
      "483      3.0 2022-12-01 23:45:00                   0.0\n",
      "\n",
      "[480 rows x 3 columns]\n"
     ]
    }
   ],
   "source": [
    "\n",
    "print(pred_df)"
   ]
  },
  {
   "cell_type": "code",
   "execution_count": 38,
   "id": "e66f1870",
   "metadata": {},
   "outputs": [
    {
     "data": {
      "image/png": "[encoded data removed]",
      "text/plain": [
       "<Figure size 640x480 with 1 Axes>"
      ]
     },
     "metadata": {},
     "output_type": "display_data"
    }
   ],
   "source": [
    "# create a list of all the room ids in the datasets\n",
    "room_ids = list(set(actual_df['room_id']) | set(pred_df['room_id']))\n",
    "\n",
    "# plot the actual and predicted number of occupants for each room on the selected date\n",
    "    # filter the actual and predicted datasets for the current room_id\n",
    "room_actual_df = actual_df[actual_df['room_id']==5]\n",
    "room_pred_df = pred_df[pred_df['room_id']==5]\n",
    "    \n",
    "    # plot the actual and predicted number of occupants for the current room_id\n",
    "plt.plot(room_actual_df['initial_timestamp'], room_actual_df['number_of_astronauts'], label='Room Actual 5')\n",
    "plt.plot(room_pred_df['start_timestamp'], room_pred_df['number_of_astronauts'], label='Room Predicted 5')\n",
    "    \n",
    "plt.title('Actual vs Predicted Number of Occupants on '+plot_date)\n",
    "plt.xlabel('Timestamp')\n",
    "plt.ylabel('Number of Occupants')\n",
    "plt.legend()\n",
    "plt.show()"
   ]
  },
  {
   "cell_type": "code",
   "execution_count": null,
   "id": "ec5a21e3",
   "metadata": {},
   "outputs": [],
   "source": [
    "pred_df.to_csv('predictions_RNN.csv', index=False)"
   ]
  },
  {
   "cell_type": "code",
   "execution_count": null,
   "id": "880a4453",
   "metadata": {},
   "outputs": [],
   "source": []
  }
 ],
 "metadata": {
  "kernelspec": {
   "display_name": "Python 3 (ipykernel)",
   "language": "python",
   "name": "python3"
  },
  "language_info": {
   "codemirror_mode": {
    "name": "ipython",
    "version": 3
   },
   "file_extension": ".py",
   "mimetype": "text/x-python",
   "name": "python",
   "nbconvert_exporter": "python",
   "pygments_lexer": "ipython3",
   "version": "3.9.13"
  }
 },
 "nbformat": 4,
 "nbformat_minor": 5
}
