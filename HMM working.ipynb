{
 "cells": [
  {
   "cell_type": "code",
   "execution_count": null,
   "id": "4cf6e798",
   "metadata": {},
   "outputs": [],
   "source": [
    "import pandas as pd\n",
    "import numpy as np\n",
    "from hmmlearn import hmm\n",
    "\n",
    "# Load the data\n",
    "data = pd.read_csv('output_dataset.csv')\n",
    "\n",
    "# Convert the timestamp to datetime format\n",
    "data['start_timestamp'] = pd.to_datetime(data['start_timestamp'])\n",
    "\n",
    "# Extract hour and minute from timestamp\n",
    "data['hour'] = data['start_timestamp'].dt.hour\n",
    "data['minute'] = data['start_timestamp'].dt.minute\n",
    "\n",
    "data['room_id'] = data['room_id']\n",
    "\n",
    "# Split the data into training, retrain, and testing sets\n",
    "train_data = data.loc[data['start_timestamp'] < '2022-09-01']\n",
    "retrain_data = data.loc[(data['start_timestamp'] >= '2022-09-01') & (data['start_timestamp'] < '2022-10-01')]\n",
    "test_data = data.loc[(data['start_timestamp'] >= '2022-10-01')& (data['start_timestamp'] < '2022-12-02')]\n",
    "\n",
    "# Convert the timestamp to numerical format\n",
    "train_data['timestamp'] = (train_data['hour'] * 60) + train_data['minute']\n",
    "retrain_data['timestamp'] = (retrain_data['hour'] * 60) + retrain_data['minute']\n",
    "test_data['timestamp'] = (test_data['hour'] * 60) + test_data['minute']\n"
   ]
  },
  {
   "cell_type": "code",
   "execution_count": 24,
   "id": "4ec7dfcd",
   "metadata": {},
   "outputs": [
    {
     "name": "stdout",
     "output_type": "stream",
     "text": [
      "        room_id     start_timestamp  number_of_astronauts  hour  minute  \\\n",
      "0             5 2022-01-01 00:00:00                    18     0       0   \n",
      "1             5 2022-01-01 00:15:00                    18     0      15   \n",
      "2             5 2022-01-01 00:30:00                    18     0      30   \n",
      "3             5 2022-01-01 00:45:00                    18     0      45   \n",
      "4             5 2022-01-01 01:00:00                    18     1       0   \n",
      "...         ...                 ...                   ...   ...     ...   \n",
      "163103        3 2022-08-31 22:45:00                     0    22      45   \n",
      "163104        3 2022-08-31 23:00:00                     0    23       0   \n",
      "163105        3 2022-08-31 23:15:00                     0    23      15   \n",
      "163106        3 2022-08-31 23:30:00                     0    23      30   \n",
      "163107        3 2022-08-31 23:45:00                     0    23      45   \n",
      "\n",
      "        timestamp  \n",
      "0               0  \n",
      "1              15  \n",
      "2              30  \n",
      "3              45  \n",
      "4              60  \n",
      "...           ...  \n",
      "163103       1365  \n",
      "163104       1380  \n",
      "163105       1395  \n",
      "163106       1410  \n",
      "163107       1425  \n",
      "\n",
      "[116640 rows x 6 columns]\n"
     ]
    }
   ],
   "source": [
    "print(train_data)"
   ]
  },
  {
   "cell_type": "code",
   "execution_count": 14,
   "id": "42485c8e",
   "metadata": {},
   "outputs": [
    {
     "data": {
      "text/plain": [
       "GaussianHMM(n_components=10)"
      ]
     },
     "execution_count": 14,
     "metadata": {},
     "output_type": "execute_result"
    }
   ],
   "source": [
    "# Train the HMM model\n",
    "n_components = 10\n",
    "model = hmm.GaussianHMM(n_components=n_components)\n",
    "model.fit(train_data[['timestamp', 'number_of_astronauts']])\n"
   ]
  },
  {
   "cell_type": "code",
   "execution_count": null,
   "id": "0d9d5489",
   "metadata": {},
   "outputs": [],
   "source": [
    "# Retrain the model on the training and retraining data\n",
    "full_train_data = pd.concat([train_data, retrain_data])\n",
    "full_train_data['timestamp'] = (full_train_data['hour'] * 60) + full_train_data['minute']\n",
    "model.fit(full_train_data[['timestamp','number_of_astronauts']])\n"
   ]
  },
  {
   "cell_type": "code",
   "execution_count": 15,
   "id": "65901c0f",
   "metadata": {},
   "outputs": [],
   "source": [
    "# Define the time range for which we want to generate predictions\n",
    "start_time = pd.Timestamp('2022-12-01 00:00:00')\n",
    "end_time = pd.Timestamp('2022-12-01 23:59:59')\n",
    "timestamps = pd.date_range(start_time, end_time, freq='15min')\n",
    "\n",
    "# Generate predictions for each room at 15-minute intervals for a day\n",
    "predictions = pd.DataFrame(columns=['room_id', 'start_timestamp', 'number_of_astronauts'])\n",
    "for room_id in data['room_id'].unique():\n",
    "    room_data = pd.DataFrame({'room_id': room_id, 'start_timestamp': timestamps})\n",
    "    room_data['hour'] = room_data['start_timestamp'].dt.hour\n",
    "    room_data['minute'] = room_data['start_timestamp'].dt.minute\n",
    "    room_data['timestamp'] = (room_data['hour'] * 60) + room_data['minute']\n",
    "    room_data['predicted_astronauts'] = model.predict(room_data[['timestamp']])\n",
    "    room_data['predicted_astronauts'] = np.round(room_data['predicted_astronauts']).astype(int)\n",
    "    predictions = pd.concat([predictions, room_data])\n",
    "\n",
    "# Convert the timestamp back to datetime format\n",
    "predictions['start_timestamp'] = pd.to_datetime(predictions['start_timestamp'])\n",
    "\n",
    "# Save the predictions to a CSV file\n",
    "predictions.to_csv('predictions.csv', index=False)\n"
   ]
  },
  {
   "cell_type": "code",
   "execution_count": null,
   "id": "61d3cde1",
   "metadata": {},
   "outputs": [],
   "source": [
    "from sklearn.metrics import mean_absolute_error, mean_squared_error\n",
    "import matplotlib.pyplot as plt\n",
    "\n",
    "# Calculate the MAE and MSE for the predictions\n",
    "mae = mean_absolute_error(test_data['number_of_astronauts'], predictions['predicted_astronauts'])\n",
    "mse = mean_squared_error(test_data['number_of_astronauts'], predictions['predicted_astronauts'])\n",
    "print('MAE:', mae)\n",
    "print('MSE:', mse)"
   ]
  },
  {
   "cell_type": "code",
   "execution_count": null,
   "id": "de2fadea",
   "metadata": {},
   "outputs": [],
   "source": [
    "# Plot the actual vs predicted number of astronauts for each room\n",
    "for room_id in data['room_id'].unique():\n",
    "    room_data = test_data.loc[test_data['room_id'] == room_id]\n",
    "    room_predictions = predictions.loc[predictions['room_id'] == room_id]\n",
    "    plt.plot(room_data['start_timestamp'], room_data['number_of_astronauts'], label='Actual')\n",
    "    plt.plot(room_predictions['start_timestamp'], room_predictions['predicted_astronauts'], label='Predicted')\n",
    "    plt.xlabel('Timestamp')\n",
    "    plt.ylabel('Number of Astronauts')\n",
    "    plt.title('Room ' + str(room_id))\n",
    "    plt.legend()\n",
    "    plt.show()"
   ]
  },
  {
   "cell_type": "code",
   "execution_count": null,
   "id": "85cbe0d8",
   "metadata": {},
   "outputs": [],
   "source": []
  }
 ],
 "metadata": {
  "kernelspec": {
   "display_name": "Python 3 (ipykernel)",
   "language": "python",
   "name": "python3"
  },
  "language_info": {
   "codemirror_mode": {
    "name": "ipython",
    "version": 3
   },
   "file_extension": ".py",
   "mimetype": "text/x-python",
   "name": "python",
   "nbconvert_exporter": "python",
   "pygments_lexer": "ipython3",
   "version": "3.9.13"
  }
 },
 "nbformat": 4,
 "nbformat_minor": 5
}
