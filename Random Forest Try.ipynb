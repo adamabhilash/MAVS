{
 "cells": [
  {
   "cell_type": "code",
   "execution_count": 1,
   "id": "d08af8f4",
   "metadata": {},
   "outputs": [
    {
     "name": "stdout",
     "output_type": "stream",
     "text": [
      "   room_id  start_timestamp  number_of_astronauts\n",
      "0        1     1.641026e+09                     5\n",
      "1        1     1.641027e+09                     7\n",
      "2        1     1.641029e+09                     3\n",
      "3        1     1.641030e+09                     3\n",
      "4        1     1.641112e+09                     5\n"
     ]
    }
   ],
   "source": [
    "import pandas as pd\n",
    "\n",
    "# Load the data from the CSV file\n",
    "data = pd.read_csv(\"output.csv\")\n",
    "\n",
    "# Convert the \"start_timestamp\" column to numerical format\n",
    "data[\"start_timestamp\"] = pd.to_datetime(data[\"start_timestamp\"]).astype(int) / 10**9\n",
    "\n",
    "# Print the first few rows of the data\n",
    "print(data.head())\n"
   ]
  },
  {
   "cell_type": "code",
   "execution_count": 2,
   "id": "f9cf93f4",
   "metadata": {},
   "outputs": [
    {
     "name": "stdout",
     "output_type": "stream",
     "text": [
      "Number of rows in training set: 7235\n",
      "Number of rows in testing set: 1809\n"
     ]
    }
   ],
   "source": [
    "from sklearn.model_selection import train_test_split\n",
    "\n",
    "# Split the data into training and testing sets\n",
    "train_data, test_data = train_test_split(data, test_size=0.2, random_state=42)\n",
    "\n",
    "# Print the number of rows in the training and testing sets\n",
    "print(\"Number of rows in training set:\", len(train_data))\n",
    "print(\"Number of rows in testing set:\", len(test_data))\n"
   ]
  },
  {
   "cell_type": "code",
   "execution_count": 3,
   "id": "908bf4b7",
   "metadata": {},
   "outputs": [
    {
     "data": {
      "text/plain": [
       "RandomForestRegressor(random_state=42)"
      ]
     },
     "execution_count": 3,
     "metadata": {},
     "output_type": "execute_result"
    }
   ],
   "source": [
    "from sklearn.ensemble import RandomForestRegressor\n",
    "\n",
    "# Define the features and target variable\n",
    "features = [\"start_timestamp\"]\n",
    "target = \"number_of_astronauts\"\n",
    "\n",
    "# Create a Random Forest Regressor model\n",
    "model = RandomForestRegressor(n_estimators=100, random_state=42)\n",
    "\n",
    "# Train the model on the training data\n",
    "model.fit(train_data[features], train_data[target])\n"
   ]
  },
  {
   "cell_type": "code",
   "execution_count": 4,
   "id": "b14129dd",
   "metadata": {},
   "outputs": [
    {
     "name": "stdout",
     "output_type": "stream",
     "text": [
      "      start_timestamp  number_of_astronauts\n",
      "0 2022-01-01 05:30:00              4.049762\n",
      "1 2022-01-01 05:45:00              4.049762\n",
      "2 2022-01-01 06:00:00              4.049762\n",
      "3 2022-01-01 06:15:00              4.520429\n",
      "4 2022-01-01 06:30:00              4.602095\n"
     ]
    }
   ],
   "source": [
    "import numpy as np\n",
    "\n",
    "# Define the time intervals\n",
    "start_time = data[\"start_timestamp\"].min()\n",
    "end_time = data[\"start_timestamp\"].max()\n",
    "time_intervals = np.arange(start_time, end_time, 15 * 60)\n",
    "\n",
    "# Create a DataFrame with the time intervals\n",
    "predictions = pd.DataFrame({\n",
    "    \"start_timestamp\": time_intervals\n",
    "})\n",
    "\n",
    "# Convert the \"start_timestamp\" column to numerical format\n",
    "predictions[\"start_timestamp\"] = predictions[\"start_timestamp\"].astype(int)\n",
    "\n",
    "# Make predictions for each time interval\n",
    "predictions[\"number_of_astronauts\"] = model.predict(predictions[features])\n",
    "\n",
    "# Convert the \"start_timestamp\" column back to datetime format\n",
    "predictions[\"start_timestamp\"] = pd.to_datetime(predictions[\"start_timestamp\"], unit=\"s\")\n",
    "\n",
    "# Print the predictions\n",
    "print(predictions.head())\n"
   ]
  },
  {
   "cell_type": "code",
   "execution_count": 5,
   "id": "c2ac2209",
   "metadata": {},
   "outputs": [],
   "source": [
    "# Define the start and end dates for the export\n",
    "start_date = pd.to_datetime(\"2023-01-01\")\n",
    "end_date = pd.to_datetime(\"2023-12-31\")\n",
    "\n",
    "# Filter the predictions for the date range\n",
    "export_data = predictions[(predictions[\"start_timestamp\"] >= start_date) & (predictions[\"start_timestamp\"] <= end_date)]\n",
    "\n",
    "# Export the predictions to a CSV file\n",
    "export_data.to_csv(\"predictions.csv\", index=False)\n"
   ]
  },
  {
   "cell_type": "code",
   "execution_count": null,
   "id": "a8ca16fb",
   "metadata": {},
   "outputs": [],
   "source": []
  }
 ],
 "metadata": {
  "kernelspec": {
   "display_name": "Python 3 (ipykernel)",
   "language": "python",
   "name": "python3"
  },
  "language_info": {
   "codemirror_mode": {
    "name": "ipython",
    "version": 3
   },
   "file_extension": ".py",
   "mimetype": "text/x-python",
   "name": "python",
   "nbconvert_exporter": "python",
   "pygments_lexer": "ipython3",
   "version": "3.9.13"
  }
 },
 "nbformat": 4,
 "nbformat_minor": 5
}
