{
 "cells": [
  {
   "cell_type": "code",
   "execution_count": 3,
   "id": "ec7ae74c",
   "metadata": {},
   "outputs": [],
   "source": [
    "import pandas as pd\n",
    "\n",
    "# Load the dataset\n",
    "df = pd.read_csv(\"output_dataset.csv\")\n",
    "\n",
    "# Convert the timestamps to datetime format\n",
    "df['start_timestamp'] = pd.to_datetime(df['start_timestamp'])\n",
    "\n",
    "# Convert the timestamps to numerical format\n",
    "df['start_timestamp'] = df['start_timestamp'].apply(lambda x: x.timestamp())\n"
   ]
  },
  {
   "cell_type": "code",
   "execution_count": 4,
   "id": "4454c66e",
   "metadata": {},
   "outputs": [],
   "source": [
    "from sklearn.model_selection import train_test_split\n",
    "\n",
    "# Split the dataset into training and testing sets\n",
    "X = df[['room_id', 'start_timestamp']]\n",
    "y = df['number_of_astronauts']\n",
    "X_train, X_test, y_train, y_test = train_test_split(X, y, test_size=0.2, random_state=42)\n"
   ]
  },
  {
   "cell_type": "code",
   "execution_count": 5,
   "id": "857c0f30",
   "metadata": {},
   "outputs": [
    {
     "name": "stdout",
     "output_type": "stream",
     "text": [
      "Linear Regression MSE:  44.76324121489432\n"
     ]
    }
   ],
   "source": [
    "from sklearn.linear_model import LinearRegression\n",
    "from sklearn.metrics import mean_squared_error\n",
    "\n",
    "# Create a linear regression model\n",
    "lr = LinearRegression()\n",
    "\n",
    "# Train the model\n",
    "lr.fit(X_train, y_train)\n",
    "\n",
    "# Make predictions on the testing set\n",
    "y_pred_lr = lr.predict(X_test)\n",
    "\n",
    "# Calculate the mean squared error\n",
    "mse_lr = mean_squared_error(y_test, y_pred_lr)\n",
    "\n",
    "print(\"Linear Regression MSE: \", mse_lr)\n"
   ]
  },
  {
   "cell_type": "code",
   "execution_count": null,
   "id": "aa310a01",
   "metadata": {},
   "outputs": [
    {
     "name": "stderr",
     "output_type": "stream",
     "text": [
      "/Users/abhilash/opt/anaconda3/lib/python3.9/site-packages/statsmodels/tsa/base/tsa_model.py:471: ValueWarning: An unsupported index was provided and will be ignored when e.g. forecasting.\n",
      "  self._init_dates(dates, freq)\n",
      "/Users/abhilash/opt/anaconda3/lib/python3.9/site-packages/statsmodels/tsa/base/tsa_model.py:471: ValueWarning: An unsupported index was provided and will be ignored when e.g. forecasting.\n",
      "  self._init_dates(dates, freq)\n",
      "/Users/abhilash/opt/anaconda3/lib/python3.9/site-packages/statsmodels/tsa/base/tsa_model.py:471: ValueWarning: An unsupported index was provided and will be ignored when e.g. forecasting.\n",
      "  self._init_dates(dates, freq)\n"
     ]
    }
   ],
   "source": [
    "from statsmodels.tsa.arima.model import ARIMA\n",
    "from statsmodels.tools.eval_measures import rmse\n",
    "\n",
    "# Create an ARIMA model\n",
    "arima = ARIMA(y_train, order=(1,1,1))\n",
    "\n",
    "# Train the model\n",
    "arima_fit = arima.fit()\n",
    "\n",
    "# Make predictions on the testing set\n",
    "y_pred_arima = arima_fit.forecast(len(y_test))[0]\n",
    "\n",
    "# Calculate the root mean squared error\n",
    "rmse_arima = rmse(y_test, y_pred_arima)\n",
    "\n",
    "print(\"ARIMA RMSE: \", rmse_arima)\n"
   ]
  },
  {
   "cell_type": "code",
   "execution_count": null,
   "id": "5dbf6bb1",
   "metadata": {},
   "outputs": [],
   "source": []
  }
 ],
 "metadata": {
  "kernelspec": {
   "display_name": "Python 3 (ipykernel)",
   "language": "python",
   "name": "python3"
  },
  "language_info": {
   "codemirror_mode": {
    "name": "ipython",
    "version": 3
   },
   "file_extension": ".py",
   "mimetype": "text/x-python",
   "name": "python",
   "nbconvert_exporter": "python",
   "pygments_lexer": "ipython3",
   "version": "3.9.13"
  }
 },
 "nbformat": 4,
 "nbformat_minor": 5
}
