{
 "cells": [
  {
   "cell_type": "code",
   "execution_count": null,
   "id": "94a8d5ac",
   "metadata": {},
   "outputs": [],
   "source": [
    "import pandas as pd\n",
    "from datetime import timedelta\n",
    "\n",
    "# Load the input data file\n",
    "df = pd.read_csv('current_activities2.csv')\n",
    "\n",
    "# Convert the start and end timestamps to datetime objects\n",
    "df['start_timestamp'] = pd.to_datetime(df['start_timestamp'])\n",
    "df['end_timestamp'] = pd.to_datetime(df['end_timestamp'])\n",
    "\n",
    "# Define the time interval for aggregation\n",
    "interval = timedelta(minutes=15)\n",
    "\n",
    "# Create a list of all the possible time intervals\n",
    "time_intervals = pd.date_range(start=df['start_timestamp'].min().floor('15min'),\n",
    "                               end=df['end_timestamp'].max().ceil('15min'),\n",
    "                               freq=interval)\n",
    "\n",
    "# Create an empty DataFrame to store the output data\n",
    "output_df = pd.DataFrame(columns=['room_id', 'start_timestamp', 'number_of_astronauts'])\n",
    "\n",
    "# Iterate over each time interval and room, and count the number of astronauts present in the room\n",
    "for room in df['room_id'].unique():\n",
    "    for time in time_intervals:\n",
    "        start_time = time\n",
    "        end_time = time + interval\n",
    "        \n",
    "        # Count the number of unique astronauts in the room during the time interval\n",
    "        num_astronauts = df[(df['room_id'] == room) & \n",
    "                            ((df['start_timestamp'] < end_time) & (df['end_timestamp'] > start_time))] \\\n",
    "                            ['astronaut_id'].nunique()\n",
    "        \n",
    "        # Add the data for the time interval and room to the output DataFrame\n",
    "        output_df = output_df.append({'room_id': room,\n",
    "                                      'start_timestamp': start_time,\n",
    "                                      'number_of_astronauts': num_astronauts}, ignore_index=True)\n",
    "\n",
    "# Fill in missing data with 0\n",
    "output_df = output_df.fillna(0)\n",
    "\n",
    "# Save the output DataFrame to a CSV file\n",
    "output_df.to_csv('output_dataset2.csv', index=False)\n"
   ]
  },
  {
   "cell_type": "code",
   "execution_count": null,
   "id": "fb54e6ed",
   "metadata": {},
   "outputs": [],
   "source": []
  }
 ],
 "metadata": {
  "kernelspec": {
   "display_name": "Python 3 (ipykernel)",
   "language": "python",
   "name": "python3"
  },
  "language_info": {
   "codemirror_mode": {
    "name": "ipython",
    "version": 3
   },
   "file_extension": ".py",
   "mimetype": "text/x-python",
   "name": "python",
   "nbconvert_exporter": "python",
   "pygments_lexer": "ipython3",
   "version": "3.9.13"
  }
 },
 "nbformat": 4,
 "nbformat_minor": 5
}
